{
 "cells": [
  {
   "cell_type": "markdown",
   "id": "ca7e8ee8",
   "metadata": {
    "papermill": {
     "duration": 0.009498,
     "end_time": "2022-07-10T12:17:31.529693",
     "exception": false,
     "start_time": "2022-07-10T12:17:31.520195",
     "status": "completed"
    },
    "tags": []
   },
   "source": [
    "# RELATION BETWEEN COVID-19 AND COUNTRIES \n",
    "<font color = \"blue\">\n",
    "Content:\n",
    "\n",
    "1. [Data Preparation](#1)\n",
    "\n",
    "1. [Outlier Detection](#2)\n",
    "\n",
    "1. [Per Capita Income of First and Last 10 Countries](#3)\n",
    "\n",
    "1. [Income Group By Region](#4)\n",
    "\n",
    "1. [Relation Between ;](#5)\n",
    "     \n",
    "    * GDP per capita (current US$)\n",
    " \n",
    "    * Confirmed\n",
    " \n",
    "    * Population age distribution (0-14, %)\n",
    " \n",
    "    * Population age distribution (60+ years, %)\n",
    "\n",
    "1. [Relation Between Death/Recovered Percent and Region](#13)\n",
    "\n",
    "1. [Relation Between Recovered/Death Percent and Region](#6)\n",
    "\n",
    "1. [Heatmap](#7)\n",
    "\n",
    "1. [Linear Regression](#8)\n",
    "\n",
    "1. [Multiple Linear Regression](#9)\n",
    "\n",
    "1. [Polynomial Regression](#10)\n",
    " \n",
    "1. [Random Forest Regression](#11)"
   ]
  },
  {
   "cell_type": "code",
   "execution_count": 1,
   "id": "b76a9197",
   "metadata": {
    "_cell_guid": "b1076dfc-b9ad-4769-8c92-a6c4dae69d19",
    "_uuid": "8f2839f25d086af736a60e9eeb907d3b93b6e0e5",
    "execution": {
     "iopub.execute_input": "2022-07-10T12:17:31.549143Z",
     "iopub.status.busy": "2022-07-10T12:17:31.548533Z",
     "iopub.status.idle": "2022-07-10T12:17:35.575811Z",
     "shell.execute_reply": "2022-07-10T12:17:35.574105Z"
    },
    "papermill": {
     "duration": 4.041105,
     "end_time": "2022-07-10T12:17:35.579603",
     "exception": false,
     "start_time": "2022-07-10T12:17:31.538498",
     "status": "completed"
    },
    "tags": []
   },
   "outputs": [
    {
     "name": "stderr",
     "output_type": "stream",
     "text": [
      "/opt/conda/lib/python3.7/site-packages/geopandas/_compat.py:115: UserWarning: The Shapely GEOS version (3.9.1-CAPI-1.14.2) is incompatible with the GEOS version PyGEOS was compiled with (3.10.1-CAPI-1.16.0). Conversions between both will be slow.\n",
      "  shapely_geos_version, geos_capi_version_string\n"
     ]
    },
    {
     "data": {
      "text/html": [
       "        <script type=\"text/javascript\">\n",
       "        window.PlotlyConfig = {MathJaxConfig: 'local'};\n",
       "        if (window.MathJax && window.MathJax.Hub && window.MathJax.Hub.Config) {window.MathJax.Hub.Config({SVG: {font: \"STIX-Web\"}});}\n",
       "        if (typeof require !== 'undefined') {\n",
       "        require.undef(\"plotly\");\n",
       "        requirejs.config({\n",
       "            paths: {\n",
       "                'plotly': ['https://cdn.plot.ly/plotly-2.12.1.min']\n",
       "            }\n",
       "        });\n",
       "        require(['plotly'], function(Plotly) {\n",
       "            window._Plotly = Plotly;\n",
       "        });\n",
       "        }\n",
       "        </script>\n",
       "        "
      ]
     },
     "metadata": {},
     "output_type": "display_data"
    },
    {
     "name": "stdout",
     "output_type": "stream",
     "text": [
      "/kaggle/input/undata-country-profiles/country_profile_variables.csv\n",
      "/kaggle/input/undata-country-profiles/kiva_country_profile_variables.csv\n",
      "/kaggle/input/corona-virus-report/covid_19_clean_complete.csv\n",
      "/kaggle/input/corona-virus-report/country_wise_latest.csv\n",
      "/kaggle/input/corona-virus-report/day_wise.csv\n",
      "/kaggle/input/corona-virus-report/usa_county_wise.csv\n",
      "/kaggle/input/corona-virus-report/worldometer_data.csv\n",
      "/kaggle/input/corona-virus-report/full_grouped.csv\n"
     ]
    }
   ],
   "source": [
    "# This Python 3 environment comes with many helpful analytics libraries installed\n",
    "# It is defined by the kaggle/python Docker image: https://github.com/kaggle/docker-python\n",
    "# For example, here's several helpful packages to load\n",
    "\n",
    "import numpy as np # linear algebra\n",
    "import pandas as pd # data processing, CSV file I/O (e.g. pd.read_csv)\n",
    "import matplotlib.pyplot as plt\n",
    "import seaborn as sns\n",
    "import plotly.figure_factory as ff\n",
    "from plotly.offline import init_notebook_mode, iplot, plot\n",
    "import plotly as py\n",
    "init_notebook_mode(connected=True)\n",
    "\n",
    "from collections import Counter\n",
    "from sklearn.linear_model import LinearRegression\n",
    "\n",
    "\n",
    "# Input data files are available in the read-only \"../input/\" directory\n",
    "# For example, running this (by clicking run or pressing Shift+Enter) will list all files under the input directory\n",
    "\n",
    "import os\n",
    "for dirname, _, filenames in os.walk('/kaggle/input'):\n",
    "    for filename in filenames:\n",
    "        print(os.path.join(dirname, filename))\n",
    "\n",
    "# You can write up to 20GB to the current directory (/kaggle/working/) that gets preserved as output when you create a version using \"Save & Run All\" \n",
    "# You can also write temporary files to /kaggle/temp/, but they won't be saved outside of the current session"
   ]
  },
  {
   "cell_type": "markdown",
   "id": "7995be90",
   "metadata": {
    "papermill": {
     "duration": 0.009271,
     "end_time": "2022-07-10T12:17:35.598390",
     "exception": false,
     "start_time": "2022-07-10T12:17:35.589119",
     "status": "completed"
    },
    "tags": []
   },
   "source": [
    "## Data Preparation\n",
    "<a id = \"1\">  </a>"
   ]
  },
  {
   "cell_type": "code",
   "execution_count": 2,
   "id": "30188f1f",
   "metadata": {
    "execution": {
     "iopub.execute_input": "2022-07-10T12:17:35.618329Z",
     "iopub.status.busy": "2022-07-10T12:17:35.617931Z",
     "iopub.status.idle": "2022-07-10T12:17:35.656973Z",
     "shell.execute_reply": "2022-07-10T12:17:35.655305Z"
    },
    "papermill": {
     "duration": 0.052003,
     "end_time": "2022-07-10T12:17:35.659850",
     "exception": false,
     "start_time": "2022-07-10T12:17:35.607847",
     "status": "completed"
    },
    "tags": []
   },
   "outputs": [],
   "source": [
    "country_data = pd.read_csv(\"../input/undata-country-profiles/country_profile_variables.csv\")\n",
    "corona_data = pd.read_csv(\"../input/corona-virus-report/country_wise_latest.csv\")"
   ]
  },
  {
   "cell_type": "code",
   "execution_count": 3,
   "id": "3f3170d3",
   "metadata": {
    "execution": {
     "iopub.execute_input": "2022-07-10T12:17:35.680337Z",
     "iopub.status.busy": "2022-07-10T12:17:35.679818Z",
     "iopub.status.idle": "2022-07-10T12:17:35.701814Z",
     "shell.execute_reply": "2022-07-10T12:17:35.700516Z"
    },
    "papermill": {
     "duration": 0.035605,
     "end_time": "2022-07-10T12:17:35.704469",
     "exception": false,
     "start_time": "2022-07-10T12:17:35.668864",
     "status": "completed"
    },
    "tags": []
   },
   "outputs": [
    {
     "data": {
      "text/plain": [
       "Index(['country', 'Region', 'Population density (per km2, 2017)',\n",
       "       'GDP: Gross domestic product (million current US$)',\n",
       "       'GDP per capita (current US$)',\n",
       "       'Population age distribution (0-14 / 60+ years, %)'],\n",
       "      dtype='object')"
      ]
     },
     "execution_count": 3,
     "metadata": {},
     "output_type": "execute_result"
    }
   ],
   "source": [
    "country_data = country_data[[\"country\", \"Region\",\"Population density (per km2, 2017)\", \"GDP: Gross domestic product (million current US$)\", \"GDP per capita (current US$)\", \"Population age distribution (0-14 / 60+ years, %)\"]]\n",
    "country_data.columns"
   ]
  },
  {
   "cell_type": "code",
   "execution_count": 4,
   "id": "c176c983",
   "metadata": {
    "execution": {
     "iopub.execute_input": "2022-07-10T12:17:35.725942Z",
     "iopub.status.busy": "2022-07-10T12:17:35.725508Z",
     "iopub.status.idle": "2022-07-10T12:17:35.751511Z",
     "shell.execute_reply": "2022-07-10T12:17:35.749868Z"
    },
    "papermill": {
     "duration": 0.039904,
     "end_time": "2022-07-10T12:17:35.754376",
     "exception": false,
     "start_time": "2022-07-10T12:17:35.714472",
     "status": "completed"
    },
    "tags": []
   },
   "outputs": [
    {
     "data": {
      "text/html": [
       "<div>\n",
       "<style scoped>\n",
       "    .dataframe tbody tr th:only-of-type {\n",
       "        vertical-align: middle;\n",
       "    }\n",
       "\n",
       "    .dataframe tbody tr th {\n",
       "        vertical-align: top;\n",
       "    }\n",
       "\n",
       "    .dataframe thead th {\n",
       "        text-align: right;\n",
       "    }\n",
       "</style>\n",
       "<table border=\"1\" class=\"dataframe\">\n",
       "  <thead>\n",
       "    <tr style=\"text-align: right;\">\n",
       "      <th></th>\n",
       "      <th>Country/Region</th>\n",
       "      <th>Confirmed</th>\n",
       "      <th>Deaths</th>\n",
       "      <th>Recovered</th>\n",
       "      <th>Active</th>\n",
       "      <th>New cases</th>\n",
       "      <th>New deaths</th>\n",
       "      <th>New recovered</th>\n",
       "      <th>Deaths / 100 Cases</th>\n",
       "      <th>Recovered / 100 Cases</th>\n",
       "      <th>Deaths / 100 Recovered</th>\n",
       "      <th>Confirmed last week</th>\n",
       "      <th>1 week change</th>\n",
       "      <th>1 week % increase</th>\n",
       "      <th>WHO Region</th>\n",
       "    </tr>\n",
       "  </thead>\n",
       "  <tbody>\n",
       "    <tr>\n",
       "      <th>0</th>\n",
       "      <td>Afghanistan</td>\n",
       "      <td>36263</td>\n",
       "      <td>1269</td>\n",
       "      <td>25198</td>\n",
       "      <td>9796</td>\n",
       "      <td>106</td>\n",
       "      <td>10</td>\n",
       "      <td>18</td>\n",
       "      <td>3.50</td>\n",
       "      <td>69.49</td>\n",
       "      <td>5.04</td>\n",
       "      <td>35526</td>\n",
       "      <td>737</td>\n",
       "      <td>2.07</td>\n",
       "      <td>Eastern Mediterranean</td>\n",
       "    </tr>\n",
       "    <tr>\n",
       "      <th>1</th>\n",
       "      <td>Albania</td>\n",
       "      <td>4880</td>\n",
       "      <td>144</td>\n",
       "      <td>2745</td>\n",
       "      <td>1991</td>\n",
       "      <td>117</td>\n",
       "      <td>6</td>\n",
       "      <td>63</td>\n",
       "      <td>2.95</td>\n",
       "      <td>56.25</td>\n",
       "      <td>5.25</td>\n",
       "      <td>4171</td>\n",
       "      <td>709</td>\n",
       "      <td>17.00</td>\n",
       "      <td>Europe</td>\n",
       "    </tr>\n",
       "    <tr>\n",
       "      <th>2</th>\n",
       "      <td>Algeria</td>\n",
       "      <td>27973</td>\n",
       "      <td>1163</td>\n",
       "      <td>18837</td>\n",
       "      <td>7973</td>\n",
       "      <td>616</td>\n",
       "      <td>8</td>\n",
       "      <td>749</td>\n",
       "      <td>4.16</td>\n",
       "      <td>67.34</td>\n",
       "      <td>6.17</td>\n",
       "      <td>23691</td>\n",
       "      <td>4282</td>\n",
       "      <td>18.07</td>\n",
       "      <td>Africa</td>\n",
       "    </tr>\n",
       "    <tr>\n",
       "      <th>3</th>\n",
       "      <td>Andorra</td>\n",
       "      <td>907</td>\n",
       "      <td>52</td>\n",
       "      <td>803</td>\n",
       "      <td>52</td>\n",
       "      <td>10</td>\n",
       "      <td>0</td>\n",
       "      <td>0</td>\n",
       "      <td>5.73</td>\n",
       "      <td>88.53</td>\n",
       "      <td>6.48</td>\n",
       "      <td>884</td>\n",
       "      <td>23</td>\n",
       "      <td>2.60</td>\n",
       "      <td>Europe</td>\n",
       "    </tr>\n",
       "    <tr>\n",
       "      <th>4</th>\n",
       "      <td>Angola</td>\n",
       "      <td>950</td>\n",
       "      <td>41</td>\n",
       "      <td>242</td>\n",
       "      <td>667</td>\n",
       "      <td>18</td>\n",
       "      <td>1</td>\n",
       "      <td>0</td>\n",
       "      <td>4.32</td>\n",
       "      <td>25.47</td>\n",
       "      <td>16.94</td>\n",
       "      <td>749</td>\n",
       "      <td>201</td>\n",
       "      <td>26.84</td>\n",
       "      <td>Africa</td>\n",
       "    </tr>\n",
       "  </tbody>\n",
       "</table>\n",
       "</div>"
      ],
      "text/plain": [
       "  Country/Region  Confirmed  Deaths  Recovered  Active  New cases  New deaths  \\\n",
       "0    Afghanistan      36263    1269      25198    9796        106          10   \n",
       "1        Albania       4880     144       2745    1991        117           6   \n",
       "2        Algeria      27973    1163      18837    7973        616           8   \n",
       "3        Andorra        907      52        803      52         10           0   \n",
       "4         Angola        950      41        242     667         18           1   \n",
       "\n",
       "   New recovered  Deaths / 100 Cases  Recovered / 100 Cases  \\\n",
       "0             18                3.50                  69.49   \n",
       "1             63                2.95                  56.25   \n",
       "2            749                4.16                  67.34   \n",
       "3              0                5.73                  88.53   \n",
       "4              0                4.32                  25.47   \n",
       "\n",
       "   Deaths / 100 Recovered  Confirmed last week  1 week change  \\\n",
       "0                    5.04                35526            737   \n",
       "1                    5.25                 4171            709   \n",
       "2                    6.17                23691           4282   \n",
       "3                    6.48                  884             23   \n",
       "4                   16.94                  749            201   \n",
       "\n",
       "   1 week % increase             WHO Region  \n",
       "0               2.07  Eastern Mediterranean  \n",
       "1              17.00                 Europe  \n",
       "2              18.07                 Africa  \n",
       "3               2.60                 Europe  \n",
       "4              26.84                 Africa  "
      ]
     },
     "execution_count": 4,
     "metadata": {},
     "output_type": "execute_result"
    }
   ],
   "source": [
    "corona_data.head()"
   ]
  },
  {
   "cell_type": "code",
   "execution_count": 5,
   "id": "0b8fef61",
   "metadata": {
    "execution": {
     "iopub.execute_input": "2022-07-10T12:17:35.774419Z",
     "iopub.status.busy": "2022-07-10T12:17:35.774054Z",
     "iopub.status.idle": "2022-07-10T12:17:35.788354Z",
     "shell.execute_reply": "2022-07-10T12:17:35.786998Z"
    },
    "papermill": {
     "duration": 0.027341,
     "end_time": "2022-07-10T12:17:35.790958",
     "exception": false,
     "start_time": "2022-07-10T12:17:35.763617",
     "status": "completed"
    },
    "tags": []
   },
   "outputs": [
    {
     "data": {
      "text/html": [
       "<div>\n",
       "<style scoped>\n",
       "    .dataframe tbody tr th:only-of-type {\n",
       "        vertical-align: middle;\n",
       "    }\n",
       "\n",
       "    .dataframe tbody tr th {\n",
       "        vertical-align: top;\n",
       "    }\n",
       "\n",
       "    .dataframe thead th {\n",
       "        text-align: right;\n",
       "    }\n",
       "</style>\n",
       "<table border=\"1\" class=\"dataframe\">\n",
       "  <thead>\n",
       "    <tr style=\"text-align: right;\">\n",
       "      <th></th>\n",
       "      <th>country</th>\n",
       "      <th>Region</th>\n",
       "      <th>Population density (per km2, 2017)</th>\n",
       "      <th>GDP: Gross domestic product (million current US$)</th>\n",
       "      <th>GDP per capita (current US$)</th>\n",
       "      <th>Population age distribution (0-14 / 60+ years, %)</th>\n",
       "    </tr>\n",
       "  </thead>\n",
       "  <tbody>\n",
       "    <tr>\n",
       "      <th>0</th>\n",
       "      <td>Afghanistan</td>\n",
       "      <td>SouthernAsia</td>\n",
       "      <td>54.4</td>\n",
       "      <td>20270</td>\n",
       "      <td>623.2</td>\n",
       "      <td>43.2/4.1</td>\n",
       "    </tr>\n",
       "    <tr>\n",
       "      <th>1</th>\n",
       "      <td>Albania</td>\n",
       "      <td>SouthernEurope</td>\n",
       "      <td>106.9</td>\n",
       "      <td>11541</td>\n",
       "      <td>3984.2</td>\n",
       "      <td>17.4/19.0</td>\n",
       "    </tr>\n",
       "    <tr>\n",
       "      <th>2</th>\n",
       "      <td>Algeria</td>\n",
       "      <td>NorthernAfrica</td>\n",
       "      <td>17.3</td>\n",
       "      <td>164779</td>\n",
       "      <td>4154.1</td>\n",
       "      <td>29.3/9.4</td>\n",
       "    </tr>\n",
       "    <tr>\n",
       "      <th>3</th>\n",
       "      <td>American Samoa</td>\n",
       "      <td>Polynesia</td>\n",
       "      <td>278.2</td>\n",
       "      <td>-99</td>\n",
       "      <td>-99.0</td>\n",
       "      <td>33.3/9.0</td>\n",
       "    </tr>\n",
       "    <tr>\n",
       "      <th>4</th>\n",
       "      <td>Andorra</td>\n",
       "      <td>SouthernEurope</td>\n",
       "      <td>163.8</td>\n",
       "      <td>2812</td>\n",
       "      <td>39896.4</td>\n",
       "      <td>14.4/19.0</td>\n",
       "    </tr>\n",
       "  </tbody>\n",
       "</table>\n",
       "</div>"
      ],
      "text/plain": [
       "          country          Region  Population density (per km2, 2017)  \\\n",
       "0     Afghanistan    SouthernAsia                                54.4   \n",
       "1         Albania  SouthernEurope                               106.9   \n",
       "2         Algeria  NorthernAfrica                                17.3   \n",
       "3  American Samoa       Polynesia                               278.2   \n",
       "4         Andorra  SouthernEurope                               163.8   \n",
       "\n",
       "   GDP: Gross domestic product (million current US$)  \\\n",
       "0                                              20270   \n",
       "1                                              11541   \n",
       "2                                             164779   \n",
       "3                                                -99   \n",
       "4                                               2812   \n",
       "\n",
       "   GDP per capita (current US$)  \\\n",
       "0                         623.2   \n",
       "1                        3984.2   \n",
       "2                        4154.1   \n",
       "3                         -99.0   \n",
       "4                       39896.4   \n",
       "\n",
       "  Population age distribution (0-14 / 60+ years, %)  \n",
       "0                                          43.2/4.1  \n",
       "1                                         17.4/19.0  \n",
       "2                                          29.3/9.4  \n",
       "3                                          33.3/9.0  \n",
       "4                                         14.4/19.0  "
      ]
     },
     "execution_count": 5,
     "metadata": {},
     "output_type": "execute_result"
    }
   ],
   "source": [
    "country_data.head()"
   ]
  },
  {
   "cell_type": "code",
   "execution_count": 6,
   "id": "44923b24",
   "metadata": {
    "execution": {
     "iopub.execute_input": "2022-07-10T12:17:35.811656Z",
     "iopub.status.busy": "2022-07-10T12:17:35.811256Z",
     "iopub.status.idle": "2022-07-10T12:17:35.818220Z",
     "shell.execute_reply": "2022-07-10T12:17:35.817121Z"
    },
    "papermill": {
     "duration": 0.020097,
     "end_time": "2022-07-10T12:17:35.820624",
     "exception": false,
     "start_time": "2022-07-10T12:17:35.800527",
     "status": "completed"
    },
    "tags": []
   },
   "outputs": [],
   "source": [
    "corona_data = corona_data[[\"Country/Region\", \"Confirmed\", \"Deaths\", \"Recovered\"]]\n",
    "corona_data.rename(columns = {\"Country/Region\" : \"country\"}, inplace  = True)"
   ]
  },
  {
   "cell_type": "code",
   "execution_count": 7,
   "id": "b033f44a",
   "metadata": {
    "execution": {
     "iopub.execute_input": "2022-07-10T12:17:35.840825Z",
     "iopub.status.busy": "2022-07-10T12:17:35.840102Z",
     "iopub.status.idle": "2022-07-10T12:17:35.860241Z",
     "shell.execute_reply": "2022-07-10T12:17:35.859165Z"
    },
    "papermill": {
     "duration": 0.033234,
     "end_time": "2022-07-10T12:17:35.862715",
     "exception": false,
     "start_time": "2022-07-10T12:17:35.829481",
     "status": "completed"
    },
    "tags": []
   },
   "outputs": [],
   "source": [
    "df = pd.merge(country_data, corona_data, on = \"country\").reset_index()\n",
    "df.drop(columns = \"index\", inplace = True)"
   ]
  },
  {
   "cell_type": "code",
   "execution_count": 8,
   "id": "2e2e6cd3",
   "metadata": {
    "execution": {
     "iopub.execute_input": "2022-07-10T12:17:35.882441Z",
     "iopub.status.busy": "2022-07-10T12:17:35.881857Z",
     "iopub.status.idle": "2022-07-10T12:17:35.899549Z",
     "shell.execute_reply": "2022-07-10T12:17:35.898459Z"
    },
    "papermill": {
     "duration": 0.032158,
     "end_time": "2022-07-10T12:17:35.903739",
     "exception": false,
     "start_time": "2022-07-10T12:17:35.871581",
     "status": "completed"
    },
    "tags": []
   },
   "outputs": [
    {
     "name": "stdout",
     "output_type": "stream",
     "text": [
      "<class 'pandas.core.frame.DataFrame'>\n",
      "RangeIndex: 166 entries, 0 to 165\n",
      "Data columns (total 9 columns):\n",
      " #   Column                                             Non-Null Count  Dtype  \n",
      "---  ------                                             --------------  -----  \n",
      " 0   country                                            166 non-null    object \n",
      " 1   Region                                             166 non-null    object \n",
      " 2   Population density (per km2, 2017)                 166 non-null    float64\n",
      " 3   GDP: Gross domestic product (million current US$)  166 non-null    int64  \n",
      " 4   GDP per capita (current US$)                       166 non-null    float64\n",
      " 5   Population age distribution (0-14 / 60+ years, %)  166 non-null    object \n",
      " 6   Confirmed                                          166 non-null    int64  \n",
      " 7   Deaths                                             166 non-null    int64  \n",
      " 8   Recovered                                          166 non-null    int64  \n",
      "dtypes: float64(2), int64(4), object(3)\n",
      "memory usage: 11.8+ KB\n"
     ]
    }
   ],
   "source": [
    "df.info()"
   ]
  },
  {
   "cell_type": "code",
   "execution_count": 9,
   "id": "ea7d7c29",
   "metadata": {
    "execution": {
     "iopub.execute_input": "2022-07-10T12:17:35.927739Z",
     "iopub.status.busy": "2022-07-10T12:17:35.926571Z",
     "iopub.status.idle": "2022-07-10T12:17:35.933416Z",
     "shell.execute_reply": "2022-07-10T12:17:35.932362Z"
    },
    "papermill": {
     "duration": 0.021622,
     "end_time": "2022-07-10T12:17:35.936648",
     "exception": false,
     "start_time": "2022-07-10T12:17:35.915026",
     "status": "completed"
    },
    "tags": []
   },
   "outputs": [],
   "source": [
    "df_ = (df[\"Population age distribution (0-14 / 60+ years, %)\"].str.split(\"[/]\", expand = True))"
   ]
  },
  {
   "cell_type": "code",
   "execution_count": 10,
   "id": "4ddd4a98",
   "metadata": {
    "execution": {
     "iopub.execute_input": "2022-07-10T12:17:35.956340Z",
     "iopub.status.busy": "2022-07-10T12:17:35.955679Z",
     "iopub.status.idle": "2022-07-10T12:17:35.983110Z",
     "shell.execute_reply": "2022-07-10T12:17:35.981918Z"
    },
    "papermill": {
     "duration": 0.040333,
     "end_time": "2022-07-10T12:17:35.985936",
     "exception": false,
     "start_time": "2022-07-10T12:17:35.945603",
     "status": "completed"
    },
    "tags": []
   },
   "outputs": [
    {
     "data": {
      "text/html": [
       "<div>\n",
       "<style scoped>\n",
       "    .dataframe tbody tr th:only-of-type {\n",
       "        vertical-align: middle;\n",
       "    }\n",
       "\n",
       "    .dataframe tbody tr th {\n",
       "        vertical-align: top;\n",
       "    }\n",
       "\n",
       "    .dataframe thead th {\n",
       "        text-align: right;\n",
       "    }\n",
       "</style>\n",
       "<table border=\"1\" class=\"dataframe\">\n",
       "  <thead>\n",
       "    <tr style=\"text-align: right;\">\n",
       "      <th></th>\n",
       "      <th>Population age distribution (0-14, %)</th>\n",
       "      <th>Population age distribution (60+ years, %)</th>\n",
       "      <th>country</th>\n",
       "      <th>Region</th>\n",
       "      <th>Population density (per km2, 2017)</th>\n",
       "      <th>GDP: Gross domestic product (million current US$)</th>\n",
       "      <th>GDP per capita (current US$)</th>\n",
       "      <th>Confirmed</th>\n",
       "      <th>Deaths</th>\n",
       "      <th>Recovered</th>\n",
       "    </tr>\n",
       "  </thead>\n",
       "  <tbody>\n",
       "    <tr>\n",
       "      <th>0</th>\n",
       "      <td>43.2</td>\n",
       "      <td>4.1</td>\n",
       "      <td>Afghanistan</td>\n",
       "      <td>SouthernAsia</td>\n",
       "      <td>54.4</td>\n",
       "      <td>20270</td>\n",
       "      <td>623.2</td>\n",
       "      <td>36263</td>\n",
       "      <td>1269</td>\n",
       "      <td>25198</td>\n",
       "    </tr>\n",
       "    <tr>\n",
       "      <th>1</th>\n",
       "      <td>17.4</td>\n",
       "      <td>19.0</td>\n",
       "      <td>Albania</td>\n",
       "      <td>SouthernEurope</td>\n",
       "      <td>106.9</td>\n",
       "      <td>11541</td>\n",
       "      <td>3984.2</td>\n",
       "      <td>4880</td>\n",
       "      <td>144</td>\n",
       "      <td>2745</td>\n",
       "    </tr>\n",
       "    <tr>\n",
       "      <th>2</th>\n",
       "      <td>29.3</td>\n",
       "      <td>9.4</td>\n",
       "      <td>Algeria</td>\n",
       "      <td>NorthernAfrica</td>\n",
       "      <td>17.3</td>\n",
       "      <td>164779</td>\n",
       "      <td>4154.1</td>\n",
       "      <td>27973</td>\n",
       "      <td>1163</td>\n",
       "      <td>18837</td>\n",
       "    </tr>\n",
       "    <tr>\n",
       "      <th>3</th>\n",
       "      <td>14.4</td>\n",
       "      <td>19.0</td>\n",
       "      <td>Andorra</td>\n",
       "      <td>SouthernEurope</td>\n",
       "      <td>163.8</td>\n",
       "      <td>2812</td>\n",
       "      <td>39896.4</td>\n",
       "      <td>907</td>\n",
       "      <td>52</td>\n",
       "      <td>803</td>\n",
       "    </tr>\n",
       "    <tr>\n",
       "      <th>4</th>\n",
       "      <td>46.8</td>\n",
       "      <td>4.0</td>\n",
       "      <td>Angola</td>\n",
       "      <td>MiddleAfrica</td>\n",
       "      <td>23.9</td>\n",
       "      <td>117955</td>\n",
       "      <td>4714.1</td>\n",
       "      <td>950</td>\n",
       "      <td>41</td>\n",
       "      <td>242</td>\n",
       "    </tr>\n",
       "    <tr>\n",
       "      <th>...</th>\n",
       "      <td>...</td>\n",
       "      <td>...</td>\n",
       "      <td>...</td>\n",
       "      <td>...</td>\n",
       "      <td>...</td>\n",
       "      <td>...</td>\n",
       "      <td>...</td>\n",
       "      <td>...</td>\n",
       "      <td>...</td>\n",
       "      <td>...</td>\n",
       "    </tr>\n",
       "    <tr>\n",
       "      <th>161</th>\n",
       "      <td>28.0</td>\n",
       "      <td>7.6</td>\n",
       "      <td>Uzbekistan</td>\n",
       "      <td>CentralAsia</td>\n",
       "      <td>75.0</td>\n",
       "      <td>69004</td>\n",
       "      <td>2308.3</td>\n",
       "      <td>21209</td>\n",
       "      <td>121</td>\n",
       "      <td>11674</td>\n",
       "    </tr>\n",
       "    <tr>\n",
       "      <th>162</th>\n",
       "      <td>28.1</td>\n",
       "      <td>5.4</td>\n",
       "      <td>Western Sahara</td>\n",
       "      <td>NorthernAfrica</td>\n",
       "      <td>2.1</td>\n",
       "      <td>-99</td>\n",
       "      <td>-99.0</td>\n",
       "      <td>10</td>\n",
       "      <td>1</td>\n",
       "      <td>8</td>\n",
       "    </tr>\n",
       "    <tr>\n",
       "      <th>163</th>\n",
       "      <td>39.9</td>\n",
       "      <td>4.6</td>\n",
       "      <td>Yemen</td>\n",
       "      <td>WesternAsia</td>\n",
       "      <td>53.5</td>\n",
       "      <td>29688</td>\n",
       "      <td>1106.4</td>\n",
       "      <td>1691</td>\n",
       "      <td>483</td>\n",
       "      <td>833</td>\n",
       "    </tr>\n",
       "    <tr>\n",
       "      <th>164</th>\n",
       "      <td>44.8</td>\n",
       "      <td>3.7</td>\n",
       "      <td>Zambia</td>\n",
       "      <td>EasternAfrica</td>\n",
       "      <td>23.0</td>\n",
       "      <td>21255</td>\n",
       "      <td>1311.1</td>\n",
       "      <td>4552</td>\n",
       "      <td>140</td>\n",
       "      <td>2815</td>\n",
       "    </tr>\n",
       "    <tr>\n",
       "      <th>165</th>\n",
       "      <td>41.2</td>\n",
       "      <td>4.2</td>\n",
       "      <td>Zimbabwe</td>\n",
       "      <td>EasternAfrica</td>\n",
       "      <td>42.7</td>\n",
       "      <td>13893</td>\n",
       "      <td>890.4</td>\n",
       "      <td>2704</td>\n",
       "      <td>36</td>\n",
       "      <td>542</td>\n",
       "    </tr>\n",
       "  </tbody>\n",
       "</table>\n",
       "<p>166 rows × 10 columns</p>\n",
       "</div>"
      ],
      "text/plain": [
       "    Population age distribution (0-14, %)  \\\n",
       "0                                    43.2   \n",
       "1                                    17.4   \n",
       "2                                    29.3   \n",
       "3                                    14.4   \n",
       "4                                    46.8   \n",
       "..                                    ...   \n",
       "161                                  28.0   \n",
       "162                                  28.1   \n",
       "163                                  39.9   \n",
       "164                                  44.8   \n",
       "165                                  41.2   \n",
       "\n",
       "    Population age distribution (60+ years, %)         country  \\\n",
       "0                                          4.1     Afghanistan   \n",
       "1                                         19.0         Albania   \n",
       "2                                          9.4         Algeria   \n",
       "3                                         19.0         Andorra   \n",
       "4                                          4.0          Angola   \n",
       "..                                         ...             ...   \n",
       "161                                        7.6      Uzbekistan   \n",
       "162                                        5.4  Western Sahara   \n",
       "163                                        4.6           Yemen   \n",
       "164                                        3.7          Zambia   \n",
       "165                                        4.2        Zimbabwe   \n",
       "\n",
       "             Region  Population density (per km2, 2017)  \\\n",
       "0      SouthernAsia                                54.4   \n",
       "1    SouthernEurope                               106.9   \n",
       "2    NorthernAfrica                                17.3   \n",
       "3    SouthernEurope                               163.8   \n",
       "4      MiddleAfrica                                23.9   \n",
       "..              ...                                 ...   \n",
       "161     CentralAsia                                75.0   \n",
       "162  NorthernAfrica                                 2.1   \n",
       "163     WesternAsia                                53.5   \n",
       "164   EasternAfrica                                23.0   \n",
       "165   EasternAfrica                                42.7   \n",
       "\n",
       "     GDP: Gross domestic product (million current US$)  \\\n",
       "0                                                20270   \n",
       "1                                                11541   \n",
       "2                                               164779   \n",
       "3                                                 2812   \n",
       "4                                               117955   \n",
       "..                                                 ...   \n",
       "161                                              69004   \n",
       "162                                                -99   \n",
       "163                                              29688   \n",
       "164                                              21255   \n",
       "165                                              13893   \n",
       "\n",
       "     GDP per capita (current US$)  Confirmed  Deaths  Recovered  \n",
       "0                           623.2      36263    1269      25198  \n",
       "1                          3984.2       4880     144       2745  \n",
       "2                          4154.1      27973    1163      18837  \n",
       "3                         39896.4        907      52        803  \n",
       "4                          4714.1        950      41        242  \n",
       "..                            ...        ...     ...        ...  \n",
       "161                        2308.3      21209     121      11674  \n",
       "162                         -99.0         10       1          8  \n",
       "163                        1106.4       1691     483        833  \n",
       "164                        1311.1       4552     140       2815  \n",
       "165                         890.4       2704      36        542  \n",
       "\n",
       "[166 rows x 10 columns]"
      ]
     },
     "execution_count": 10,
     "metadata": {},
     "output_type": "execute_result"
    }
   ],
   "source": [
    "df = pd.concat([df_, df], axis = 1)\n",
    "df.drop(columns = \"Population age distribution (0-14 / 60+ years, %)\", inplace = True)\n",
    "df.rename(columns = {0 : \"Population age distribution (0-14, %)\", 1 : \"Population age distribution (60+ years, %)\"}, inplace  = True)\n",
    "df"
   ]
  },
  {
   "cell_type": "code",
   "execution_count": 11,
   "id": "c633ab12",
   "metadata": {
    "execution": {
     "iopub.execute_input": "2022-07-10T12:17:36.006859Z",
     "iopub.status.busy": "2022-07-10T12:17:36.006427Z",
     "iopub.status.idle": "2022-07-10T12:17:36.012448Z",
     "shell.execute_reply": "2022-07-10T12:17:36.011477Z"
    },
    "papermill": {
     "duration": 0.019282,
     "end_time": "2022-07-10T12:17:36.014638",
     "exception": false,
     "start_time": "2022-07-10T12:17:35.995356",
     "status": "completed"
    },
    "tags": []
   },
   "outputs": [],
   "source": [
    "df = df.iloc[:,[2,3,4,5,6,7,8,9,0,1]]"
   ]
  },
  {
   "cell_type": "code",
   "execution_count": 12,
   "id": "55225947",
   "metadata": {
    "execution": {
     "iopub.execute_input": "2022-07-10T12:17:36.035501Z",
     "iopub.status.busy": "2022-07-10T12:17:36.035118Z",
     "iopub.status.idle": "2022-07-10T12:17:36.053976Z",
     "shell.execute_reply": "2022-07-10T12:17:36.052477Z"
    },
    "papermill": {
     "duration": 0.03229,
     "end_time": "2022-07-10T12:17:36.056144",
     "exception": false,
     "start_time": "2022-07-10T12:17:36.023854",
     "status": "completed"
    },
    "tags": []
   },
   "outputs": [
    {
     "data": {
      "text/html": [
       "<div>\n",
       "<style scoped>\n",
       "    .dataframe tbody tr th:only-of-type {\n",
       "        vertical-align: middle;\n",
       "    }\n",
       "\n",
       "    .dataframe tbody tr th {\n",
       "        vertical-align: top;\n",
       "    }\n",
       "\n",
       "    .dataframe thead th {\n",
       "        text-align: right;\n",
       "    }\n",
       "</style>\n",
       "<table border=\"1\" class=\"dataframe\">\n",
       "  <thead>\n",
       "    <tr style=\"text-align: right;\">\n",
       "      <th></th>\n",
       "      <th>country</th>\n",
       "      <th>Region</th>\n",
       "      <th>Population density (per km2, 2017)</th>\n",
       "      <th>GDP: Gross domestic product (million current US$)</th>\n",
       "      <th>GDP per capita (current US$)</th>\n",
       "      <th>Confirmed</th>\n",
       "      <th>Deaths</th>\n",
       "      <th>Recovered</th>\n",
       "      <th>Population age distribution (0-14, %)</th>\n",
       "      <th>Population age distribution (60+ years, %)</th>\n",
       "    </tr>\n",
       "  </thead>\n",
       "  <tbody>\n",
       "    <tr>\n",
       "      <th>0</th>\n",
       "      <td>Afghanistan</td>\n",
       "      <td>SouthernAsia</td>\n",
       "      <td>54.4</td>\n",
       "      <td>20270</td>\n",
       "      <td>623.2</td>\n",
       "      <td>36263</td>\n",
       "      <td>1269</td>\n",
       "      <td>25198</td>\n",
       "      <td>43.2</td>\n",
       "      <td>4.1</td>\n",
       "    </tr>\n",
       "    <tr>\n",
       "      <th>1</th>\n",
       "      <td>Albania</td>\n",
       "      <td>SouthernEurope</td>\n",
       "      <td>106.9</td>\n",
       "      <td>11541</td>\n",
       "      <td>3984.2</td>\n",
       "      <td>4880</td>\n",
       "      <td>144</td>\n",
       "      <td>2745</td>\n",
       "      <td>17.4</td>\n",
       "      <td>19.0</td>\n",
       "    </tr>\n",
       "    <tr>\n",
       "      <th>2</th>\n",
       "      <td>Algeria</td>\n",
       "      <td>NorthernAfrica</td>\n",
       "      <td>17.3</td>\n",
       "      <td>164779</td>\n",
       "      <td>4154.1</td>\n",
       "      <td>27973</td>\n",
       "      <td>1163</td>\n",
       "      <td>18837</td>\n",
       "      <td>29.3</td>\n",
       "      <td>9.4</td>\n",
       "    </tr>\n",
       "    <tr>\n",
       "      <th>3</th>\n",
       "      <td>Andorra</td>\n",
       "      <td>SouthernEurope</td>\n",
       "      <td>163.8</td>\n",
       "      <td>2812</td>\n",
       "      <td>39896.4</td>\n",
       "      <td>907</td>\n",
       "      <td>52</td>\n",
       "      <td>803</td>\n",
       "      <td>14.4</td>\n",
       "      <td>19.0</td>\n",
       "    </tr>\n",
       "    <tr>\n",
       "      <th>4</th>\n",
       "      <td>Angola</td>\n",
       "      <td>MiddleAfrica</td>\n",
       "      <td>23.9</td>\n",
       "      <td>117955</td>\n",
       "      <td>4714.1</td>\n",
       "      <td>950</td>\n",
       "      <td>41</td>\n",
       "      <td>242</td>\n",
       "      <td>46.8</td>\n",
       "      <td>4.0</td>\n",
       "    </tr>\n",
       "    <tr>\n",
       "      <th>...</th>\n",
       "      <td>...</td>\n",
       "      <td>...</td>\n",
       "      <td>...</td>\n",
       "      <td>...</td>\n",
       "      <td>...</td>\n",
       "      <td>...</td>\n",
       "      <td>...</td>\n",
       "      <td>...</td>\n",
       "      <td>...</td>\n",
       "      <td>...</td>\n",
       "    </tr>\n",
       "    <tr>\n",
       "      <th>161</th>\n",
       "      <td>Uzbekistan</td>\n",
       "      <td>CentralAsia</td>\n",
       "      <td>75.0</td>\n",
       "      <td>69004</td>\n",
       "      <td>2308.3</td>\n",
       "      <td>21209</td>\n",
       "      <td>121</td>\n",
       "      <td>11674</td>\n",
       "      <td>28.0</td>\n",
       "      <td>7.6</td>\n",
       "    </tr>\n",
       "    <tr>\n",
       "      <th>162</th>\n",
       "      <td>Western Sahara</td>\n",
       "      <td>NorthernAfrica</td>\n",
       "      <td>2.1</td>\n",
       "      <td>-99</td>\n",
       "      <td>-99.0</td>\n",
       "      <td>10</td>\n",
       "      <td>1</td>\n",
       "      <td>8</td>\n",
       "      <td>28.1</td>\n",
       "      <td>5.4</td>\n",
       "    </tr>\n",
       "    <tr>\n",
       "      <th>163</th>\n",
       "      <td>Yemen</td>\n",
       "      <td>WesternAsia</td>\n",
       "      <td>53.5</td>\n",
       "      <td>29688</td>\n",
       "      <td>1106.4</td>\n",
       "      <td>1691</td>\n",
       "      <td>483</td>\n",
       "      <td>833</td>\n",
       "      <td>39.9</td>\n",
       "      <td>4.6</td>\n",
       "    </tr>\n",
       "    <tr>\n",
       "      <th>164</th>\n",
       "      <td>Zambia</td>\n",
       "      <td>EasternAfrica</td>\n",
       "      <td>23.0</td>\n",
       "      <td>21255</td>\n",
       "      <td>1311.1</td>\n",
       "      <td>4552</td>\n",
       "      <td>140</td>\n",
       "      <td>2815</td>\n",
       "      <td>44.8</td>\n",
       "      <td>3.7</td>\n",
       "    </tr>\n",
       "    <tr>\n",
       "      <th>165</th>\n",
       "      <td>Zimbabwe</td>\n",
       "      <td>EasternAfrica</td>\n",
       "      <td>42.7</td>\n",
       "      <td>13893</td>\n",
       "      <td>890.4</td>\n",
       "      <td>2704</td>\n",
       "      <td>36</td>\n",
       "      <td>542</td>\n",
       "      <td>41.2</td>\n",
       "      <td>4.2</td>\n",
       "    </tr>\n",
       "  </tbody>\n",
       "</table>\n",
       "<p>166 rows × 10 columns</p>\n",
       "</div>"
      ],
      "text/plain": [
       "            country          Region  Population density (per km2, 2017)  \\\n",
       "0       Afghanistan    SouthernAsia                                54.4   \n",
       "1           Albania  SouthernEurope                               106.9   \n",
       "2           Algeria  NorthernAfrica                                17.3   \n",
       "3           Andorra  SouthernEurope                               163.8   \n",
       "4            Angola    MiddleAfrica                                23.9   \n",
       "..              ...             ...                                 ...   \n",
       "161      Uzbekistan     CentralAsia                                75.0   \n",
       "162  Western Sahara  NorthernAfrica                                 2.1   \n",
       "163           Yemen     WesternAsia                                53.5   \n",
       "164          Zambia   EasternAfrica                                23.0   \n",
       "165        Zimbabwe   EasternAfrica                                42.7   \n",
       "\n",
       "     GDP: Gross domestic product (million current US$)  \\\n",
       "0                                                20270   \n",
       "1                                                11541   \n",
       "2                                               164779   \n",
       "3                                                 2812   \n",
       "4                                               117955   \n",
       "..                                                 ...   \n",
       "161                                              69004   \n",
       "162                                                -99   \n",
       "163                                              29688   \n",
       "164                                              21255   \n",
       "165                                              13893   \n",
       "\n",
       "     GDP per capita (current US$)  Confirmed  Deaths  Recovered  \\\n",
       "0                           623.2      36263    1269      25198   \n",
       "1                          3984.2       4880     144       2745   \n",
       "2                          4154.1      27973    1163      18837   \n",
       "3                         39896.4        907      52        803   \n",
       "4                          4714.1        950      41        242   \n",
       "..                            ...        ...     ...        ...   \n",
       "161                        2308.3      21209     121      11674   \n",
       "162                         -99.0         10       1          8   \n",
       "163                        1106.4       1691     483        833   \n",
       "164                        1311.1       4552     140       2815   \n",
       "165                         890.4       2704      36        542   \n",
       "\n",
       "    Population age distribution (0-14, %)  \\\n",
       "0                                    43.2   \n",
       "1                                    17.4   \n",
       "2                                    29.3   \n",
       "3                                    14.4   \n",
       "4                                    46.8   \n",
       "..                                    ...   \n",
       "161                                  28.0   \n",
       "162                                  28.1   \n",
       "163                                  39.9   \n",
       "164                                  44.8   \n",
       "165                                  41.2   \n",
       "\n",
       "    Population age distribution (60+ years, %)  \n",
       "0                                          4.1  \n",
       "1                                         19.0  \n",
       "2                                          9.4  \n",
       "3                                         19.0  \n",
       "4                                          4.0  \n",
       "..                                         ...  \n",
       "161                                        7.6  \n",
       "162                                        5.4  \n",
       "163                                        4.6  \n",
       "164                                        3.7  \n",
       "165                                        4.2  \n",
       "\n",
       "[166 rows x 10 columns]"
      ]
     },
     "execution_count": 12,
     "metadata": {},
     "output_type": "execute_result"
    }
   ],
   "source": [
    "df"
   ]
  },
  {
   "cell_type": "markdown",
   "id": "a99b2638",
   "metadata": {
    "papermill": {
     "duration": 0.009556,
     "end_time": "2022-07-10T12:17:36.075974",
     "exception": false,
     "start_time": "2022-07-10T12:17:36.066418",
     "status": "completed"
    },
    "tags": []
   },
   "source": [
    "## Outlier Detection\n",
    "<a id = \"2\"> </a>"
   ]
  },
  {
   "cell_type": "code",
   "execution_count": 13,
   "id": "e5538a5b",
   "metadata": {
    "execution": {
     "iopub.execute_input": "2022-07-10T12:17:36.097459Z",
     "iopub.status.busy": "2022-07-10T12:17:36.097085Z",
     "iopub.status.idle": "2022-07-10T12:17:36.104832Z",
     "shell.execute_reply": "2022-07-10T12:17:36.103508Z"
    },
    "papermill": {
     "duration": 0.021805,
     "end_time": "2022-07-10T12:17:36.107305",
     "exception": false,
     "start_time": "2022-07-10T12:17:36.085500",
     "status": "completed"
    },
    "tags": []
   },
   "outputs": [],
   "source": [
    "def detect_outliers(df,features):\n",
    "    outlier_indices = []\n",
    "    \n",
    "    for c in features:\n",
    "        # 1st quartile\n",
    "        Q1 = np.percentile(df[c],25)\n",
    "        # 3rd quartile\n",
    "        Q3 = np.percentile(df[c],75)\n",
    "        # IQR\n",
    "        IQR = Q3 - Q1\n",
    "        # Outlier step\n",
    "        outlier_step = IQR * 1.5\n",
    "        # detect outlier and their indeces\n",
    "        outlier_list_col = df[(df[c] < Q1 - outlier_step) | (df[c] > Q3 + outlier_step)].index\n",
    "        # store indeces\n",
    "        outlier_indices.extend(outlier_list_col)\n",
    "    \n",
    "    outlier_indices = Counter(outlier_indices)\n",
    "    multiple_outliers = list(i for i, v in outlier_indices.items() if v > 2)\n",
    "    \n",
    "    return multiple_outliers"
   ]
  },
  {
   "cell_type": "code",
   "execution_count": 14,
   "id": "902574c1",
   "metadata": {
    "execution": {
     "iopub.execute_input": "2022-07-10T12:17:36.129117Z",
     "iopub.status.busy": "2022-07-10T12:17:36.128724Z",
     "iopub.status.idle": "2022-07-10T12:17:36.141740Z",
     "shell.execute_reply": "2022-07-10T12:17:36.140919Z"
    },
    "papermill": {
     "duration": 0.027297,
     "end_time": "2022-07-10T12:17:36.144402",
     "exception": false,
     "start_time": "2022-07-10T12:17:36.117105",
     "status": "completed"
    },
    "tags": []
   },
   "outputs": [
    {
     "name": "stdout",
     "output_type": "stream",
     "text": [
      "<class 'pandas.core.frame.DataFrame'>\n",
      "RangeIndex: 166 entries, 0 to 165\n",
      "Data columns (total 10 columns):\n",
      " #   Column                                             Non-Null Count  Dtype  \n",
      "---  ------                                             --------------  -----  \n",
      " 0   country                                            166 non-null    object \n",
      " 1   Region                                             166 non-null    object \n",
      " 2   Population density (per km2, 2017)                 166 non-null    float64\n",
      " 3   GDP: Gross domestic product (million current US$)  166 non-null    int64  \n",
      " 4   GDP per capita (current US$)                       166 non-null    float64\n",
      " 5   Confirmed                                          166 non-null    int64  \n",
      " 6   Deaths                                             166 non-null    int64  \n",
      " 7   Recovered                                          166 non-null    int64  \n",
      " 8   Population age distribution (0-14, %)              166 non-null    object \n",
      " 9   Population age distribution (60+ years, %)         165 non-null    object \n",
      "dtypes: float64(2), int64(4), object(4)\n",
      "memory usage: 13.1+ KB\n"
     ]
    }
   ],
   "source": [
    "df.info()"
   ]
  },
  {
   "cell_type": "code",
   "execution_count": 15,
   "id": "61324a2d",
   "metadata": {
    "execution": {
     "iopub.execute_input": "2022-07-10T12:17:36.169569Z",
     "iopub.status.busy": "2022-07-10T12:17:36.168799Z",
     "iopub.status.idle": "2022-07-10T12:17:36.198751Z",
     "shell.execute_reply": "2022-07-10T12:17:36.197914Z"
    },
    "papermill": {
     "duration": 0.045243,
     "end_time": "2022-07-10T12:17:36.201833",
     "exception": false,
     "start_time": "2022-07-10T12:17:36.156590",
     "status": "completed"
    },
    "tags": []
   },
   "outputs": [
    {
     "data": {
      "text/html": [
       "<div>\n",
       "<style scoped>\n",
       "    .dataframe tbody tr th:only-of-type {\n",
       "        vertical-align: middle;\n",
       "    }\n",
       "\n",
       "    .dataframe tbody tr th {\n",
       "        vertical-align: top;\n",
       "    }\n",
       "\n",
       "    .dataframe thead th {\n",
       "        text-align: right;\n",
       "    }\n",
       "</style>\n",
       "<table border=\"1\" class=\"dataframe\">\n",
       "  <thead>\n",
       "    <tr style=\"text-align: right;\">\n",
       "      <th></th>\n",
       "      <th>country</th>\n",
       "      <th>Region</th>\n",
       "      <th>Population density (per km2, 2017)</th>\n",
       "      <th>GDP: Gross domestic product (million current US$)</th>\n",
       "      <th>GDP per capita (current US$)</th>\n",
       "      <th>Confirmed</th>\n",
       "      <th>Deaths</th>\n",
       "      <th>Recovered</th>\n",
       "      <th>Population age distribution (0-14, %)</th>\n",
       "      <th>Population age distribution (60+ years, %)</th>\n",
       "    </tr>\n",
       "  </thead>\n",
       "  <tbody>\n",
       "    <tr>\n",
       "      <th>13</th>\n",
       "      <td>Bangladesh</td>\n",
       "      <td>SouthernAsia</td>\n",
       "      <td>1265.0</td>\n",
       "      <td>194466</td>\n",
       "      <td>1207.9</td>\n",
       "      <td>226225</td>\n",
       "      <td>2965</td>\n",
       "      <td>125683</td>\n",
       "      <td>28.4</td>\n",
       "      <td>7.3</td>\n",
       "    </tr>\n",
       "    <tr>\n",
       "      <th>109</th>\n",
       "      <td>Netherlands</td>\n",
       "      <td>WesternEurope</td>\n",
       "      <td>505.2</td>\n",
       "      <td>750318</td>\n",
       "      <td>44332.1</td>\n",
       "      <td>53413</td>\n",
       "      <td>6160</td>\n",
       "      <td>189</td>\n",
       "      <td>16.4</td>\n",
       "      <td>25.0</td>\n",
       "    </tr>\n",
       "    <tr>\n",
       "      <th>6</th>\n",
       "      <td>Argentina</td>\n",
       "      <td>SouthAmerica</td>\n",
       "      <td>16.2</td>\n",
       "      <td>632343</td>\n",
       "      <td>14564.5</td>\n",
       "      <td>167416</td>\n",
       "      <td>3059</td>\n",
       "      <td>72575</td>\n",
       "      <td>24.9</td>\n",
       "      <td>15.4</td>\n",
       "    </tr>\n",
       "    <tr>\n",
       "      <th>22</th>\n",
       "      <td>Brazil</td>\n",
       "      <td>SouthAmerica</td>\n",
       "      <td>25.0</td>\n",
       "      <td>1772591</td>\n",
       "      <td>8528.3</td>\n",
       "      <td>2442375</td>\n",
       "      <td>87618</td>\n",
       "      <td>1846641</td>\n",
       "      <td>21.7</td>\n",
       "      <td>12.6</td>\n",
       "    </tr>\n",
       "    <tr>\n",
       "      <th>29</th>\n",
       "      <td>Canada</td>\n",
       "      <td>NorthernAmerica</td>\n",
       "      <td>4.0</td>\n",
       "      <td>1552808</td>\n",
       "      <td>43205.6</td>\n",
       "      <td>116458</td>\n",
       "      <td>8944</td>\n",
       "      <td>0</td>\n",
       "      <td>16.0</td>\n",
       "      <td>23.5</td>\n",
       "    </tr>\n",
       "    <tr>\n",
       "      <th>33</th>\n",
       "      <td>China</td>\n",
       "      <td>EasternAsia</td>\n",
       "      <td>150.1</td>\n",
       "      <td>11158457</td>\n",
       "      <td>8109.1</td>\n",
       "      <td>86783</td>\n",
       "      <td>4656</td>\n",
       "      <td>78869</td>\n",
       "      <td>17.7</td>\n",
       "      <td>16.2</td>\n",
       "    </tr>\n",
       "    <tr>\n",
       "      <th>54</th>\n",
       "      <td>France</td>\n",
       "      <td>WesternEurope</td>\n",
       "      <td>118.7</td>\n",
       "      <td>2418946</td>\n",
       "      <td>36304.2</td>\n",
       "      <td>220352</td>\n",
       "      <td>30212</td>\n",
       "      <td>81212</td>\n",
       "      <td>18.1</td>\n",
       "      <td>25.7</td>\n",
       "    </tr>\n",
       "    <tr>\n",
       "      <th>58</th>\n",
       "      <td>Germany</td>\n",
       "      <td>WesternEurope</td>\n",
       "      <td>235.6</td>\n",
       "      <td>3363600</td>\n",
       "      <td>41686.2</td>\n",
       "      <td>207112</td>\n",
       "      <td>9125</td>\n",
       "      <td>190314</td>\n",
       "      <td>13.1</td>\n",
       "      <td>28.0</td>\n",
       "    </tr>\n",
       "    <tr>\n",
       "      <th>72</th>\n",
       "      <td>India</td>\n",
       "      <td>SouthernAsia</td>\n",
       "      <td>450.4</td>\n",
       "      <td>2116239</td>\n",
       "      <td>1614.2</td>\n",
       "      <td>1480073</td>\n",
       "      <td>33408</td>\n",
       "      <td>951166</td>\n",
       "      <td>27.8</td>\n",
       "      <td>9.4</td>\n",
       "    </tr>\n",
       "    <tr>\n",
       "      <th>77</th>\n",
       "      <td>Italy</td>\n",
       "      <td>SouthernEurope</td>\n",
       "      <td>201.8</td>\n",
       "      <td>1821580</td>\n",
       "      <td>30462.4</td>\n",
       "      <td>246286</td>\n",
       "      <td>35112</td>\n",
       "      <td>198593</td>\n",
       "      <td>13.5</td>\n",
       "      <td>29.4</td>\n",
       "    </tr>\n",
       "    <tr>\n",
       "      <th>101</th>\n",
       "      <td>Mexico</td>\n",
       "      <td>CentralAmerica</td>\n",
       "      <td>66.4</td>\n",
       "      <td>1140724</td>\n",
       "      <td>8980.9</td>\n",
       "      <td>395489</td>\n",
       "      <td>44022</td>\n",
       "      <td>303810</td>\n",
       "      <td>26.7</td>\n",
       "      <td>10.1</td>\n",
       "    </tr>\n",
       "    <tr>\n",
       "      <th>132</th>\n",
       "      <td>Saudi Arabia</td>\n",
       "      <td>WesternAsia</td>\n",
       "      <td>15.3</td>\n",
       "      <td>653219</td>\n",
       "      <td>20710.6</td>\n",
       "      <td>268934</td>\n",
       "      <td>2760</td>\n",
       "      <td>222936</td>\n",
       "      <td>25.2</td>\n",
       "      <td>5.6</td>\n",
       "    </tr>\n",
       "    <tr>\n",
       "      <th>143</th>\n",
       "      <td>Spain</td>\n",
       "      <td>SouthernEurope</td>\n",
       "      <td>92.9</td>\n",
       "      <td>1192955</td>\n",
       "      <td>25865.4</td>\n",
       "      <td>272421</td>\n",
       "      <td>28432</td>\n",
       "      <td>150376</td>\n",
       "      <td>14.7</td>\n",
       "      <td>25.3</td>\n",
       "    </tr>\n",
       "    <tr>\n",
       "      <th>147</th>\n",
       "      <td>Sweden</td>\n",
       "      <td>NorthernEurope</td>\n",
       "      <td>24.2</td>\n",
       "      <td>495694</td>\n",
       "      <td>50687.5</td>\n",
       "      <td>79395</td>\n",
       "      <td>5700</td>\n",
       "      <td>0</td>\n",
       "      <td>17.5</td>\n",
       "      <td>25.5</td>\n",
       "    </tr>\n",
       "    <tr>\n",
       "      <th>155</th>\n",
       "      <td>Turkey</td>\n",
       "      <td>WesternAsia</td>\n",
       "      <td>104.9</td>\n",
       "      <td>717888</td>\n",
       "      <td>9125.8</td>\n",
       "      <td>227019</td>\n",
       "      <td>5630</td>\n",
       "      <td>210469</td>\n",
       "      <td>25.0</td>\n",
       "      <td>12.0</td>\n",
       "    </tr>\n",
       "    <tr>\n",
       "      <th>159</th>\n",
       "      <td>United Kingdom</td>\n",
       "      <td>NorthernEurope</td>\n",
       "      <td>273.6</td>\n",
       "      <td>2858003</td>\n",
       "      <td>44162.4</td>\n",
       "      <td>301708</td>\n",
       "      <td>45844</td>\n",
       "      <td>1437</td>\n",
       "      <td>17.7</td>\n",
       "      <td>23.9</td>\n",
       "    </tr>\n",
       "    <tr>\n",
       "      <th>124</th>\n",
       "      <td>Qatar</td>\n",
       "      <td>WesternAsia</td>\n",
       "      <td>227.3</td>\n",
       "      <td>164641</td>\n",
       "      <td>73653.4</td>\n",
       "      <td>109597</td>\n",
       "      <td>165</td>\n",
       "      <td>106328</td>\n",
       "      <td>13.9</td>\n",
       "      <td>2.8</td>\n",
       "    </tr>\n",
       "    <tr>\n",
       "      <th>32</th>\n",
       "      <td>Chile</td>\n",
       "      <td>SouthAmerica</td>\n",
       "      <td>24.3</td>\n",
       "      <td>240796</td>\n",
       "      <td>13416.2</td>\n",
       "      <td>347923</td>\n",
       "      <td>9187</td>\n",
       "      <td>319954</td>\n",
       "      <td>20.3</td>\n",
       "      <td>16.0</td>\n",
       "    </tr>\n",
       "    <tr>\n",
       "      <th>34</th>\n",
       "      <td>Colombia</td>\n",
       "      <td>SouthAmerica</td>\n",
       "      <td>44.2</td>\n",
       "      <td>292080</td>\n",
       "      <td>6056.1</td>\n",
       "      <td>257101</td>\n",
       "      <td>8777</td>\n",
       "      <td>131161</td>\n",
       "      <td>23.5</td>\n",
       "      <td>11.6</td>\n",
       "    </tr>\n",
       "    <tr>\n",
       "      <th>74</th>\n",
       "      <td>Iraq</td>\n",
       "      <td>WesternAsia</td>\n",
       "      <td>88.1</td>\n",
       "      <td>164234</td>\n",
       "      <td>4509.0</td>\n",
       "      <td>112585</td>\n",
       "      <td>4458</td>\n",
       "      <td>77144</td>\n",
       "      <td>40.4</td>\n",
       "      <td>5.0</td>\n",
       "    </tr>\n",
       "    <tr>\n",
       "      <th>116</th>\n",
       "      <td>Pakistan</td>\n",
       "      <td>SouthernAsia</td>\n",
       "      <td>255.6</td>\n",
       "      <td>266458</td>\n",
       "      <td>1410.4</td>\n",
       "      <td>274289</td>\n",
       "      <td>5842</td>\n",
       "      <td>241026</td>\n",
       "      <td>34.8</td>\n",
       "      <td>6.7</td>\n",
       "    </tr>\n",
       "    <tr>\n",
       "      <th>120</th>\n",
       "      <td>Peru</td>\n",
       "      <td>SouthAmerica</td>\n",
       "      <td>25.1</td>\n",
       "      <td>190428</td>\n",
       "      <td>6069.1</td>\n",
       "      <td>389717</td>\n",
       "      <td>18418</td>\n",
       "      <td>272547</td>\n",
       "      <td>27.4</td>\n",
       "      <td>10.4</td>\n",
       "    </tr>\n",
       "    <tr>\n",
       "      <th>141</th>\n",
       "      <td>South Africa</td>\n",
       "      <td>SouthernAfrica</td>\n",
       "      <td>46.8</td>\n",
       "      <td>314571</td>\n",
       "      <td>5773.0</td>\n",
       "      <td>452529</td>\n",
       "      <td>7067</td>\n",
       "      <td>274925</td>\n",
       "      <td>29.0</td>\n",
       "      <td>8.4</td>\n",
       "    </tr>\n",
       "  </tbody>\n",
       "</table>\n",
       "</div>"
      ],
      "text/plain": [
       "            country           Region  Population density (per km2, 2017)  \\\n",
       "13       Bangladesh     SouthernAsia                              1265.0   \n",
       "109     Netherlands    WesternEurope                               505.2   \n",
       "6         Argentina     SouthAmerica                                16.2   \n",
       "22           Brazil     SouthAmerica                                25.0   \n",
       "29           Canada  NorthernAmerica                                 4.0   \n",
       "33            China      EasternAsia                               150.1   \n",
       "54           France    WesternEurope                               118.7   \n",
       "58          Germany    WesternEurope                               235.6   \n",
       "72            India     SouthernAsia                               450.4   \n",
       "77            Italy   SouthernEurope                               201.8   \n",
       "101          Mexico   CentralAmerica                                66.4   \n",
       "132    Saudi Arabia      WesternAsia                                15.3   \n",
       "143           Spain   SouthernEurope                                92.9   \n",
       "147          Sweden   NorthernEurope                                24.2   \n",
       "155          Turkey      WesternAsia                               104.9   \n",
       "159  United Kingdom   NorthernEurope                               273.6   \n",
       "124           Qatar      WesternAsia                               227.3   \n",
       "32            Chile     SouthAmerica                                24.3   \n",
       "34         Colombia     SouthAmerica                                44.2   \n",
       "74             Iraq      WesternAsia                                88.1   \n",
       "116        Pakistan     SouthernAsia                               255.6   \n",
       "120            Peru     SouthAmerica                                25.1   \n",
       "141    South Africa   SouthernAfrica                                46.8   \n",
       "\n",
       "     GDP: Gross domestic product (million current US$)  \\\n",
       "13                                              194466   \n",
       "109                                             750318   \n",
       "6                                               632343   \n",
       "22                                             1772591   \n",
       "29                                             1552808   \n",
       "33                                            11158457   \n",
       "54                                             2418946   \n",
       "58                                             3363600   \n",
       "72                                             2116239   \n",
       "77                                             1821580   \n",
       "101                                            1140724   \n",
       "132                                             653219   \n",
       "143                                            1192955   \n",
       "147                                             495694   \n",
       "155                                             717888   \n",
       "159                                            2858003   \n",
       "124                                             164641   \n",
       "32                                              240796   \n",
       "34                                              292080   \n",
       "74                                              164234   \n",
       "116                                             266458   \n",
       "120                                             190428   \n",
       "141                                             314571   \n",
       "\n",
       "     GDP per capita (current US$)  Confirmed  Deaths  Recovered  \\\n",
       "13                         1207.9     226225    2965     125683   \n",
       "109                       44332.1      53413    6160        189   \n",
       "6                         14564.5     167416    3059      72575   \n",
       "22                         8528.3    2442375   87618    1846641   \n",
       "29                        43205.6     116458    8944          0   \n",
       "33                         8109.1      86783    4656      78869   \n",
       "54                        36304.2     220352   30212      81212   \n",
       "58                        41686.2     207112    9125     190314   \n",
       "72                         1614.2    1480073   33408     951166   \n",
       "77                        30462.4     246286   35112     198593   \n",
       "101                        8980.9     395489   44022     303810   \n",
       "132                       20710.6     268934    2760     222936   \n",
       "143                       25865.4     272421   28432     150376   \n",
       "147                       50687.5      79395    5700          0   \n",
       "155                        9125.8     227019    5630     210469   \n",
       "159                       44162.4     301708   45844       1437   \n",
       "124                       73653.4     109597     165     106328   \n",
       "32                        13416.2     347923    9187     319954   \n",
       "34                         6056.1     257101    8777     131161   \n",
       "74                         4509.0     112585    4458      77144   \n",
       "116                        1410.4     274289    5842     241026   \n",
       "120                        6069.1     389717   18418     272547   \n",
       "141                        5773.0     452529    7067     274925   \n",
       "\n",
       "    Population age distribution (0-14, %)  \\\n",
       "13                                   28.4   \n",
       "109                                  16.4   \n",
       "6                                    24.9   \n",
       "22                                   21.7   \n",
       "29                                   16.0   \n",
       "33                                   17.7   \n",
       "54                                   18.1   \n",
       "58                                   13.1   \n",
       "72                                   27.8   \n",
       "77                                   13.5   \n",
       "101                                  26.7   \n",
       "132                                  25.2   \n",
       "143                                  14.7   \n",
       "147                                  17.5   \n",
       "155                                  25.0   \n",
       "159                                  17.7   \n",
       "124                                  13.9   \n",
       "32                                   20.3   \n",
       "34                                   23.5   \n",
       "74                                   40.4   \n",
       "116                                  34.8   \n",
       "120                                  27.4   \n",
       "141                                  29.0   \n",
       "\n",
       "    Population age distribution (60+ years, %)  \n",
       "13                                         7.3  \n",
       "109                                       25.0  \n",
       "6                                         15.4  \n",
       "22                                        12.6  \n",
       "29                                        23.5  \n",
       "33                                        16.2  \n",
       "54                                        25.7  \n",
       "58                                        28.0  \n",
       "72                                         9.4  \n",
       "77                                        29.4  \n",
       "101                                       10.1  \n",
       "132                                        5.6  \n",
       "143                                       25.3  \n",
       "147                                       25.5  \n",
       "155                                       12.0  \n",
       "159                                       23.9  \n",
       "124                                        2.8  \n",
       "32                                        16.0  \n",
       "34                                        11.6  \n",
       "74                                         5.0  \n",
       "116                                        6.7  \n",
       "120                                       10.4  \n",
       "141                                        8.4  "
      ]
     },
     "execution_count": 15,
     "metadata": {},
     "output_type": "execute_result"
    }
   ],
   "source": [
    "df.loc[detect_outliers(df,[\"Population density (per km2, 2017)\",\"GDP: Gross domestic product (million current US$)\", \"GDP per capita (current US$)\",\"Confirmed\",\"Deaths\", \"Recovered\"])]"
   ]
  },
  {
   "cell_type": "code",
   "execution_count": 16,
   "id": "bc6606ca",
   "metadata": {
    "execution": {
     "iopub.execute_input": "2022-07-10T12:17:36.225645Z",
     "iopub.status.busy": "2022-07-10T12:17:36.224957Z",
     "iopub.status.idle": "2022-07-10T12:17:36.344517Z",
     "shell.execute_reply": "2022-07-10T12:17:36.343541Z"
    },
    "papermill": {
     "duration": 0.133878,
     "end_time": "2022-07-10T12:17:36.346870",
     "exception": false,
     "start_time": "2022-07-10T12:17:36.212992",
     "status": "completed"
    },
    "tags": []
   },
   "outputs": [],
   "source": [
    "while len(df.loc[detect_outliers(df,[\"Population density (per km2, 2017)\",\"GDP: Gross domestic product (million current US$)\", \"GDP per capita (current US$)\",\"Confirmed\",\"Deaths\", \"Recovered\"])].index):\n",
    "    df = df.drop(detect_outliers(df,[\"Population density (per km2, 2017)\",\"GDP: Gross domestic product (million current US$)\", \"GDP per capita (current US$)\",\"Confirmed\",\"Deaths\", \"Recovered\"])).reset_index(drop = True)"
   ]
  },
  {
   "cell_type": "code",
   "execution_count": 17,
   "id": "6da57a85",
   "metadata": {
    "execution": {
     "iopub.execute_input": "2022-07-10T12:17:36.370624Z",
     "iopub.status.busy": "2022-07-10T12:17:36.370201Z",
     "iopub.status.idle": "2022-07-10T12:17:36.389721Z",
     "shell.execute_reply": "2022-07-10T12:17:36.388664Z"
    },
    "papermill": {
     "duration": 0.033832,
     "end_time": "2022-07-10T12:17:36.392161",
     "exception": false,
     "start_time": "2022-07-10T12:17:36.358329",
     "status": "completed"
    },
    "tags": []
   },
   "outputs": [
    {
     "data": {
      "text/html": [
       "<div>\n",
       "<style scoped>\n",
       "    .dataframe tbody tr th:only-of-type {\n",
       "        vertical-align: middle;\n",
       "    }\n",
       "\n",
       "    .dataframe tbody tr th {\n",
       "        vertical-align: top;\n",
       "    }\n",
       "\n",
       "    .dataframe thead th {\n",
       "        text-align: right;\n",
       "    }\n",
       "</style>\n",
       "<table border=\"1\" class=\"dataframe\">\n",
       "  <thead>\n",
       "    <tr style=\"text-align: right;\">\n",
       "      <th></th>\n",
       "      <th>country</th>\n",
       "      <th>Region</th>\n",
       "      <th>Population density (per km2, 2017)</th>\n",
       "      <th>GDP: Gross domestic product (million current US$)</th>\n",
       "      <th>GDP per capita (current US$)</th>\n",
       "      <th>Confirmed</th>\n",
       "      <th>Deaths</th>\n",
       "      <th>Recovered</th>\n",
       "      <th>Population age distribution (0-14, %)</th>\n",
       "      <th>Population age distribution (60+ years, %)</th>\n",
       "    </tr>\n",
       "  </thead>\n",
       "  <tbody>\n",
       "  </tbody>\n",
       "</table>\n",
       "</div>"
      ],
      "text/plain": [
       "Empty DataFrame\n",
       "Columns: [country, Region, Population density (per km2, 2017), GDP: Gross domestic product (million current US$), GDP per capita (current US$), Confirmed, Deaths, Recovered, Population age distribution (0-14, %), Population age distribution (60+ years, %)]\n",
       "Index: []"
      ]
     },
     "execution_count": 17,
     "metadata": {},
     "output_type": "execute_result"
    }
   ],
   "source": [
    "df.loc[detect_outliers(df,[\"Population density (per km2, 2017)\",\"GDP: Gross domestic product (million current US$)\", \"GDP per capita (current US$)\",\"Confirmed\",\"Deaths\", \"Recovered\"])]"
   ]
  },
  {
   "cell_type": "markdown",
   "id": "e155ac17",
   "metadata": {
    "papermill": {
     "duration": 0.010068,
     "end_time": "2022-07-10T12:17:36.412599",
     "exception": false,
     "start_time": "2022-07-10T12:17:36.402531",
     "status": "completed"
    },
    "tags": []
   },
   "source": [
    "## Per Capita Income of First and Last 10 Countries\n",
    "<a id = \"3\">  </a>"
   ]
  },
  {
   "cell_type": "code",
   "execution_count": 18,
   "id": "8030175c",
   "metadata": {
    "execution": {
     "iopub.execute_input": "2022-07-10T12:17:36.435562Z",
     "iopub.status.busy": "2022-07-10T12:17:36.434818Z",
     "iopub.status.idle": "2022-07-10T12:17:36.871410Z",
     "shell.execute_reply": "2022-07-10T12:17:36.870219Z"
    },
    "papermill": {
     "duration": 0.450975,
     "end_time": "2022-07-10T12:17:36.873934",
     "exception": false,
     "start_time": "2022-07-10T12:17:36.422959",
     "status": "completed"
    },
    "tags": []
   },
   "outputs": [
    {
     "data": {
      "image/png": "[encoded data removed]",
      "text/plain": [
       "<Figure size 720x288 with 2 Axes>"
      ]
     },
     "metadata": {
      "needs_background": "light"
     },
     "output_type": "display_data"
    }
   ],
   "source": [
    "sorted_data = pd.DataFrame(df.sort_values(ascending = False, by =\"GDP per capita (current US$)\"))\n",
    "\n",
    "fig, ax =plt.subplots(1,2, figsize = (10, 4))\n",
    "fig.subplots_adjust(wspace=0.500)\n",
    "\n",
    "sns.barplot(data = sorted_data, x = sorted_data['country'][:10], y = \"GDP per capita (current US$)\", ax = ax[0])\n",
    "ax[0].set_xlabel(\"First 10 Countries\")\n",
    "ax[0].set_xticklabels(sorted_data[\"country\"][:10].values, rotation = 90)\n",
    "\n",
    "sns.barplot(data = sorted_data, x = sorted_data['country'][-10:],  y = \"GDP per capita (current US$)\", ax = ax[1])\n",
    "ax[1].set_xlabel(\"Last 10 Countries\")\n",
    "ax[1].set_xticklabels(sorted_data[\"country\"][-10:].values, rotation = 90)\n",
    "ax[1].set_ylabel(\"\")\n",
    "\n",
    "plt.title(\"Per Capita Income of First and Last 10 Countries\", x = -0.3, y = 1.1)\n",
    "plt.show()"
   ]
  },
  {
   "cell_type": "markdown",
   "id": "8d084d17",
   "metadata": {
    "papermill": {
     "duration": 0.014176,
     "end_time": "2022-07-10T12:17:36.899366",
     "exception": false,
     "start_time": "2022-07-10T12:17:36.885190",
     "status": "completed"
    },
    "tags": []
   },
   "source": [
    "## Income Group By Region\n",
    "<a id = \"4\">  </a>"
   ]
  },
  {
   "cell_type": "code",
   "execution_count": 19,
   "id": "d9dab51a",
   "metadata": {
    "execution": {
     "iopub.execute_input": "2022-07-10T12:17:36.926987Z",
     "iopub.status.busy": "2022-07-10T12:17:36.925754Z",
     "iopub.status.idle": "2022-07-10T12:17:36.935894Z",
     "shell.execute_reply": "2022-07-10T12:17:36.934674Z"
    },
    "papermill": {
     "duration": 0.026305,
     "end_time": "2022-07-10T12:17:36.938371",
     "exception": false,
     "start_time": "2022-07-10T12:17:36.912066",
     "status": "completed"
    },
    "tags": []
   },
   "outputs": [
    {
     "data": {
      "text/plain": [
       "EasternAfrica        15\n",
       "WesternAfrica        12\n",
       "Caribbean            11\n",
       "SouthernEurope       10\n",
       "MiddleAfrica          6\n",
       "WesternAsia           5\n",
       "SouthAmerica          4\n",
       "NorthernEurope        4\n",
       "SouthernAsia          4\n",
       "South-easternAsia     3\n",
       "SouthernAfrica        3\n",
       "CentralAmerica        3\n",
       "NorthernAfrica        3\n",
       "Melanesia             2\n",
       "EasternEurope         2\n",
       "WesternEurope         2\n",
       "NorthernAmerica       1\n",
       "EasternAsia           1\n",
       "Oceania               1\n",
       "CentralAsia           1\n",
       "Name: Region, dtype: int64"
      ]
     },
     "execution_count": 19,
     "metadata": {},
     "output_type": "execute_result"
    }
   ],
   "source": [
    "df[\"Region\"].value_counts()"
   ]
  },
  {
   "cell_type": "code",
   "execution_count": 20,
   "id": "c036b72b",
   "metadata": {
    "execution": {
     "iopub.execute_input": "2022-07-10T12:17:36.963773Z",
     "iopub.status.busy": "2022-07-10T12:17:36.962552Z",
     "iopub.status.idle": "2022-07-10T12:17:37.314180Z",
     "shell.execute_reply": "2022-07-10T12:17:37.312878Z"
    },
    "papermill": {
     "duration": 0.367284,
     "end_time": "2022-07-10T12:17:37.317012",
     "exception": false,
     "start_time": "2022-07-10T12:17:36.949728",
     "status": "completed"
    },
    "tags": []
   },
   "outputs": [
    {
     "data": {
      "image/png": "[encoded data removed]",
      "text/plain": [
       "<Figure size 576x576 with 1 Axes>"
      ]
     },
     "metadata": {},
     "output_type": "display_data"
    }
   ],
   "source": [
    "labels = df.Region.value_counts().index\n",
    "sizes = []\n",
    "\n",
    "for i in labels:\n",
    "    avg_in = (df[df[\"Region\"] == i][\"GDP per capita (current US$)\"].values.sum())/(df[df[\"Region\"] == i][\"country\"].count())\n",
    "    sizes.append(avg_in)\n",
    "\n",
    "fig, ax = plt.subplots(figsize = (8,8))\n",
    "explode = np.zeros(len(labels))\n",
    "\n",
    "plt.pie(sizes , explode = explode, labels = labels, autopct = \"%.1f%%\")\n",
    "plt.title(\"Income Group By Region\", fontsize=20)\n",
    "plt.show()"
   ]
  },
  {
   "cell_type": "code",
   "execution_count": 21,
   "id": "a156fb14",
   "metadata": {
    "execution": {
     "iopub.execute_input": "2022-07-10T12:17:37.345510Z",
     "iopub.status.busy": "2022-07-10T12:17:37.345144Z",
     "iopub.status.idle": "2022-07-10T12:17:38.231499Z",
     "shell.execute_reply": "2022-07-10T12:17:38.230215Z"
    },
    "papermill": {
     "duration": 0.903257,
     "end_time": "2022-07-10T12:17:38.233864",
     "exception": false,
     "start_time": "2022-07-10T12:17:37.330607",
     "status": "completed"
    },
    "tags": []
   },
   "outputs": [
    {
     "data": {
      "application/vnd.plotly.v1+json": {
       "config": {
        "linkText": "Export to plot.ly",
        "plotlyServerURL": "https://plot.ly",
        "showLink": false
       },
       "data": [
        {
         "domain": {
          "x": [
           0,
           0.5
          ]
         },
         "hole": 0.2,
         "hoverinfo": "label+percent+name",
         "labels": [
          "EasternAfrica",
          "WesternAfrica",
          "Caribbean",
          "SouthernEurope",
          "MiddleAfrica",
          "WesternAsia",
          "SouthAmerica",
          "NorthernEurope",
          "SouthernAsia",
          "South-easternAsia",
          "SouthernAfrica",
          "CentralAmerica",
          "NorthernAfrica",
          "Melanesia",
          "EasternEurope",
          "WesternEurope",
          "NorthernAmerica",
          "EasternAsia",
          "Oceania",
          "CentralAsia"
         ],
         "name": "Income Group By Region",
         "type": "pie",
         "values": [
          2248.046666666667,
          852.1583333333332,
          11924.70909090909,
          17792.239999999998,
          5302.983333333334,
          8010.240000000001,
          8253.075,
          24033.95,
          4205.45,
          3132.9666666666667,
          3991.6000000000004,
          5963.766666666666,
          3016.7000000000003,
          3859.75,
          14216.55,
          167681.2,
          36976.7,
          3973.4,
          38294.3,
          925.9
         ]
        }
       ],
       "layout": {
        "annotations": [
         {
          "font": {
           "size": 17
          },
          "showarrow": false,
          "text": "Income Group By Region",
          "x": 0.15,
          "y": 1.2
         }
        ],
        "template": {
         "data": {
          "bar": [
           {
            "error_x": {
             "color": "#2a3f5f"
            },
            "error_y": {
             "color": "#2a3f5f"
            },
            "marker": {
             "line": {
              "color": "#E5ECF6",
              "width": 0.5
             },
             "pattern": {
              "fillmode": "overlay",
              "size": 10,
              "solidity": 0.2
             }
            },
            "type": "bar"
           }
          ],
          "barpolar": [
           {
            "marker": {
             "line": {
              "color": "#E5ECF6",
              "width": 0.5
             },
             "pattern": {
              "fillmode": "overlay",
              "size": 10,
              "solidity": 0.2
             }
            },
            "type": "barpolar"
           }
          ],
          "carpet": [
           {
            "aaxis": {
             "endlinecolor": "#2a3f5f",
             "gridcolor": "white",
             "linecolor": "white",
             "minorgridcolor": "white",
             "startlinecolor": "#2a3f5f"
            },
            "baxis": {
             "endlinecolor": "#2a3f5f",
             "gridcolor": "white",
             "linecolor": "white",
             "minorgridcolor": "white",
             "startlinecolor": "#2a3f5f"
            },
            "type": "carpet"
           }
          ],
          "choropleth": [
           {
            "colorbar": {
             "outlinewidth": 0,
             "ticks": ""
            },
            "type": "choropleth"
           }
          ],
          "contour": [
           {
            "colorbar": {
             "outlinewidth": 0,
             "ticks": ""
            },
            "colorscale": [
             [
              0.0,
              "#0d0887"
             ],
             [
              0.1111111111111111,
              "#46039f"
             ],
             [
              0.2222222222222222,
              "#7201a8"
             ],
             [
              0.3333333333333333,
              "#9c179e"
             ],
             [
              0.4444444444444444,
              "#bd3786"
             ],
             [
              0.5555555555555556,
              "#d8576b"
             ],
             [
              0.6666666666666666,
              "#ed7953"
             ],
             [
              0.7777777777777778,
              "#fb9f3a"
             ],
             [
              0.8888888888888888,
              "#fdca26"
             ],
             [
              1.0,
              "#f0f921"
             ]
            ],
            "type": "contour"
           }
          ],
          "contourcarpet": [
           {
            "colorbar": {
             "outlinewidth": 0,
             "ticks": ""
            },
            "type": "contourcarpet"
           }
          ],
          "heatmap": [
           {
            "colorbar": {
             "outlinewidth": 0,
             "ticks": ""
            },
            "colorscale": [
             [
              0.0,
              "#0d0887"
             ],
             [
              0.1111111111111111,
              "#46039f"
             ],
             [
              0.2222222222222222,
              "#7201a8"
             ],
             [
              0.3333333333333333,
              "#9c179e"
             ],
             [
              0.4444444444444444,
              "#bd3786"
             ],
             [
              0.5555555555555556,
              "#d8576b"
             ],
             [
              0.6666666666666666,
              "#ed7953"
             ],
             [
              0.7777777777777778,
              "#fb9f3a"
             ],
             [
              0.8888888888888888,
              "#fdca26"
             ],
             [
              1.0,
              "#f0f921"
             ]
            ],
            "type": "heatmap"
           }
          ],
          "heatmapgl": [
           {
            "colorbar": {
             "outlinewidth": 0,
             "ticks": ""
            },
            "colorscale": [
             [
              0.0,
              "#0d0887"
             ],
             [
              0.1111111111111111,
              "#46039f"
             ],
             [
              0.2222222222222222,
              "#7201a8"
             ],
             [
              0.3333333333333333,
              "#9c179e"
             ],
             [
              0.4444444444444444,
              "#bd3786"
             ],
             [
              0.5555555555555556,
              "#d8576b"
             ],
             [
              0.6666666666666666,
              "#ed7953"
             ],
             [
              0.7777777777777778,
              "#fb9f3a"
             ],
             [
              0.8888888888888888,
              "#fdca26"
             ],
             [
              1.0,
              "#f0f921"
             ]
            ],
            "type": "heatmapgl"
           }
          ],
          "histogram": [
           {
            "marker": {
             "pattern": {
              "fillmode": "overlay",
              "size": 10,
              "solidity": 0.2
             }
            },
            "type": "histogram"
           }
          ],
          "histogram2d": [
           {
            "colorbar": {
             "outlinewidth": 0,
             "ticks": ""
            },
            "colorscale": [
             [
              0.0,
              "#0d0887"
             ],
             [
              0.1111111111111111,
              "#46039f"
             ],
             [
              0.2222222222222222,
              "#7201a8"
             ],
             [
              0.3333333333333333,
              "#9c179e"
             ],
             [
              0.4444444444444444,
              "#bd3786"
             ],
             [
              0.5555555555555556,
              "#d8576b"
             ],
             [
              0.6666666666666666,
              "#ed7953"
             ],
             [
              0.7777777777777778,
              "#fb9f3a"
             ],
             [
              0.8888888888888888,
              "#fdca26"
             ],
             [
              1.0,
              "#f0f921"
             ]
            ],
            "type": "histogram2d"
           }
          ],
          "histogram2dcontour": [
           {
            "colorbar": {
             "outlinewidth": 0,
             "ticks": ""
            },
            "colorscale": [
             [
              0.0,
              "#0d0887"
             ],
             [
              0.1111111111111111,
              "#46039f"
             ],
             [
              0.2222222222222222,
              "#7201a8"
             ],
             [
              0.3333333333333333,
              "#9c179e"
             ],
             [
              0.4444444444444444,
              "#bd3786"
             ],
             [
              0.5555555555555556,
              "#d8576b"
             ],
             [
              0.6666666666666666,
              "#ed7953"
             ],
             [
              0.7777777777777778,
              "#fb9f3a"
             ],
             [
              0.8888888888888888,
              "#fdca26"
             ],
             [
              1.0,
              "#f0f921"
             ]
            ],
            "type": "histogram2dcontour"
           }
          ],
          "mesh3d": [
           {
            "colorbar": {
             "outlinewidth": 0,
             "ticks": ""
            },
            "type": "mesh3d"
           }
          ],
          "parcoords": [
           {
            "line": {
             "colorbar": {
              "outlinewidth": 0,
              "ticks": ""
             }
            },
            "type": "parcoords"
           }
          ],
          "pie": [
           {
            "automargin": true,
            "type": "pie"
           }
          ],
          "scatter": [
           {
            "fillpattern": {
             "fillmode": "overlay",
             "size": 10,
             "solidity": 0.2
            },
            "type": "scatter"
           }
          ],
          "scatter3d": [
           {
            "line": {
             "colorbar": {
              "outlinewidth": 0,
              "ticks": ""
             }
            },
            "marker": {
             "colorbar": {
              "outlinewidth": 0,
              "ticks": ""
             }
            },
            "type": "scatter3d"
           }
          ],
          "scattercarpet": [
           {
            "marker": {
             "colorbar": {
              "outlinewidth": 0,
              "ticks": ""
             }
            },
            "type": "scattercarpet"
           }
          ],
          "scattergeo": [
           {
            "marker": {
             "colorbar": {
              "outlinewidth": 0,
              "ticks": ""
             }
            },
            "type": "scattergeo"
           }
          ],
          "scattergl": [
           {
            "marker": {
             "colorbar": {
              "outlinewidth": 0,
              "ticks": ""
             }
            },
            "type": "scattergl"
           }
          ],
          "scattermapbox": [
           {
            "marker": {
             "colorbar": {
              "outlinewidth": 0,
              "ticks": ""
             }
            },
            "type": "scattermapbox"
           }
          ],
          "scatterpolar": [
           {
            "marker": {
             "colorbar": {
              "outlinewidth": 0,
              "ticks": ""
             }
            },
            "type": "scatterpolar"
           }
          ],
          "scatterpolargl": [
           {
            "marker": {
             "colorbar": {
              "outlinewidth": 0,
              "ticks": ""
             }
            },
            "type": "scatterpolargl"
           }
          ],
          "scatterternary": [
           {
            "marker": {
             "colorbar": {
              "outlinewidth": 0,
              "ticks": ""
             }
            },
            "type": "scatterternary"
           }
          ],
          "surface": [
           {
            "colorbar": {
             "outlinewidth": 0,
             "ticks": ""
            },
            "colorscale": [
             [
              0.0,
              "#0d0887"
             ],
             [
              0.1111111111111111,
              "#46039f"
             ],
             [
              0.2222222222222222,
              "#7201a8"
             ],
             [
              0.3333333333333333,
              "#9c179e"
             ],
             [
              0.4444444444444444,
              "#bd3786"
             ],
             [
              0.5555555555555556,
              "#d8576b"
             ],
             [
              0.6666666666666666,
              "#ed7953"
             ],
             [
              0.7777777777777778,
              "#fb9f3a"
             ],
             [
              0.8888888888888888,
              "#fdca26"
             ],
             [
              1.0,
              "#f0f921"
             ]
            ],
            "type": "surface"
           }
          ],
          "table": [
           {
            "cells": {
             "fill": {
              "color": "#EBF0F8"
             },
             "line": {
              "color": "white"
             }
            },
            "header": {
             "fill": {
              "color": "#C8D4E3"
             },
             "line": {
              "color": "white"
             }
            },
            "type": "table"
           }
          ]
         },
         "layout": {
          "annotationdefaults": {
           "arrowcolor": "#2a3f5f",
           "arrowhead": 0,
           "arrowwidth": 1
          },
          "autotypenumbers": "strict",
          "coloraxis": {
           "colorbar": {
            "outlinewidth": 0,
            "ticks": ""
           }
          },
          "colorscale": {
           "diverging": [
            [
             0,
             "#8e0152"
            ],
            [
             0.1,
             "#c51b7d"
            ],
            [
             0.2,
             "#de77ae"
            ],
            [
             0.3,
             "#f1b6da"
            ],
            [
             0.4,
             "#fde0ef"
            ],
            [
             0.5,
             "#f7f7f7"
            ],
            [
             0.6,
             "#e6f5d0"
            ],
            [
             0.7,
             "#b8e186"
            ],
            [
             0.8,
             "#7fbc41"
            ],
            [
             0.9,
             "#4d9221"
            ],
            [
             1,
             "#276419"
            ]
           ],
           "sequential": [
            [
             0.0,
             "#0d0887"
            ],
            [
             0.1111111111111111,
             "#46039f"
            ],
            [
             0.2222222222222222,
             "#7201a8"
            ],
            [
             0.3333333333333333,
             "#9c179e"
            ],
            [
             0.4444444444444444,
             "#bd3786"
            ],
            [
             0.5555555555555556,
             "#d8576b"
            ],
            [
             0.6666666666666666,
             "#ed7953"
            ],
            [
             0.7777777777777778,
             "#fb9f3a"
            ],
            [
             0.8888888888888888,
             "#fdca26"
            ],
            [
             1.0,
             "#f0f921"
            ]
           ],
           "sequentialminus": [
            [
             0.0,
             "#0d0887"
            ],
            [
             0.1111111111111111,
             "#46039f"
            ],
            [
             0.2222222222222222,
             "#7201a8"
            ],
            [
             0.3333333333333333,
             "#9c179e"
            ],
            [
             0.4444444444444444,
             "#bd3786"
            ],
            [
             0.5555555555555556,
             "#d8576b"
            ],
            [
             0.6666666666666666,
             "#ed7953"
            ],
            [
             0.7777777777777778,
             "#fb9f3a"
            ],
            [
             0.8888888888888888,
             "#fdca26"
            ],
            [
             1.0,
             "#f0f921"
            ]
           ]
          },
          "colorway": [
           "#636efa",
           "#EF553B",
           "#00cc96",
           "#ab63fa",
           "#FFA15A",
           "#19d3f3",
           "#FF6692",
           "#B6E880",
           "#FF97FF",
           "#FECB52"
          ],
          "font": {
           "color": "#2a3f5f"
          },
          "geo": {
           "bgcolor": "white",
           "lakecolor": "white",
           "landcolor": "#E5ECF6",
           "showlakes": true,
           "showland": true,
           "subunitcolor": "white"
          },
          "hoverlabel": {
           "align": "left"
          },
          "hovermode": "closest",
          "mapbox": {
           "style": "light"
          },
          "paper_bgcolor": "white",
          "plot_bgcolor": "#E5ECF6",
          "polar": {
           "angularaxis": {
            "gridcolor": "white",
            "linecolor": "white",
            "ticks": ""
           },
           "bgcolor": "#E5ECF6",
           "radialaxis": {
            "gridcolor": "white",
            "linecolor": "white",
            "ticks": ""
           }
          },
          "scene": {
           "xaxis": {
            "backgroundcolor": "#E5ECF6",
            "gridcolor": "white",
            "gridwidth": 2,
            "linecolor": "white",
            "showbackground": true,
            "ticks": "",
            "zerolinecolor": "white"
           },
           "yaxis": {
            "backgroundcolor": "#E5ECF6",
            "gridcolor": "white",
            "gridwidth": 2,
            "linecolor": "white",
            "showbackground": true,
            "ticks": "",
            "zerolinecolor": "white"
           },
           "zaxis": {
            "backgroundcolor": "#E5ECF6",
            "gridcolor": "white",
            "gridwidth": 2,
            "linecolor": "white",
            "showbackground": true,
            "ticks": "",
            "zerolinecolor": "white"
           }
          },
          "shapedefaults": {
           "line": {
            "color": "#2a3f5f"
           }
          },
          "ternary": {
           "aaxis": {
            "gridcolor": "white",
            "linecolor": "white",
            "ticks": ""
           },
           "baxis": {
            "gridcolor": "white",
            "linecolor": "white",
            "ticks": ""
           },
           "bgcolor": "#E5ECF6",
           "caxis": {
            "gridcolor": "white",
            "linecolor": "white",
            "ticks": ""
           }
          },
          "title": {
           "x": 0.05
          },
          "xaxis": {
           "automargin": true,
           "gridcolor": "white",
           "linecolor": "white",
           "ticks": "",
           "title": {
            "standoff": 15
           },
           "zerolinecolor": "white",
           "zerolinewidth": 2
          },
          "yaxis": {
           "automargin": true,
           "gridcolor": "white",
           "linecolor": "white",
           "ticks": "",
           "title": {
            "standoff": 15
           },
           "zerolinecolor": "white",
           "zerolinewidth": 2
          }
         }
        },
        "title": {
         "text": ""
        }
       }
      },
      "text/html": [
       "<div>                            <div id=\"1fcf2589-8440-4562-8ed7-1446a7ba0ee6\" class=\"plotly-graph-div\" style=\"height:525px; width:100%;\"></div>            <script type=\"text/javascript\">                require([\"plotly\"], function(Plotly) {                    window.PLOTLYENV=window.PLOTLYENV || {};                                    if (document.getElementById(\"1fcf2589-8440-4562-8ed7-1446a7ba0ee6\")) {                    Plotly.newPlot(                        \"1fcf2589-8440-4562-8ed7-1446a7ba0ee6\",                        [{\"domain\":{\"x\":[0,0.5]},\"hole\":0.2,\"hoverinfo\":\"label+percent+name\",\"labels\":[\"EasternAfrica\",\"WesternAfrica\",\"Caribbean\",\"SouthernEurope\",\"MiddleAfrica\",\"WesternAsia\",\"SouthAmerica\",\"NorthernEurope\",\"SouthernAsia\",\"South-easternAsia\",\"SouthernAfrica\",\"CentralAmerica\",\"NorthernAfrica\",\"Melanesia\",\"EasternEurope\",\"WesternEurope\",\"NorthernAmerica\",\"EasternAsia\",\"Oceania\",\"CentralAsia\"],\"name\":\"Income Group By Region\",\"values\":[2248.046666666667,852.1583333333332,11924.70909090909,17792.239999999998,5302.983333333334,8010.240000000001,8253.075,24033.95,4205.45,3132.9666666666667,3991.6000000000004,5963.766666666666,3016.7000000000003,3859.75,14216.55,167681.2,36976.7,3973.4,38294.3,925.9],\"type\":\"pie\"}],                        {\"annotations\":[{\"font\":{\"size\":17},\"showarrow\":false,\"text\":\"Income Group By Region\",\"x\":0.15,\"y\":1.2}],\"template\":{\"data\":{\"barpolar\":[{\"marker\":{\"line\":{\"color\":\"#E5ECF6\",\"width\":0.5},\"pattern\":{\"fillmode\":\"overlay\",\"size\":10,\"solidity\":0.2}},\"type\":\"barpolar\"}],\"bar\":[{\"error_x\":{\"color\":\"#2a3f5f\"},\"error_y\":{\"color\":\"#2a3f5f\"},\"marker\":{\"line\":{\"color\":\"#E5ECF6\",\"width\":0.5},\"pattern\":{\"fillmode\":\"overlay\",\"size\":10,\"solidity\":0.2}},\"type\":\"bar\"}],\"carpet\":[{\"aaxis\":{\"endlinecolor\":\"#2a3f5f\",\"gridcolor\":\"white\",\"linecolor\":\"white\",\"minorgridcolor\":\"white\",\"startlinecolor\":\"#2a3f5f\"},\"baxis\":{\"endlinecolor\":\"#2a3f5f\",\"gridcolor\":\"white\",\"linecolor\":\"white\",\"minorgridcolor\":\"white\",\"startlinecolor\":\"#2a3f5f\"},\"type\":\"carpet\"}],\"choropleth\":[{\"colorbar\":{\"outlinewidth\":0,\"ticks\":\"\"},\"type\":\"choropleth\"}],\"contourcarpet\":[{\"colorbar\":{\"outlinewidth\":0,\"ticks\":\"\"},\"type\":\"contourcarpet\"}],\"contour\":[{\"colorbar\":{\"outlinewidth\":0,\"ticks\":\"\"},\"colorscale\":[[0.0,\"#0d0887\"],[0.1111111111111111,\"#46039f\"],[0.2222222222222222,\"#7201a8\"],[0.3333333333333333,\"#9c179e\"],[0.4444444444444444,\"#bd3786\"],[0.5555555555555556,\"#d8576b\"],[0.6666666666666666,\"#ed7953\"],[0.7777777777777778,\"#fb9f3a\"],[0.8888888888888888,\"#fdca26\"],[1.0,\"#f0f921\"]],\"type\":\"contour\"}],\"heatmapgl\":[{\"colorbar\":{\"outlinewidth\":0,\"ticks\":\"\"},\"colorscale\":[[0.0,\"#0d0887\"],[0.1111111111111111,\"#46039f\"],[0.2222222222222222,\"#7201a8\"],[0.3333333333333333,\"#9c179e\"],[0.4444444444444444,\"#bd3786\"],[0.5555555555555556,\"#d8576b\"],[0.6666666666666666,\"#ed7953\"],[0.7777777777777778,\"#fb9f3a\"],[0.8888888888888888,\"#fdca26\"],[1.0,\"#f0f921\"]],\"type\":\"heatmapgl\"}],\"heatmap\":[{\"colorbar\":{\"outlinewidth\":0,\"ticks\":\"\"},\"colorscale\":[[0.0,\"#0d0887\"],[0.1111111111111111,\"#46039f\"],[0.2222222222222222,\"#7201a8\"],[0.3333333333333333,\"#9c179e\"],[0.4444444444444444,\"#bd3786\"],[0.5555555555555556,\"#d8576b\"],[0.6666666666666666,\"#ed7953\"],[0.7777777777777778,\"#fb9f3a\"],[0.8888888888888888,\"#fdca26\"],[1.0,\"#f0f921\"]],\"type\":\"heatmap\"}],\"histogram2dcontour\":[{\"colorbar\":{\"outlinewidth\":0,\"ticks\":\"\"},\"colorscale\":[[0.0,\"#0d0887\"],[0.1111111111111111,\"#46039f\"],[0.2222222222222222,\"#7201a8\"],[0.3333333333333333,\"#9c179e\"],[0.4444444444444444,\"#bd3786\"],[0.5555555555555556,\"#d8576b\"],[0.6666666666666666,\"#ed7953\"],[0.7777777777777778,\"#fb9f3a\"],[0.8888888888888888,\"#fdca26\"],[1.0,\"#f0f921\"]],\"type\":\"histogram2dcontour\"}],\"histogram2d\":[{\"colorbar\":{\"outlinewidth\":0,\"ticks\":\"\"},\"colorscale\":[[0.0,\"#0d0887\"],[0.1111111111111111,\"#46039f\"],[0.2222222222222222,\"#7201a8\"],[0.3333333333333333,\"#9c179e\"],[0.4444444444444444,\"#bd3786\"],[0.5555555555555556,\"#d8576b\"],[0.6666666666666666,\"#ed7953\"],[0.7777777777777778,\"#fb9f3a\"],[0.8888888888888888,\"#fdca26\"],[1.0,\"#f0f921\"]],\"type\":\"histogram2d\"}],\"histogram\":[{\"marker\":{\"pattern\":{\"fillmode\":\"overlay\",\"size\":10,\"solidity\":0.2}},\"type\":\"histogram\"}],\"mesh3d\":[{\"colorbar\":{\"outlinewidth\":0,\"ticks\":\"\"},\"type\":\"mesh3d\"}],\"parcoords\":[{\"line\":{\"colorbar\":{\"outlinewidth\":0,\"ticks\":\"\"}},\"type\":\"parcoords\"}],\"pie\":[{\"automargin\":true,\"type\":\"pie\"}],\"scatter3d\":[{\"line\":{\"colorbar\":{\"outlinewidth\":0,\"ticks\":\"\"}},\"marker\":{\"colorbar\":{\"outlinewidth\":0,\"ticks\":\"\"}},\"type\":\"scatter3d\"}],\"scattercarpet\":[{\"marker\":{\"colorbar\":{\"outlinewidth\":0,\"ticks\":\"\"}},\"type\":\"scattercarpet\"}],\"scattergeo\":[{\"marker\":{\"colorbar\":{\"outlinewidth\":0,\"ticks\":\"\"}},\"type\":\"scattergeo\"}],\"scattergl\":[{\"marker\":{\"colorbar\":{\"outlinewidth\":0,\"ticks\":\"\"}},\"type\":\"scattergl\"}],\"scattermapbox\":[{\"marker\":{\"colorbar\":{\"outlinewidth\":0,\"ticks\":\"\"}},\"type\":\"scattermapbox\"}],\"scatterpolargl\":[{\"marker\":{\"colorbar\":{\"outlinewidth\":0,\"ticks\":\"\"}},\"type\":\"scatterpolargl\"}],\"scatterpolar\":[{\"marker\":{\"colorbar\":{\"outlinewidth\":0,\"ticks\":\"\"}},\"type\":\"scatterpolar\"}],\"scatter\":[{\"fillpattern\":{\"fillmode\":\"overlay\",\"size\":10,\"solidity\":0.2},\"type\":\"scatter\"}],\"scatterternary\":[{\"marker\":{\"colorbar\":{\"outlinewidth\":0,\"ticks\":\"\"}},\"type\":\"scatterternary\"}],\"surface\":[{\"colorbar\":{\"outlinewidth\":0,\"ticks\":\"\"},\"colorscale\":[[0.0,\"#0d0887\"],[0.1111111111111111,\"#46039f\"],[0.2222222222222222,\"#7201a8\"],[0.3333333333333333,\"#9c179e\"],[0.4444444444444444,\"#bd3786\"],[0.5555555555555556,\"#d8576b\"],[0.6666666666666666,\"#ed7953\"],[0.7777777777777778,\"#fb9f3a\"],[0.8888888888888888,\"#fdca26\"],[1.0,\"#f0f921\"]],\"type\":\"surface\"}],\"table\":[{\"cells\":{\"fill\":{\"color\":\"#EBF0F8\"},\"line\":{\"color\":\"white\"}},\"header\":{\"fill\":{\"color\":\"#C8D4E3\"},\"line\":{\"color\":\"white\"}},\"type\":\"table\"}]},\"layout\":{\"annotationdefaults\":{\"arrowcolor\":\"#2a3f5f\",\"arrowhead\":0,\"arrowwidth\":1},\"autotypenumbers\":\"strict\",\"coloraxis\":{\"colorbar\":{\"outlinewidth\":0,\"ticks\":\"\"}},\"colorscale\":{\"diverging\":[[0,\"#8e0152\"],[0.1,\"#c51b7d\"],[0.2,\"#de77ae\"],[0.3,\"#f1b6da\"],[0.4,\"#fde0ef\"],[0.5,\"#f7f7f7\"],[0.6,\"#e6f5d0\"],[0.7,\"#b8e186\"],[0.8,\"#7fbc41\"],[0.9,\"#4d9221\"],[1,\"#276419\"]],\"sequential\":[[0.0,\"#0d0887\"],[0.1111111111111111,\"#46039f\"],[0.2222222222222222,\"#7201a8\"],[0.3333333333333333,\"#9c179e\"],[0.4444444444444444,\"#bd3786\"],[0.5555555555555556,\"#d8576b\"],[0.6666666666666666,\"#ed7953\"],[0.7777777777777778,\"#fb9f3a\"],[0.8888888888888888,\"#fdca26\"],[1.0,\"#f0f921\"]],\"sequentialminus\":[[0.0,\"#0d0887\"],[0.1111111111111111,\"#46039f\"],[0.2222222222222222,\"#7201a8\"],[0.3333333333333333,\"#9c179e\"],[0.4444444444444444,\"#bd3786\"],[0.5555555555555556,\"#d8576b\"],[0.6666666666666666,\"#ed7953\"],[0.7777777777777778,\"#fb9f3a\"],[0.8888888888888888,\"#fdca26\"],[1.0,\"#f0f921\"]]},\"colorway\":[\"#636efa\",\"#EF553B\",\"#00cc96\",\"#ab63fa\",\"#FFA15A\",\"#19d3f3\",\"#FF6692\",\"#B6E880\",\"#FF97FF\",\"#FECB52\"],\"font\":{\"color\":\"#2a3f5f\"},\"geo\":{\"bgcolor\":\"white\",\"lakecolor\":\"white\",\"landcolor\":\"#E5ECF6\",\"showlakes\":true,\"showland\":true,\"subunitcolor\":\"white\"},\"hoverlabel\":{\"align\":\"left\"},\"hovermode\":\"closest\",\"mapbox\":{\"style\":\"light\"},\"paper_bgcolor\":\"white\",\"plot_bgcolor\":\"#E5ECF6\",\"polar\":{\"angularaxis\":{\"gridcolor\":\"white\",\"linecolor\":\"white\",\"ticks\":\"\"},\"bgcolor\":\"#E5ECF6\",\"radialaxis\":{\"gridcolor\":\"white\",\"linecolor\":\"white\",\"ticks\":\"\"}},\"scene\":{\"xaxis\":{\"backgroundcolor\":\"#E5ECF6\",\"gridcolor\":\"white\",\"gridwidth\":2,\"linecolor\":\"white\",\"showbackground\":true,\"ticks\":\"\",\"zerolinecolor\":\"white\"},\"yaxis\":{\"backgroundcolor\":\"#E5ECF6\",\"gridcolor\":\"white\",\"gridwidth\":2,\"linecolor\":\"white\",\"showbackground\":true,\"ticks\":\"\",\"zerolinecolor\":\"white\"},\"zaxis\":{\"backgroundcolor\":\"#E5ECF6\",\"gridcolor\":\"white\",\"gridwidth\":2,\"linecolor\":\"white\",\"showbackground\":true,\"ticks\":\"\",\"zerolinecolor\":\"white\"}},\"shapedefaults\":{\"line\":{\"color\":\"#2a3f5f\"}},\"ternary\":{\"aaxis\":{\"gridcolor\":\"white\",\"linecolor\":\"white\",\"ticks\":\"\"},\"baxis\":{\"gridcolor\":\"white\",\"linecolor\":\"white\",\"ticks\":\"\"},\"bgcolor\":\"#E5ECF6\",\"caxis\":{\"gridcolor\":\"white\",\"linecolor\":\"white\",\"ticks\":\"\"}},\"title\":{\"x\":0.05},\"xaxis\":{\"automargin\":true,\"gridcolor\":\"white\",\"linecolor\":\"white\",\"ticks\":\"\",\"title\":{\"standoff\":15},\"zerolinecolor\":\"white\",\"zerolinewidth\":2},\"yaxis\":{\"automargin\":true,\"gridcolor\":\"white\",\"linecolor\":\"white\",\"ticks\":\"\",\"title\":{\"standoff\":15},\"zerolinecolor\":\"white\",\"zerolinewidth\":2}}},\"title\":{\"text\":\"\"}},                        {\"responsive\": true}                    ).then(function(){\n",
       "                            \n",
       "var gd = document.getElementById('1fcf2589-8440-4562-8ed7-1446a7ba0ee6');\n",
       "var x = new MutationObserver(function (mutations, observer) {{\n",
       "        var display = window.getComputedStyle(gd).display;\n",
       "        if (!display || display === 'none') {{\n",
       "            console.log([gd, 'removed!']);\n",
       "            Plotly.purge(gd);\n",
       "            observer.disconnect();\n",
       "        }}\n",
       "}});\n",
       "\n",
       "// Listen for the removal of the full notebook cells\n",
       "var notebookContainer = gd.closest('#notebook-container');\n",
       "if (notebookContainer) {{\n",
       "    x.observe(notebookContainer, {childList: true});\n",
       "}}\n",
       "\n",
       "// Listen for the clearing of the current output cell\n",
       "var outputEl = gd.closest('.output');\n",
       "if (outputEl) {{\n",
       "    x.observe(outputEl, {childList: true});\n",
       "}}\n",
       "\n",
       "                        })                };                });            </script>        </div>"
      ]
     },
     "metadata": {},
     "output_type": "display_data"
    }
   ],
   "source": [
    "labels = df.Region.value_counts().index\n",
    "sizes = []\n",
    "\n",
    "for i in labels:\n",
    "    avg_in = (df[df[\"Region\"] == i][\"GDP per capita (current US$)\"].values.sum())/(df[df[\"Region\"] == i][\"country\"].count())\n",
    "    sizes.append(avg_in)\n",
    "\n",
    "fig = {\n",
    "    \"data\" : [\n",
    "        {\n",
    "            \"values\" : sizes,\n",
    "            \"labels\" : labels,\n",
    "            \"domain\": {\"x\" : [0, .5]},\n",
    "            \"name\"   : \"Income Group By Region\",\n",
    "            \"hoverinfo\" : \"label+percent+name\",\n",
    "            \"hole\"   : .2,\n",
    "            \"type\"   : \"pie\"\n",
    "        }\n",
    "    ],\n",
    "    \"layout\" : {\n",
    "        \"title\" : \"\",\n",
    "        \"annotations\": [\n",
    "            {\n",
    "                \"font\" : {\"size\" : 17},\n",
    "                \"showarrow\" : False,\n",
    "                \"text\" : \"Income Group By Region\",\n",
    "                \"x\" : .15,\n",
    "                \"y\" : 1.2\n",
    "            },\n",
    "        ]\n",
    "    }\n",
    "}\n",
    "\n",
    "\n",
    "iplot(fig)"
   ]
  },
  {
   "cell_type": "markdown",
   "id": "5acfd37d",
   "metadata": {
    "papermill": {
     "duration": 0.016288,
     "end_time": "2022-07-10T12:17:38.267163",
     "exception": false,
     "start_time": "2022-07-10T12:17:38.250875",
     "status": "completed"
    },
    "tags": []
   },
   "source": [
    "## Relation Between ;\n",
    "<a id = \"5\">  </a>\n",
    "GDP per capita (current US$)\n",
    "\n",
    "Confirmed\n",
    "\n",
    "Population age distribution (0-14, %)\n",
    "\n",
    "Population age distribution (60+ years, %)"
   ]
  },
  {
   "cell_type": "code",
   "execution_count": 22,
   "id": "be8aac96",
   "metadata": {
    "execution": {
     "iopub.execute_input": "2022-07-10T12:17:38.302820Z",
     "iopub.status.busy": "2022-07-10T12:17:38.302173Z",
     "iopub.status.idle": "2022-07-10T12:17:38.694088Z",
     "shell.execute_reply": "2022-07-10T12:17:38.692705Z"
    },
    "papermill": {
     "duration": 0.413827,
     "end_time": "2022-07-10T12:17:38.697349",
     "exception": false,
     "start_time": "2022-07-10T12:17:38.283522",
     "status": "completed"
    },
    "tags": []
   },
   "outputs": [
    {
     "data": {
      "application/vnd.plotly.v1+json": {
       "config": {
        "linkText": "Export to plot.ly",
        "plotlyServerURL": "https://plot.ly",
        "showLink": false
       },
       "data": [
        {
         "marker": {
          "color": "rgb(5, 10, 172)"
         },
         "showlegend": false,
         "type": "box",
         "xaxis": "x",
         "y": [
          3984.2,
          39896.4,
          4714.1,
          14764.5,
          22817.2,
          15429.4,
          4789.4,
          779.1,
          2677.1,
          6360.6,
          611.1,
          244.6,
          3080.2,
          1158.7,
          333.2,
          713.0,
          1368.9,
          11015.0,
          11479.4,
          7656.6,
          21941.9,
          1956.3,
          16344.1,
          914.9,
          17112.0,
          4921.9,
          7960.7,
          473.2,
          3491.4,
          17788.0,
          36976.7,
          8933.8,
          530.0,
          703.9,
          4278.8,
          -99.0,
          12350.6,
          50936.0,
          5105.8,
          4940.1,
          13704.1,
          8571.4,
          940.6,
          455.9,
          5488.2,
          169491.8,
          14383.7,
          401.8,
          372.9,
          9446.5,
          744.3,
          23280.7,
          1235.0,
          9040.9,
          3973.4,
          6424.1,
          529.2,
          4673.6,
          724.5,
          38294.3,
          2086.9,
          359.0,
          2797.6,
          4174.4,
          697.3,
          7839.4,
          6739.2,
          49240.2,
          1752.8,
          5238.6,
          14133.2,
          694.8,
          16082.5,
          20689.8,
          144.5,
          1067.0,
          3973.7,
          8985.3,
          925.9,
          5814.8,
          2425.4,
          559.4,
          19062.9,
          3660.9,
          647.7,
          15573.8,
          -99.0,
          1106.4,
          1311.1,
          890.4
         ],
         "yaxis": "y"
        },
        {
         "marker": {
          "color": [
           1,
           2,
           3,
           4,
           5,
           6,
           7,
           8,
           9,
           10,
           11,
           12,
           13,
           14,
           15,
           16,
           17,
           18,
           19,
           20,
           21,
           22,
           23,
           24,
           25,
           26,
           27,
           28,
           29,
           30,
           31,
           32,
           33,
           34,
           35,
           36,
           37,
           38,
           39,
           40,
           41,
           42,
           43,
           44,
           45,
           46,
           47,
           48,
           49,
           50,
           51,
           52,
           53,
           54,
           55,
           56,
           57,
           58,
           59,
           60,
           61,
           62,
           63,
           64,
           65,
           66,
           67,
           68,
           69,
           70,
           71,
           72,
           73,
           74,
           75,
           76,
           77,
           78,
           79,
           80,
           81,
           82,
           83,
           84,
           85,
           86,
           87,
           88,
           89,
           90
          ],
          "colorscale": [
           [
            0.0,
            "rgb(5, 10, 172)"
           ],
           [
            1.0,
            "rgb(220, 220, 220)"
           ]
          ],
          "showscale": true,
          "size": 6
         },
         "mode": "markers",
         "showlegend": false,
         "type": "scatter",
         "x": [
          4880,
          907,
          950,
          86,
          382,
          110,
          48,
          1770,
          99,
          739,
          1100,
          378,
          2328,
          226,
          4599,
          922,
          354,
          15841,
          4881,
          2532,
          1060,
          5059,
          3071,
          265,
          2034,
          27,
          7189,
          326,
          1137,
          4227,
          14,
          23,
          1954,
          7055,
          389,
          12,
          4448,
          1854,
          853,
          1176,
          1219,
          3882,
          505,
          1167,
          2827,
          86,
          2019,
          9690,
          3664,
          3369,
          2513,
          701,
          6208,
          344,
          289,
          2893,
          1701,
          1843,
          18752,
          1557,
          3439,
          1132,
          62,
          4548,
          1879,
          24,
          52,
          699,
          865,
          24141,
          114,
          1783,
          2181,
          2087,
          3196,
          2305,
          2805,
          1483,
          7235,
          3297,
          24,
          874,
          148,
          1455,
          1128,
          1202,
          10,
          1691,
          4552,
          2704
         ],
         "xaxis": "x2",
         "y": [
          3984.2,
          39896.4,
          4714.1,
          14764.5,
          22817.2,
          15429.4,
          4789.4,
          779.1,
          2677.1,
          6360.6,
          611.1,
          244.6,
          3080.2,
          1158.7,
          333.2,
          713.0,
          1368.9,
          11015.0,
          11479.4,
          7656.6,
          21941.9,
          1956.3,
          16344.1,
          914.9,
          17112.0,
          4921.9,
          7960.7,
          473.2,
          3491.4,
          17788.0,
          36976.7,
          8933.8,
          530.0,
          703.9,
          4278.8,
          -99.0,
          12350.6,
          50936.0,
          5105.8,
          4940.1,
          13704.1,
          8571.4,
          940.6,
          455.9,
          5488.2,
          169491.8,
          14383.7,
          401.8,
          372.9,
          9446.5,
          744.3,
          23280.7,
          1235.0,
          9040.9,
          3973.4,
          6424.1,
          529.2,
          4673.6,
          724.5,
          38294.3,
          2086.9,
          359.0,
          2797.6,
          4174.4,
          697.3,
          7839.4,
          6739.2,
          49240.2,
          1752.8,
          5238.6,
          14133.2,
          694.8,
          16082.5,
          20689.8,
          144.5,
          1067.0,
          3973.7,
          8985.3,
          925.9,
          5814.8,
          2425.4,
          559.4,
          19062.9,
          3660.9,
          647.7,
          15573.8,
          -99.0,
          1106.4,
          1311.1,
          890.4
         ],
         "yaxis": "y2"
        },
        {
         "marker": {
          "color": [
           1,
           2,
           3,
           4,
           5,
           6,
           7,
           8,
           9,
           10,
           11,
           12,
           13,
           14,
           15,
           16,
           17,
           18,
           19,
           20,
           21,
           22,
           23,
           24,
           25,
           26,
           27,
           28,
           29,
           30,
           31,
           32,
           33,
           34,
           35,
           36,
           37,
           38,
           39,
           40,
           41,
           42,
           43,
           44,
           45,
           46,
           47,
           48,
           49,
           50,
           51,
           52,
           53,
           54,
           55,
           56,
           57,
           58,
           59,
           60,
           61,
           62,
           63,
           64,
           65,
           66,
           67,
           68,
           69,
           70,
           71,
           72,
           73,
           74,
           75,
           76,
           77,
           78,
           79,
           80,
           81,
           82,
           83,
           84,
           85,
           86,
           87,
           88,
           89,
           90
          ],
          "colorscale": [
           [
            0.0,
            "rgb(5, 10, 172)"
           ],
           [
            1.0,
            "rgb(220, 220, 220)"
           ]
          ],
          "showscale": false,
          "size": 6
         },
         "mode": "markers",
         "showlegend": false,
         "type": "scatter",
         "x": [
          17.4,
          14.4,
          46.8,
          23.9,
          20.5,
          19.1,
          31.4,
          42.7,
          26.5,
          31.4,
          45.2,
          45.0,
          30.2,
          31.3,
          43.2,
          47.1,
          39.8,
          21.6,
          14.7,
          16.0,
          16.8,
          31.1,
          37.2,
          41.8,
          16.4,
          28.5,
          35.9,
          45.3,
          19.2,
          14.2,
          21.0,
          26.3,
          41.5,
          42.3,
          29.0,
          -99.0,
          14.3,
          20.1,
          22.7,
          35.5,
          15.4,
          23.1,
          35.4,
          41.8,
          28.2,
          14.9,
          14.8,
          41.0,
          44.0,
          23.4,
          47.7,
          14.4,
          39.9,
          18.4,
          29.7,
          18.1,
          44.8,
          36.7,
          30.9,
          19.8,
          29.0,
          50.2,
          35.9,
          29.4,
          40.1,
          18.9,
          23.8,
          15.0,
          42.8,
          16.5,
          22.2,
          42.1,
          15.4,
          15.0,
          46.4,
          41.7,
          24.0,
          26.4,
          35.3,
          17.3,
          43.6,
          41.6,
          20.7,
          24.0,
          47.7,
          21.1,
          28.1,
          39.9,
          44.8,
          41.2
         ],
         "xaxis": "x3",
         "y": [
          3984.2,
          39896.4,
          4714.1,
          14764.5,
          22817.2,
          15429.4,
          4789.4,
          779.1,
          2677.1,
          6360.6,
          611.1,
          244.6,
          3080.2,
          1158.7,
          333.2,
          713.0,
          1368.9,
          11015.0,
          11479.4,
          7656.6,
          21941.9,
          1956.3,
          16344.1,
          914.9,
          17112.0,
          4921.9,
          7960.7,
          473.2,
          3491.4,
          17788.0,
          36976.7,
          8933.8,
          530.0,
          703.9,
          4278.8,
          -99.0,
          12350.6,
          50936.0,
          5105.8,
          4940.1,
          13704.1,
          8571.4,
          940.6,
          455.9,
          5488.2,
          169491.8,
          14383.7,
          401.8,
          372.9,
          9446.5,
          744.3,
          23280.7,
          1235.0,
          9040.9,
          3973.4,
          6424.1,
          529.2,
          4673.6,
          724.5,
          38294.3,
          2086.9,
          359.0,
          2797.6,
          4174.4,
          697.3,
          7839.4,
          6739.2,
          49240.2,
          1752.8,
          5238.6,
          14133.2,
          694.8,
          16082.5,
          20689.8,
          144.5,
          1067.0,
          3973.7,
          8985.3,
          925.9,
          5814.8,
          2425.4,
          559.4,
          19062.9,
          3660.9,
          647.7,
          15573.8,
          -99.0,
          1106.4,
          1311.1,
          890.4
         ],
         "yaxis": "y3"
        },
        {
         "marker": {
          "color": [
           1,
           2,
           3,
           4,
           5,
           6,
           7,
           8,
           9,
           10,
           11,
           12,
           13,
           14,
           15,
           16,
           17,
           18,
           19,
           20,
           21,
           22,
           23,
           24,
           25,
           26,
           27,
           28,
           29,
           30,
           31,
           32,
           33,
           34,
           35,
           36,
           37,
           38,
           39,
           40,
           41,
           42,
           43,
           44,
           45,
           46,
           47,
           48,
           49,
           50,
           51,
           52,
           53,
           54,
           55,
           56,
           57,
           58,
           59,
           60,
           61,
           62,
           63,
           64,
           65,
           66,
           67,
           68,
           69,
           70,
           71,
           72,
           73,
           74,
           75,
           76,
           77,
           78,
           79,
           80,
           81,
           82,
           83,
           84,
           85,
           86,
           87,
           88,
           89,
           90
          ],
          "colorscale": [
           [
            0.0,
            "rgb(5, 10, 172)"
           ],
           [
            1.0,
            "rgb(220, 220, 220)"
           ]
          ],
          "showscale": false,
          "size": 6
         },
         "mode": "markers",
         "showlegend": false,
         "type": "scatter",
         "x": [
          19.0,
          19.0,
          4.0,
          10.9,
          13.5,
          21.0,
          6.2,
          5.0,
          7.3,
          6.4,
          3.9,
          4.4,
          6.9,
          7.1,
          5.5,
          4.0,
          4.9,
          13.6,
          26.8,
          20.1,
          18.5,
          6.4,
          4.4,
          5.3,
          25.9,
          9.9,
          6.4,
          3.8,
          20.8,
          26.5,
          13.2,
          10.5,
          4.9,
          5.2,
          8.6,
          null,
          26.0,
          20.1,
          13.6,
          5.7,
          26.2,
          12.0,
          6.7,
          4.9,
          6.6,
          22.7,
          25.3,
          4.8,
          4.3,
          6.3,
          4.0,
          26.1,
          5.0,
          16.6,
          6.6,
          21.3,
          4.8,
          5.5,
          8.8,
          20.8,
          8.4,
          4.2,
          6.1,
          9.4,
          4.9,
          13.7,
          11.7,
          24.1,
          4.3,
          24.5,
          13.3,
          4.2,
          21.8,
          26.3,
          4.4,
          5.1,
          14.9,
          10.4,
          5.8,
          16.9,
          5.4,
          4.6,
          15.0,
          12.3,
          3.3,
          19.5,
          5.4,
          4.6,
          3.7,
          4.2
         ],
         "xaxis": "x4",
         "y": [
          3984.2,
          39896.4,
          4714.1,
          14764.5,
          22817.2,
          15429.4,
          4789.4,
          779.1,
          2677.1,
          6360.6,
          611.1,
          244.6,
          3080.2,
          1158.7,
          333.2,
          713.0,
          1368.9,
          11015.0,
          11479.4,
          7656.6,
          21941.9,
          1956.3,
          16344.1,
          914.9,
          17112.0,
          4921.9,
          7960.7,
          473.2,
          3491.4,
          17788.0,
          36976.7,
          8933.8,
          530.0,
          703.9,
          4278.8,
          -99.0,
          12350.6,
          50936.0,
          5105.8,
          4940.1,
          13704.1,
          8571.4,
          940.6,
          455.9,
          5488.2,
          169491.8,
          14383.7,
          401.8,
          372.9,
          9446.5,
          744.3,
          23280.7,
          1235.0,
          9040.9,
          3973.4,
          6424.1,
          529.2,
          4673.6,
          724.5,
          38294.3,
          2086.9,
          359.0,
          2797.6,
          4174.4,
          697.3,
          7839.4,
          6739.2,
          49240.2,
          1752.8,
          5238.6,
          14133.2,
          694.8,
          16082.5,
          20689.8,
          144.5,
          1067.0,
          3973.7,
          8985.3,
          925.9,
          5814.8,
          2425.4,
          559.4,
          19062.9,
          3660.9,
          647.7,
          15573.8,
          -99.0,
          1106.4,
          1311.1,
          890.4
         ],
         "yaxis": "y4"
        },
        {
         "marker": {
          "color": [
           1,
           2,
           3,
           4,
           5,
           6,
           7,
           8,
           9,
           10,
           11,
           12,
           13,
           14,
           15,
           16,
           17,
           18,
           19,
           20,
           21,
           22,
           23,
           24,
           25,
           26,
           27,
           28,
           29,
           30,
           31,
           32,
           33,
           34,
           35,
           36,
           37,
           38,
           39,
           40,
           41,
           42,
           43,
           44,
           45,
           46,
           47,
           48,
           49,
           50,
           51,
           52,
           53,
           54,
           55,
           56,
           57,
           58,
           59,
           60,
           61,
           62,
           63,
           64,
           65,
           66,
           67,
           68,
           69,
           70,
           71,
           72,
           73,
           74,
           75,
           76,
           77,
           78,
           79,
           80,
           81,
           82,
           83,
           84,
           85,
           86,
           87,
           88,
           89,
           90
          ],
          "colorscale": [
           [
            0.0,
            "rgb(5, 10, 172)"
           ],
           [
            1.0,
            "rgb(220, 220, 220)"
           ]
          ],
          "showscale": false,
          "size": 6
         },
         "mode": "markers",
         "showlegend": false,
         "type": "scatter",
         "x": [
          3984.2,
          39896.4,
          4714.1,
          14764.5,
          22817.2,
          15429.4,
          4789.4,
          779.1,
          2677.1,
          6360.6,
          611.1,
          244.6,
          3080.2,
          1158.7,
          333.2,
          713.0,
          1368.9,
          11015.0,
          11479.4,
          7656.6,
          21941.9,
          1956.3,
          16344.1,
          914.9,
          17112.0,
          4921.9,
          7960.7,
          473.2,
          3491.4,
          17788.0,
          36976.7,
          8933.8,
          530.0,
          703.9,
          4278.8,
          -99.0,
          12350.6,
          50936.0,
          5105.8,
          4940.1,
          13704.1,
          8571.4,
          940.6,
          455.9,
          5488.2,
          169491.8,
          14383.7,
          401.8,
          372.9,
          9446.5,
          744.3,
          23280.7,
          1235.0,
          9040.9,
          3973.4,
          6424.1,
          529.2,
          4673.6,
          724.5,
          38294.3,
          2086.9,
          359.0,
          2797.6,
          4174.4,
          697.3,
          7839.4,
          6739.2,
          49240.2,
          1752.8,
          5238.6,
          14133.2,
          694.8,
          16082.5,
          20689.8,
          144.5,
          1067.0,
          3973.7,
          8985.3,
          925.9,
          5814.8,
          2425.4,
          559.4,
          19062.9,
          3660.9,
          647.7,
          15573.8,
          -99.0,
          1106.4,
          1311.1,
          890.4
         ],
         "xaxis": "x5",
         "y": [
          4880,
          907,
          950,
          86,
          382,
          110,
          48,
          1770,
          99,
          739,
          1100,
          378,
          2328,
          226,
          4599,
          922,
          354,
          15841,
          4881,
          2532,
          1060,
          5059,
          3071,
          265,
          2034,
          27,
          7189,
          326,
          1137,
          4227,
          14,
          23,
          1954,
          7055,
          389,
          12,
          4448,
          1854,
          853,
          1176,
          1219,
          3882,
          505,
          1167,
          2827,
          86,
          2019,
          9690,
          3664,
          3369,
          2513,
          701,
          6208,
          344,
          289,
          2893,
          1701,
          1843,
          18752,
          1557,
          3439,
          1132,
          62,
          4548,
          1879,
          24,
          52,
          699,
          865,
          24141,
          114,
          1783,
          2181,
          2087,
          3196,
          2305,
          2805,
          1483,
          7235,
          3297,
          24,
          874,
          148,
          1455,
          1128,
          1202,
          10,
          1691,
          4552,
          2704
         ],
         "yaxis": "y5"
        },
        {
         "marker": {
          "color": "rgb(5, 10, 172)"
         },
         "showlegend": false,
         "type": "box",
         "xaxis": "x6",
         "y": [
          4880,
          907,
          950,
          86,
          382,
          110,
          48,
          1770,
          99,
          739,
          1100,
          378,
          2328,
          226,
          4599,
          922,
          354,
          15841,
          4881,
          2532,
          1060,
          5059,
          3071,
          265,
          2034,
          27,
          7189,
          326,
          1137,
          4227,
          14,
          23,
          1954,
          7055,
          389,
          12,
          4448,
          1854,
          853,
          1176,
          1219,
          3882,
          505,
          1167,
          2827,
          86,
          2019,
          9690,
          3664,
          3369,
          2513,
          701,
          6208,
          344,
          289,
          2893,
          1701,
          1843,
          18752,
          1557,
          3439,
          1132,
          62,
          4548,
          1879,
          24,
          52,
          699,
          865,
          24141,
          114,
          1783,
          2181,
          2087,
          3196,
          2305,
          2805,
          1483,
          7235,
          3297,
          24,
          874,
          148,
          1455,
          1128,
          1202,
          10,
          1691,
          4552,
          2704
         ],
         "yaxis": "y6"
        },
        {
         "marker": {
          "color": [
           1,
           2,
           3,
           4,
           5,
           6,
           7,
           8,
           9,
           10,
           11,
           12,
           13,
           14,
           15,
           16,
           17,
           18,
           19,
           20,
           21,
           22,
           23,
           24,
           25,
           26,
           27,
           28,
           29,
           30,
           31,
           32,
           33,
           34,
           35,
           36,
           37,
           38,
           39,
           40,
           41,
           42,
           43,
           44,
           45,
           46,
           47,
           48,
           49,
           50,
           51,
           52,
           53,
           54,
           55,
           56,
           57,
           58,
           59,
           60,
           61,
           62,
           63,
           64,
           65,
           66,
           67,
           68,
           69,
           70,
           71,
           72,
           73,
           74,
           75,
           76,
           77,
           78,
           79,
           80,
           81,
           82,
           83,
           84,
           85,
           86,
           87,
           88,
           89,
           90
          ],
          "colorscale": [
           [
            0.0,
            "rgb(5, 10, 172)"
           ],
           [
            1.0,
            "rgb(220, 220, 220)"
           ]
          ],
          "showscale": false,
          "size": 6
         },
         "mode": "markers",
         "showlegend": false,
         "type": "scatter",
         "x": [
          17.4,
          14.4,
          46.8,
          23.9,
          20.5,
          19.1,
          31.4,
          42.7,
          26.5,
          31.4,
          45.2,
          45.0,
          30.2,
          31.3,
          43.2,
          47.1,
          39.8,
          21.6,
          14.7,
          16.0,
          16.8,
          31.1,
          37.2,
          41.8,
          16.4,
          28.5,
          35.9,
          45.3,
          19.2,
          14.2,
          21.0,
          26.3,
          41.5,
          42.3,
          29.0,
          -99.0,
          14.3,
          20.1,
          22.7,
          35.5,
          15.4,
          23.1,
          35.4,
          41.8,
          28.2,
          14.9,
          14.8,
          41.0,
          44.0,
          23.4,
          47.7,
          14.4,
          39.9,
          18.4,
          29.7,
          18.1,
          44.8,
          36.7,
          30.9,
          19.8,
          29.0,
          50.2,
          35.9,
          29.4,
          40.1,
          18.9,
          23.8,
          15.0,
          42.8,
          16.5,
          22.2,
          42.1,
          15.4,
          15.0,
          46.4,
          41.7,
          24.0,
          26.4,
          35.3,
          17.3,
          43.6,
          41.6,
          20.7,
          24.0,
          47.7,
          21.1,
          28.1,
          39.9,
          44.8,
          41.2
         ],
         "xaxis": "x7",
         "y": [
          4880,
          907,
          950,
          86,
          382,
          110,
          48,
          1770,
          99,
          739,
          1100,
          378,
          2328,
          226,
          4599,
          922,
          354,
          15841,
          4881,
          2532,
          1060,
          5059,
          3071,
          265,
          2034,
          27,
          7189,
          326,
          1137,
          4227,
          14,
          23,
          1954,
          7055,
          389,
          12,
          4448,
          1854,
          853,
          1176,
          1219,
          3882,
          505,
          1167,
          2827,
          86,
          2019,
          9690,
          3664,
          3369,
          2513,
          701,
          6208,
          344,
          289,
          2893,
          1701,
          1843,
          18752,
          1557,
          3439,
          1132,
          62,
          4548,
          1879,
          24,
          52,
          699,
          865,
          24141,
          114,
          1783,
          2181,
          2087,
          3196,
          2305,
          2805,
          1483,
          7235,
          3297,
          24,
          874,
          148,
          1455,
          1128,
          1202,
          10,
          1691,
          4552,
          2704
         ],
         "yaxis": "y7"
        },
        {
         "marker": {
          "color": [
           1,
           2,
           3,
           4,
           5,
           6,
           7,
           8,
           9,
           10,
           11,
           12,
           13,
           14,
           15,
           16,
           17,
           18,
           19,
           20,
           21,
           22,
           23,
           24,
           25,
           26,
           27,
           28,
           29,
           30,
           31,
           32,
           33,
           34,
           35,
           36,
           37,
           38,
           39,
           40,
           41,
           42,
           43,
           44,
           45,
           46,
           47,
           48,
           49,
           50,
           51,
           52,
           53,
           54,
           55,
           56,
           57,
           58,
           59,
           60,
           61,
           62,
           63,
           64,
           65,
           66,
           67,
           68,
           69,
           70,
           71,
           72,
           73,
           74,
           75,
           76,
           77,
           78,
           79,
           80,
           81,
           82,
           83,
           84,
           85,
           86,
           87,
           88,
           89,
           90
          ],
          "colorscale": [
           [
            0.0,
            "rgb(5, 10, 172)"
           ],
           [
            1.0,
            "rgb(220, 220, 220)"
           ]
          ],
          "showscale": false,
          "size": 6
         },
         "mode": "markers",
         "showlegend": false,
         "type": "scatter",
         "x": [
          19.0,
          19.0,
          4.0,
          10.9,
          13.5,
          21.0,
          6.2,
          5.0,
          7.3,
          6.4,
          3.9,
          4.4,
          6.9,
          7.1,
          5.5,
          4.0,
          4.9,
          13.6,
          26.8,
          20.1,
          18.5,
          6.4,
          4.4,
          5.3,
          25.9,
          9.9,
          6.4,
          3.8,
          20.8,
          26.5,
          13.2,
          10.5,
          4.9,
          5.2,
          8.6,
          null,
          26.0,
          20.1,
          13.6,
          5.7,
          26.2,
          12.0,
          6.7,
          4.9,
          6.6,
          22.7,
          25.3,
          4.8,
          4.3,
          6.3,
          4.0,
          26.1,
          5.0,
          16.6,
          6.6,
          21.3,
          4.8,
          5.5,
          8.8,
          20.8,
          8.4,
          4.2,
          6.1,
          9.4,
          4.9,
          13.7,
          11.7,
          24.1,
          4.3,
          24.5,
          13.3,
          4.2,
          21.8,
          26.3,
          4.4,
          5.1,
          14.9,
          10.4,
          5.8,
          16.9,
          5.4,
          4.6,
          15.0,
          12.3,
          3.3,
          19.5,
          5.4,
          4.6,
          3.7,
          4.2
         ],
         "xaxis": "x8",
         "y": [
          4880,
          907,
          950,
          86,
          382,
          110,
          48,
          1770,
          99,
          739,
          1100,
          378,
          2328,
          226,
          4599,
          922,
          354,
          15841,
          4881,
          2532,
          1060,
          5059,
          3071,
          265,
          2034,
          27,
          7189,
          326,
          1137,
          4227,
          14,
          23,
          1954,
          7055,
          389,
          12,
          4448,
          1854,
          853,
          1176,
          1219,
          3882,
          505,
          1167,
          2827,
          86,
          2019,
          9690,
          3664,
          3369,
          2513,
          701,
          6208,
          344,
          289,
          2893,
          1701,
          1843,
          18752,
          1557,
          3439,
          1132,
          62,
          4548,
          1879,
          24,
          52,
          699,
          865,
          24141,
          114,
          1783,
          2181,
          2087,
          3196,
          2305,
          2805,
          1483,
          7235,
          3297,
          24,
          874,
          148,
          1455,
          1128,
          1202,
          10,
          1691,
          4552,
          2704
         ],
         "yaxis": "y8"
        },
        {
         "marker": {
          "color": [
           1,
           2,
           3,
           4,
           5,
           6,
           7,
           8,
           9,
           10,
           11,
           12,
           13,
           14,
           15,
           16,
           17,
           18,
           19,
           20,
           21,
           22,
           23,
           24,
           25,
           26,
           27,
           28,
           29,
           30,
           31,
           32,
           33,
           34,
           35,
           36,
           37,
           38,
           39,
           40,
           41,
           42,
           43,
           44,
           45,
           46,
           47,
           48,
           49,
           50,
           51,
           52,
           53,
           54,
           55,
           56,
           57,
           58,
           59,
           60,
           61,
           62,
           63,
           64,
           65,
           66,
           67,
           68,
           69,
           70,
           71,
           72,
           73,
           74,
           75,
           76,
           77,
           78,
           79,
           80,
           81,
           82,
           83,
           84,
           85,
           86,
           87,
           88,
           89,
           90
          ],
          "colorscale": [
           [
            0.0,
            "rgb(5, 10, 172)"
           ],
           [
            1.0,
            "rgb(220, 220, 220)"
           ]
          ],
          "showscale": false,
          "size": 6
         },
         "mode": "markers",
         "showlegend": false,
         "type": "scatter",
         "x": [
          3984.2,
          39896.4,
          4714.1,
          14764.5,
          22817.2,
          15429.4,
          4789.4,
          779.1,
          2677.1,
          6360.6,
          611.1,
          244.6,
          3080.2,
          1158.7,
          333.2,
          713.0,
          1368.9,
          11015.0,
          11479.4,
          7656.6,
          21941.9,
          1956.3,
          16344.1,
          914.9,
          17112.0,
          4921.9,
          7960.7,
          473.2,
          3491.4,
          17788.0,
          36976.7,
          8933.8,
          530.0,
          703.9,
          4278.8,
          -99.0,
          12350.6,
          50936.0,
          5105.8,
          4940.1,
          13704.1,
          8571.4,
          940.6,
          455.9,
          5488.2,
          169491.8,
          14383.7,
          401.8,
          372.9,
          9446.5,
          744.3,
          23280.7,
          1235.0,
          9040.9,
          3973.4,
          6424.1,
          529.2,
          4673.6,
          724.5,
          38294.3,
          2086.9,
          359.0,
          2797.6,
          4174.4,
          697.3,
          7839.4,
          6739.2,
          49240.2,
          1752.8,
          5238.6,
          14133.2,
          694.8,
          16082.5,
          20689.8,
          144.5,
          1067.0,
          3973.7,
          8985.3,
          925.9,
          5814.8,
          2425.4,
          559.4,
          19062.9,
          3660.9,
          647.7,
          15573.8,
          -99.0,
          1106.4,
          1311.1,
          890.4
         ],
         "xaxis": "x9",
         "y": [
          17.4,
          14.4,
          46.8,
          23.9,
          20.5,
          19.1,
          31.4,
          42.7,
          26.5,
          31.4,
          45.2,
          45.0,
          30.2,
          31.3,
          43.2,
          47.1,
          39.8,
          21.6,
          14.7,
          16.0,
          16.8,
          31.1,
          37.2,
          41.8,
          16.4,
          28.5,
          35.9,
          45.3,
          19.2,
          14.2,
          21.0,
          26.3,
          41.5,
          42.3,
          29.0,
          -99.0,
          14.3,
          20.1,
          22.7,
          35.5,
          15.4,
          23.1,
          35.4,
          41.8,
          28.2,
          14.9,
          14.8,
          41.0,
          44.0,
          23.4,
          47.7,
          14.4,
          39.9,
          18.4,
          29.7,
          18.1,
          44.8,
          36.7,
          30.9,
          19.8,
          29.0,
          50.2,
          35.9,
          29.4,
          40.1,
          18.9,
          23.8,
          15.0,
          42.8,
          16.5,
          22.2,
          42.1,
          15.4,
          15.0,
          46.4,
          41.7,
          24.0,
          26.4,
          35.3,
          17.3,
          43.6,
          41.6,
          20.7,
          24.0,
          47.7,
          21.1,
          28.1,
          39.9,
          44.8,
          41.2
         ],
         "yaxis": "y9"
        },
        {
         "marker": {
          "color": [
           1,
           2,
           3,
           4,
           5,
           6,
           7,
           8,
           9,
           10,
           11,
           12,
           13,
           14,
           15,
           16,
           17,
           18,
           19,
           20,
           21,
           22,
           23,
           24,
           25,
           26,
           27,
           28,
           29,
           30,
           31,
           32,
           33,
           34,
           35,
           36,
           37,
           38,
           39,
           40,
           41,
           42,
           43,
           44,
           45,
           46,
           47,
           48,
           49,
           50,
           51,
           52,
           53,
           54,
           55,
           56,
           57,
           58,
           59,
           60,
           61,
           62,
           63,
           64,
           65,
           66,
           67,
           68,
           69,
           70,
           71,
           72,
           73,
           74,
           75,
           76,
           77,
           78,
           79,
           80,
           81,
           82,
           83,
           84,
           85,
           86,
           87,
           88,
           89,
           90
          ],
          "colorscale": [
           [
            0.0,
            "rgb(5, 10, 172)"
           ],
           [
            1.0,
            "rgb(220, 220, 220)"
           ]
          ],
          "showscale": false,
          "size": 6
         },
         "mode": "markers",
         "showlegend": false,
         "type": "scatter",
         "x": [
          4880,
          907,
          950,
          86,
          382,
          110,
          48,
          1770,
          99,
          739,
          1100,
          378,
          2328,
          226,
          4599,
          922,
          354,
          15841,
          4881,
          2532,
          1060,
          5059,
          3071,
          265,
          2034,
          27,
          7189,
          326,
          1137,
          4227,
          14,
          23,
          1954,
          7055,
          389,
          12,
          4448,
          1854,
          853,
          1176,
          1219,
          3882,
          505,
          1167,
          2827,
          86,
          2019,
          9690,
          3664,
          3369,
          2513,
          701,
          6208,
          344,
          289,
          2893,
          1701,
          1843,
          18752,
          1557,
          3439,
          1132,
          62,
          4548,
          1879,
          24,
          52,
          699,
          865,
          24141,
          114,
          1783,
          2181,
          2087,
          3196,
          2305,
          2805,
          1483,
          7235,
          3297,
          24,
          874,
          148,
          1455,
          1128,
          1202,
          10,
          1691,
          4552,
          2704
         ],
         "xaxis": "x10",
         "y": [
          17.4,
          14.4,
          46.8,
          23.9,
          20.5,
          19.1,
          31.4,
          42.7,
          26.5,
          31.4,
          45.2,
          45.0,
          30.2,
          31.3,
          43.2,
          47.1,
          39.8,
          21.6,
          14.7,
          16.0,
          16.8,
          31.1,
          37.2,
          41.8,
          16.4,
          28.5,
          35.9,
          45.3,
          19.2,
          14.2,
          21.0,
          26.3,
          41.5,
          42.3,
          29.0,
          -99.0,
          14.3,
          20.1,
          22.7,
          35.5,
          15.4,
          23.1,
          35.4,
          41.8,
          28.2,
          14.9,
          14.8,
          41.0,
          44.0,
          23.4,
          47.7,
          14.4,
          39.9,
          18.4,
          29.7,
          18.1,
          44.8,
          36.7,
          30.9,
          19.8,
          29.0,
          50.2,
          35.9,
          29.4,
          40.1,
          18.9,
          23.8,
          15.0,
          42.8,
          16.5,
          22.2,
          42.1,
          15.4,
          15.0,
          46.4,
          41.7,
          24.0,
          26.4,
          35.3,
          17.3,
          43.6,
          41.6,
          20.7,
          24.0,
          47.7,
          21.1,
          28.1,
          39.9,
          44.8,
          41.2
         ],
         "yaxis": "y10"
        },
        {
         "marker": {
          "color": "rgb(5, 10, 172)"
         },
         "showlegend": false,
         "type": "box",
         "xaxis": "x11",
         "y": [
          17.4,
          14.4,
          46.8,
          23.9,
          20.5,
          19.1,
          31.4,
          42.7,
          26.5,
          31.4,
          45.2,
          45.0,
          30.2,
          31.3,
          43.2,
          47.1,
          39.8,
          21.6,
          14.7,
          16.0,
          16.8,
          31.1,
          37.2,
          41.8,
          16.4,
          28.5,
          35.9,
          45.3,
          19.2,
          14.2,
          21.0,
          26.3,
          41.5,
          42.3,
          29.0,
          -99.0,
          14.3,
          20.1,
          22.7,
          35.5,
          15.4,
          23.1,
          35.4,
          41.8,
          28.2,
          14.9,
          14.8,
          41.0,
          44.0,
          23.4,
          47.7,
          14.4,
          39.9,
          18.4,
          29.7,
          18.1,
          44.8,
          36.7,
          30.9,
          19.8,
          29.0,
          50.2,
          35.9,
          29.4,
          40.1,
          18.9,
          23.8,
          15.0,
          42.8,
          16.5,
          22.2,
          42.1,
          15.4,
          15.0,
          46.4,
          41.7,
          24.0,
          26.4,
          35.3,
          17.3,
          43.6,
          41.6,
          20.7,
          24.0,
          47.7,
          21.1,
          28.1,
          39.9,
          44.8,
          41.2
         ],
         "yaxis": "y11"
        },
        {
         "marker": {
          "color": [
           1,
           2,
           3,
           4,
           5,
           6,
           7,
           8,
           9,
           10,
           11,
           12,
           13,
           14,
           15,
           16,
           17,
           18,
           19,
           20,
           21,
           22,
           23,
           24,
           25,
           26,
           27,
           28,
           29,
           30,
           31,
           32,
           33,
           34,
           35,
           36,
           37,
           38,
           39,
           40,
           41,
           42,
           43,
           44,
           45,
           46,
           47,
           48,
           49,
           50,
           51,
           52,
           53,
           54,
           55,
           56,
           57,
           58,
           59,
           60,
           61,
           62,
           63,
           64,
           65,
           66,
           67,
           68,
           69,
           70,
           71,
           72,
           73,
           74,
           75,
           76,
           77,
           78,
           79,
           80,
           81,
           82,
           83,
           84,
           85,
           86,
           87,
           88,
           89,
           90
          ],
          "colorscale": [
           [
            0.0,
            "rgb(5, 10, 172)"
           ],
           [
            1.0,
            "rgb(220, 220, 220)"
           ]
          ],
          "showscale": false,
          "size": 6
         },
         "mode": "markers",
         "showlegend": false,
         "type": "scatter",
         "x": [
          19.0,
          19.0,
          4.0,
          10.9,
          13.5,
          21.0,
          6.2,
          5.0,
          7.3,
          6.4,
          3.9,
          4.4,
          6.9,
          7.1,
          5.5,
          4.0,
          4.9,
          13.6,
          26.8,
          20.1,
          18.5,
          6.4,
          4.4,
          5.3,
          25.9,
          9.9,
          6.4,
          3.8,
          20.8,
          26.5,
          13.2,
          10.5,
          4.9,
          5.2,
          8.6,
          null,
          26.0,
          20.1,
          13.6,
          5.7,
          26.2,
          12.0,
          6.7,
          4.9,
          6.6,
          22.7,
          25.3,
          4.8,
          4.3,
          6.3,
          4.0,
          26.1,
          5.0,
          16.6,
          6.6,
          21.3,
          4.8,
          5.5,
          8.8,
          20.8,
          8.4,
          4.2,
          6.1,
          9.4,
          4.9,
          13.7,
          11.7,
          24.1,
          4.3,
          24.5,
          13.3,
          4.2,
          21.8,
          26.3,
          4.4,
          5.1,
          14.9,
          10.4,
          5.8,
          16.9,
          5.4,
          4.6,
          15.0,
          12.3,
          3.3,
          19.5,
          5.4,
          4.6,
          3.7,
          4.2
         ],
         "xaxis": "x12",
         "y": [
          17.4,
          14.4,
          46.8,
          23.9,
          20.5,
          19.1,
          31.4,
          42.7,
          26.5,
          31.4,
          45.2,
          45.0,
          30.2,
          31.3,
          43.2,
          47.1,
          39.8,
          21.6,
          14.7,
          16.0,
          16.8,
          31.1,
          37.2,
          41.8,
          16.4,
          28.5,
          35.9,
          45.3,
          19.2,
          14.2,
          21.0,
          26.3,
          41.5,
          42.3,
          29.0,
          -99.0,
          14.3,
          20.1,
          22.7,
          35.5,
          15.4,
          23.1,
          35.4,
          41.8,
          28.2,
          14.9,
          14.8,
          41.0,
          44.0,
          23.4,
          47.7,
          14.4,
          39.9,
          18.4,
          29.7,
          18.1,
          44.8,
          36.7,
          30.9,
          19.8,
          29.0,
          50.2,
          35.9,
          29.4,
          40.1,
          18.9,
          23.8,
          15.0,
          42.8,
          16.5,
          22.2,
          42.1,
          15.4,
          15.0,
          46.4,
          41.7,
          24.0,
          26.4,
          35.3,
          17.3,
          43.6,
          41.6,
          20.7,
          24.0,
          47.7,
          21.1,
          28.1,
          39.9,
          44.8,
          41.2
         ],
         "yaxis": "y12"
        },
        {
         "marker": {
          "color": [
           1,
           2,
           3,
           4,
           5,
           6,
           7,
           8,
           9,
           10,
           11,
           12,
           13,
           14,
           15,
           16,
           17,
           18,
           19,
           20,
           21,
           22,
           23,
           24,
           25,
           26,
           27,
           28,
           29,
           30,
           31,
           32,
           33,
           34,
           35,
           36,
           37,
           38,
           39,
           40,
           41,
           42,
           43,
           44,
           45,
           46,
           47,
           48,
           49,
           50,
           51,
           52,
           53,
           54,
           55,
           56,
           57,
           58,
           59,
           60,
           61,
           62,
           63,
           64,
           65,
           66,
           67,
           68,
           69,
           70,
           71,
           72,
           73,
           74,
           75,
           76,
           77,
           78,
           79,
           80,
           81,
           82,
           83,
           84,
           85,
           86,
           87,
           88,
           89,
           90
          ],
          "colorscale": [
           [
            0.0,
            "rgb(5, 10, 172)"
           ],
           [
            1.0,
            "rgb(220, 220, 220)"
           ]
          ],
          "showscale": false,
          "size": 6
         },
         "mode": "markers",
         "showlegend": false,
         "type": "scatter",
         "x": [
          3984.2,
          39896.4,
          4714.1,
          14764.5,
          22817.2,
          15429.4,
          4789.4,
          779.1,
          2677.1,
          6360.6,
          611.1,
          244.6,
          3080.2,
          1158.7,
          333.2,
          713.0,
          1368.9,
          11015.0,
          11479.4,
          7656.6,
          21941.9,
          1956.3,
          16344.1,
          914.9,
          17112.0,
          4921.9,
          7960.7,
          473.2,
          3491.4,
          17788.0,
          36976.7,
          8933.8,
          530.0,
          703.9,
          4278.8,
          -99.0,
          12350.6,
          50936.0,
          5105.8,
          4940.1,
          13704.1,
          8571.4,
          940.6,
          455.9,
          5488.2,
          169491.8,
          14383.7,
          401.8,
          372.9,
          9446.5,
          744.3,
          23280.7,
          1235.0,
          9040.9,
          3973.4,
          6424.1,
          529.2,
          4673.6,
          724.5,
          38294.3,
          2086.9,
          359.0,
          2797.6,
          4174.4,
          697.3,
          7839.4,
          6739.2,
          49240.2,
          1752.8,
          5238.6,
          14133.2,
          694.8,
          16082.5,
          20689.8,
          144.5,
          1067.0,
          3973.7,
          8985.3,
          925.9,
          5814.8,
          2425.4,
          559.4,
          19062.9,
          3660.9,
          647.7,
          15573.8,
          -99.0,
          1106.4,
          1311.1,
          890.4
         ],
         "xaxis": "x13",
         "y": [
          19.0,
          19.0,
          4.0,
          10.9,
          13.5,
          21.0,
          6.2,
          5.0,
          7.3,
          6.4,
          3.9,
          4.4,
          6.9,
          7.1,
          5.5,
          4.0,
          4.9,
          13.6,
          26.8,
          20.1,
          18.5,
          6.4,
          4.4,
          5.3,
          25.9,
          9.9,
          6.4,
          3.8,
          20.8,
          26.5,
          13.2,
          10.5,
          4.9,
          5.2,
          8.6,
          null,
          26.0,
          20.1,
          13.6,
          5.7,
          26.2,
          12.0,
          6.7,
          4.9,
          6.6,
          22.7,
          25.3,
          4.8,
          4.3,
          6.3,
          4.0,
          26.1,
          5.0,
          16.6,
          6.6,
          21.3,
          4.8,
          5.5,
          8.8,
          20.8,
          8.4,
          4.2,
          6.1,
          9.4,
          4.9,
          13.7,
          11.7,
          24.1,
          4.3,
          24.5,
          13.3,
          4.2,
          21.8,
          26.3,
          4.4,
          5.1,
          14.9,
          10.4,
          5.8,
          16.9,
          5.4,
          4.6,
          15.0,
          12.3,
          3.3,
          19.5,
          5.4,
          4.6,
          3.7,
          4.2
         ],
         "yaxis": "y13"
        },
        {
         "marker": {
          "color": [
           1,
           2,
           3,
           4,
           5,
           6,
           7,
           8,
           9,
           10,
           11,
           12,
           13,
           14,
           15,
           16,
           17,
           18,
           19,
           20,
           21,
           22,
           23,
           24,
           25,
           26,
           27,
           28,
           29,
           30,
           31,
           32,
           33,
           34,
           35,
           36,
           37,
           38,
           39,
           40,
           41,
           42,
           43,
           44,
           45,
           46,
           47,
           48,
           49,
           50,
           51,
           52,
           53,
           54,
           55,
           56,
           57,
           58,
           59,
           60,
           61,
           62,
           63,
           64,
           65,
           66,
           67,
           68,
           69,
           70,
           71,
           72,
           73,
           74,
           75,
           76,
           77,
           78,
           79,
           80,
           81,
           82,
           83,
           84,
           85,
           86,
           87,
           88,
           89,
           90
          ],
          "colorscale": [
           [
            0.0,
            "rgb(5, 10, 172)"
           ],
           [
            1.0,
            "rgb(220, 220, 220)"
           ]
          ],
          "showscale": false,
          "size": 6
         },
         "mode": "markers",
         "showlegend": false,
         "type": "scatter",
         "x": [
          4880,
          907,
          950,
          86,
          382,
          110,
          48,
          1770,
          99,
          739,
          1100,
          378,
          2328,
          226,
          4599,
          922,
          354,
          15841,
          4881,
          2532,
          1060,
          5059,
          3071,
          265,
          2034,
          27,
          7189,
          326,
          1137,
          4227,
          14,
          23,
          1954,
          7055,
          389,
          12,
          4448,
          1854,
          853,
          1176,
          1219,
          3882,
          505,
          1167,
          2827,
          86,
          2019,
          9690,
          3664,
          3369,
          2513,
          701,
          6208,
          344,
          289,
          2893,
          1701,
          1843,
          18752,
          1557,
          3439,
          1132,
          62,
          4548,
          1879,
          24,
          52,
          699,
          865,
          24141,
          114,
          1783,
          2181,
          2087,
          3196,
          2305,
          2805,
          1483,
          7235,
          3297,
          24,
          874,
          148,
          1455,
          1128,
          1202,
          10,
          1691,
          4552,
          2704
         ],
         "xaxis": "x14",
         "y": [
          19.0,
          19.0,
          4.0,
          10.9,
          13.5,
          21.0,
          6.2,
          5.0,
          7.3,
          6.4,
          3.9,
          4.4,
          6.9,
          7.1,
          5.5,
          4.0,
          4.9,
          13.6,
          26.8,
          20.1,
          18.5,
          6.4,
          4.4,
          5.3,
          25.9,
          9.9,
          6.4,
          3.8,
          20.8,
          26.5,
          13.2,
          10.5,
          4.9,
          5.2,
          8.6,
          null,
          26.0,
          20.1,
          13.6,
          5.7,
          26.2,
          12.0,
          6.7,
          4.9,
          6.6,
          22.7,
          25.3,
          4.8,
          4.3,
          6.3,
          4.0,
          26.1,
          5.0,
          16.6,
          6.6,
          21.3,
          4.8,
          5.5,
          8.8,
          20.8,
          8.4,
          4.2,
          6.1,
          9.4,
          4.9,
          13.7,
          11.7,
          24.1,
          4.3,
          24.5,
          13.3,
          4.2,
          21.8,
          26.3,
          4.4,
          5.1,
          14.9,
          10.4,
          5.8,
          16.9,
          5.4,
          4.6,
          15.0,
          12.3,
          3.3,
          19.5,
          5.4,
          4.6,
          3.7,
          4.2
         ],
         "yaxis": "y14"
        },
        {
         "marker": {
          "color": [
           1,
           2,
           3,
           4,
           5,
           6,
           7,
           8,
           9,
           10,
           11,
           12,
           13,
           14,
           15,
           16,
           17,
           18,
           19,
           20,
           21,
           22,
           23,
           24,
           25,
           26,
           27,
           28,
           29,
           30,
           31,
           32,
           33,
           34,
           35,
           36,
           37,
           38,
           39,
           40,
           41,
           42,
           43,
           44,
           45,
           46,
           47,
           48,
           49,
           50,
           51,
           52,
           53,
           54,
           55,
           56,
           57,
           58,
           59,
           60,
           61,
           62,
           63,
           64,
           65,
           66,
           67,
           68,
           69,
           70,
           71,
           72,
           73,
           74,
           75,
           76,
           77,
           78,
           79,
           80,
           81,
           82,
           83,
           84,
           85,
           86,
           87,
           88,
           89,
           90
          ],
          "colorscale": [
           [
            0.0,
            "rgb(5, 10, 172)"
           ],
           [
            1.0,
            "rgb(220, 220, 220)"
           ]
          ],
          "showscale": false,
          "size": 6
         },
         "mode": "markers",
         "showlegend": false,
         "type": "scatter",
         "x": [
          17.4,
          14.4,
          46.8,
          23.9,
          20.5,
          19.1,
          31.4,
          42.7,
          26.5,
          31.4,
          45.2,
          45.0,
          30.2,
          31.3,
          43.2,
          47.1,
          39.8,
          21.6,
          14.7,
          16.0,
          16.8,
          31.1,
          37.2,
          41.8,
          16.4,
          28.5,
          35.9,
          45.3,
          19.2,
          14.2,
          21.0,
          26.3,
          41.5,
          42.3,
          29.0,
          -99.0,
          14.3,
          20.1,
          22.7,
          35.5,
          15.4,
          23.1,
          35.4,
          41.8,
          28.2,
          14.9,
          14.8,
          41.0,
          44.0,
          23.4,
          47.7,
          14.4,
          39.9,
          18.4,
          29.7,
          18.1,
          44.8,
          36.7,
          30.9,
          19.8,
          29.0,
          50.2,
          35.9,
          29.4,
          40.1,
          18.9,
          23.8,
          15.0,
          42.8,
          16.5,
          22.2,
          42.1,
          15.4,
          15.0,
          46.4,
          41.7,
          24.0,
          26.4,
          35.3,
          17.3,
          43.6,
          41.6,
          20.7,
          24.0,
          47.7,
          21.1,
          28.1,
          39.9,
          44.8,
          41.2
         ],
         "xaxis": "x15",
         "y": [
          19.0,
          19.0,
          4.0,
          10.9,
          13.5,
          21.0,
          6.2,
          5.0,
          7.3,
          6.4,
          3.9,
          4.4,
          6.9,
          7.1,
          5.5,
          4.0,
          4.9,
          13.6,
          26.8,
          20.1,
          18.5,
          6.4,
          4.4,
          5.3,
          25.9,
          9.9,
          6.4,
          3.8,
          20.8,
          26.5,
          13.2,
          10.5,
          4.9,
          5.2,
          8.6,
          null,
          26.0,
          20.1,
          13.6,
          5.7,
          26.2,
          12.0,
          6.7,
          4.9,
          6.6,
          22.7,
          25.3,
          4.8,
          4.3,
          6.3,
          4.0,
          26.1,
          5.0,
          16.6,
          6.6,
          21.3,
          4.8,
          5.5,
          8.8,
          20.8,
          8.4,
          4.2,
          6.1,
          9.4,
          4.9,
          13.7,
          11.7,
          24.1,
          4.3,
          24.5,
          13.3,
          4.2,
          21.8,
          26.3,
          4.4,
          5.1,
          14.9,
          10.4,
          5.8,
          16.9,
          5.4,
          4.6,
          15.0,
          12.3,
          3.3,
          19.5,
          5.4,
          4.6,
          3.7,
          4.2
         ],
         "yaxis": "y15"
        },
        {
         "marker": {
          "color": "rgb(5, 10, 172)"
         },
         "showlegend": false,
         "type": "box",
         "xaxis": "x16",
         "y": [
          19.0,
          19.0,
          4.0,
          10.9,
          13.5,
          21.0,
          6.2,
          5.0,
          7.3,
          6.4,
          3.9,
          4.4,
          6.9,
          7.1,
          5.5,
          4.0,
          4.9,
          13.6,
          26.8,
          20.1,
          18.5,
          6.4,
          4.4,
          5.3,
          25.9,
          9.9,
          6.4,
          3.8,
          20.8,
          26.5,
          13.2,
          10.5,
          4.9,
          5.2,
          8.6,
          null,
          26.0,
          20.1,
          13.6,
          5.7,
          26.2,
          12.0,
          6.7,
          4.9,
          6.6,
          22.7,
          25.3,
          4.8,
          4.3,
          6.3,
          4.0,
          26.1,
          5.0,
          16.6,
          6.6,
          21.3,
          4.8,
          5.5,
          8.8,
          20.8,
          8.4,
          4.2,
          6.1,
          9.4,
          4.9,
          13.7,
          11.7,
          24.1,
          4.3,
          24.5,
          13.3,
          4.2,
          21.8,
          26.3,
          4.4,
          5.1,
          14.9,
          10.4,
          5.8,
          16.9,
          5.4,
          4.6,
          15.0,
          12.3,
          3.3,
          19.5,
          5.4,
          4.6,
          3.7,
          4.2
         ],
         "yaxis": "y16"
        }
       ],
       "layout": {
        "height": 700,
        "showlegend": true,
        "template": {
         "data": {
          "bar": [
           {
            "error_x": {
             "color": "#2a3f5f"
            },
            "error_y": {
             "color": "#2a3f5f"
            },
            "marker": {
             "line": {
              "color": "#E5ECF6",
              "width": 0.5
             },
             "pattern": {
              "fillmode": "overlay",
              "size": 10,
              "solidity": 0.2
             }
            },
            "type": "bar"
           }
          ],
          "barpolar": [
           {
            "marker": {
             "line": {
              "color": "#E5ECF6",
              "width": 0.5
             },
             "pattern": {
              "fillmode": "overlay",
              "size": 10,
              "solidity": 0.2
             }
            },
            "type": "barpolar"
           }
          ],
          "carpet": [
           {
            "aaxis": {
             "endlinecolor": "#2a3f5f",
             "gridcolor": "white",
             "linecolor": "white",
             "minorgridcolor": "white",
             "startlinecolor": "#2a3f5f"
            },
            "baxis": {
             "endlinecolor": "#2a3f5f",
             "gridcolor": "white",
             "linecolor": "white",
             "minorgridcolor": "white",
             "startlinecolor": "#2a3f5f"
            },
            "type": "carpet"
           }
          ],
          "choropleth": [
           {
            "colorbar": {
             "outlinewidth": 0,
             "ticks": ""
            },
            "type": "choropleth"
           }
          ],
          "contour": [
           {
            "colorbar": {
             "outlinewidth": 0,
             "ticks": ""
            },
            "colorscale": [
             [
              0.0,
              "#0d0887"
             ],
             [
              0.1111111111111111,
              "#46039f"
             ],
             [
              0.2222222222222222,
              "#7201a8"
             ],
             [
              0.3333333333333333,
              "#9c179e"
             ],
             [
              0.4444444444444444,
              "#bd3786"
             ],
             [
              0.5555555555555556,
              "#d8576b"
             ],
             [
              0.6666666666666666,
              "#ed7953"
             ],
             [
              0.7777777777777778,
              "#fb9f3a"
             ],
             [
              0.8888888888888888,
              "#fdca26"
             ],
             [
              1.0,
              "#f0f921"
             ]
            ],
            "type": "contour"
           }
          ],
          "contourcarpet": [
           {
            "colorbar": {
             "outlinewidth": 0,
             "ticks": ""
            },
            "type": "contourcarpet"
           }
          ],
          "heatmap": [
           {
            "colorbar": {
             "outlinewidth": 0,
             "ticks": ""
            },
            "colorscale": [
             [
              0.0,
              "#0d0887"
             ],
             [
              0.1111111111111111,
              "#46039f"
             ],
             [
              0.2222222222222222,
              "#7201a8"
             ],
             [
              0.3333333333333333,
              "#9c179e"
             ],
             [
              0.4444444444444444,
              "#bd3786"
             ],
             [
              0.5555555555555556,
              "#d8576b"
             ],
             [
              0.6666666666666666,
              "#ed7953"
             ],
             [
              0.7777777777777778,
              "#fb9f3a"
             ],
             [
              0.8888888888888888,
              "#fdca26"
             ],
             [
              1.0,
              "#f0f921"
             ]
            ],
            "type": "heatmap"
           }
          ],
          "heatmapgl": [
           {
            "colorbar": {
             "outlinewidth": 0,
             "ticks": ""
            },
            "colorscale": [
             [
              0.0,
              "#0d0887"
             ],
             [
              0.1111111111111111,
              "#46039f"
             ],
             [
              0.2222222222222222,
              "#7201a8"
             ],
             [
              0.3333333333333333,
              "#9c179e"
             ],
             [
              0.4444444444444444,
              "#bd3786"
             ],
             [
              0.5555555555555556,
              "#d8576b"
             ],
             [
              0.6666666666666666,
              "#ed7953"
             ],
             [
              0.7777777777777778,
              "#fb9f3a"
             ],
             [
              0.8888888888888888,
              "#fdca26"
             ],
             [
              1.0,
              "#f0f921"
             ]
            ],
            "type": "heatmapgl"
           }
          ],
          "histogram": [
           {
            "marker": {
             "pattern": {
              "fillmode": "overlay",
              "size": 10,
              "solidity": 0.2
             }
            },
            "type": "histogram"
           }
          ],
          "histogram2d": [
           {
            "colorbar": {
             "outlinewidth": 0,
             "ticks": ""
            },
            "colorscale": [
             [
              0.0,
              "#0d0887"
             ],
             [
              0.1111111111111111,
              "#46039f"
             ],
             [
              0.2222222222222222,
              "#7201a8"
             ],
             [
              0.3333333333333333,
              "#9c179e"
             ],
             [
              0.4444444444444444,
              "#bd3786"
             ],
             [
              0.5555555555555556,
              "#d8576b"
             ],
             [
              0.6666666666666666,
              "#ed7953"
             ],
             [
              0.7777777777777778,
              "#fb9f3a"
             ],
             [
              0.8888888888888888,
              "#fdca26"
             ],
             [
              1.0,
              "#f0f921"
             ]
            ],
            "type": "histogram2d"
           }
          ],
          "histogram2dcontour": [
           {
            "colorbar": {
             "outlinewidth": 0,
             "ticks": ""
            },
            "colorscale": [
             [
              0.0,
              "#0d0887"
             ],
             [
              0.1111111111111111,
              "#46039f"
             ],
             [
              0.2222222222222222,
              "#7201a8"
             ],
             [
              0.3333333333333333,
              "#9c179e"
             ],
             [
              0.4444444444444444,
              "#bd3786"
             ],
             [
              0.5555555555555556,
              "#d8576b"
             ],
             [
              0.6666666666666666,
              "#ed7953"
             ],
             [
              0.7777777777777778,
              "#fb9f3a"
             ],
             [
              0.8888888888888888,
              "#fdca26"
             ],
             [
              1.0,
              "#f0f921"
             ]
            ],
            "type": "histogram2dcontour"
           }
          ],
          "mesh3d": [
           {
            "colorbar": {
             "outlinewidth": 0,
             "ticks": ""
            },
            "type": "mesh3d"
           }
          ],
          "parcoords": [
           {
            "line": {
             "colorbar": {
              "outlinewidth": 0,
              "ticks": ""
             }
            },
            "type": "parcoords"
           }
          ],
          "pie": [
           {
            "automargin": true,
            "type": "pie"
           }
          ],
          "scatter": [
           {
            "fillpattern": {
             "fillmode": "overlay",
             "size": 10,
             "solidity": 0.2
            },
            "type": "scatter"
           }
          ],
          "scatter3d": [
           {
            "line": {
             "colorbar": {
              "outlinewidth": 0,
              "ticks": ""
             }
            },
            "marker": {
             "colorbar": {
              "outlinewidth": 0,
              "ticks": ""
             }
            },
            "type": "scatter3d"
           }
          ],
          "scattercarpet": [
           {
            "marker": {
             "colorbar": {
              "outlinewidth": 0,
              "ticks": ""
             }
            },
            "type": "scattercarpet"
           }
          ],
          "scattergeo": [
           {
            "marker": {
             "colorbar": {
              "outlinewidth": 0,
              "ticks": ""
             }
            },
            "type": "scattergeo"
           }
          ],
          "scattergl": [
           {
            "marker": {
             "colorbar": {
              "outlinewidth": 0,
              "ticks": ""
             }
            },
            "type": "scattergl"
           }
          ],
          "scattermapbox": [
           {
            "marker": {
             "colorbar": {
              "outlinewidth": 0,
              "ticks": ""
             }
            },
            "type": "scattermapbox"
           }
          ],
          "scatterpolar": [
           {
            "marker": {
             "colorbar": {
              "outlinewidth": 0,
              "ticks": ""
             }
            },
            "type": "scatterpolar"
           }
          ],
          "scatterpolargl": [
           {
            "marker": {
             "colorbar": {
              "outlinewidth": 0,
              "ticks": ""
             }
            },
            "type": "scatterpolargl"
           }
          ],
          "scatterternary": [
           {
            "marker": {
             "colorbar": {
              "outlinewidth": 0,
              "ticks": ""
             }
            },
            "type": "scatterternary"
           }
          ],
          "surface": [
           {
            "colorbar": {
             "outlinewidth": 0,
             "ticks": ""
            },
            "colorscale": [
             [
              0.0,
              "#0d0887"
             ],
             [
              0.1111111111111111,
              "#46039f"
             ],
             [
              0.2222222222222222,
              "#7201a8"
             ],
             [
              0.3333333333333333,
              "#9c179e"
             ],
             [
              0.4444444444444444,
              "#bd3786"
             ],
             [
              0.5555555555555556,
              "#d8576b"
             ],
             [
              0.6666666666666666,
              "#ed7953"
             ],
             [
              0.7777777777777778,
              "#fb9f3a"
             ],
             [
              0.8888888888888888,
              "#fdca26"
             ],
             [
              1.0,
              "#f0f921"
             ]
            ],
            "type": "surface"
           }
          ],
          "table": [
           {
            "cells": {
             "fill": {
              "color": "#EBF0F8"
             },
             "line": {
              "color": "white"
             }
            },
            "header": {
             "fill": {
              "color": "#C8D4E3"
             },
             "line": {
              "color": "white"
             }
            },
            "type": "table"
           }
          ]
         },
         "layout": {
          "annotationdefaults": {
           "arrowcolor": "#2a3f5f",
           "arrowhead": 0,
           "arrowwidth": 1
          },
          "autotypenumbers": "strict",
          "coloraxis": {
           "colorbar": {
            "outlinewidth": 0,
            "ticks": ""
           }
          },
          "colorscale": {
           "diverging": [
            [
             0,
             "#8e0152"
            ],
            [
             0.1,
             "#c51b7d"
            ],
            [
             0.2,
             "#de77ae"
            ],
            [
             0.3,
             "#f1b6da"
            ],
            [
             0.4,
             "#fde0ef"
            ],
            [
             0.5,
             "#f7f7f7"
            ],
            [
             0.6,
             "#e6f5d0"
            ],
            [
             0.7,
             "#b8e186"
            ],
            [
             0.8,
             "#7fbc41"
            ],
            [
             0.9,
             "#4d9221"
            ],
            [
             1,
             "#276419"
            ]
           ],
           "sequential": [
            [
             0.0,
             "#0d0887"
            ],
            [
             0.1111111111111111,
             "#46039f"
            ],
            [
             0.2222222222222222,
             "#7201a8"
            ],
            [
             0.3333333333333333,
             "#9c179e"
            ],
            [
             0.4444444444444444,
             "#bd3786"
            ],
            [
             0.5555555555555556,
             "#d8576b"
            ],
            [
             0.6666666666666666,
             "#ed7953"
            ],
            [
             0.7777777777777778,
             "#fb9f3a"
            ],
            [
             0.8888888888888888,
             "#fdca26"
            ],
            [
             1.0,
             "#f0f921"
            ]
           ],
           "sequentialminus": [
            [
             0.0,
             "#0d0887"
            ],
            [
             0.1111111111111111,
             "#46039f"
            ],
            [
             0.2222222222222222,
             "#7201a8"
            ],
            [
             0.3333333333333333,
             "#9c179e"
            ],
            [
             0.4444444444444444,
             "#bd3786"
            ],
            [
             0.5555555555555556,
             "#d8576b"
            ],
            [
             0.6666666666666666,
             "#ed7953"
            ],
            [
             0.7777777777777778,
             "#fb9f3a"
            ],
            [
             0.8888888888888888,
             "#fdca26"
            ],
            [
             1.0,
             "#f0f921"
            ]
           ]
          },
          "colorway": [
           "#636efa",
           "#EF553B",
           "#00cc96",
           "#ab63fa",
           "#FFA15A",
           "#19d3f3",
           "#FF6692",
           "#B6E880",
           "#FF97FF",
           "#FECB52"
          ],
          "font": {
           "color": "#2a3f5f"
          },
          "geo": {
           "bgcolor": "white",
           "lakecolor": "white",
           "landcolor": "#E5ECF6",
           "showlakes": true,
           "showland": true,
           "subunitcolor": "white"
          },
          "hoverlabel": {
           "align": "left"
          },
          "hovermode": "closest",
          "mapbox": {
           "style": "light"
          },
          "paper_bgcolor": "white",
          "plot_bgcolor": "#E5ECF6",
          "polar": {
           "angularaxis": {
            "gridcolor": "white",
            "linecolor": "white",
            "ticks": ""
           },
           "bgcolor": "#E5ECF6",
           "radialaxis": {
            "gridcolor": "white",
            "linecolor": "white",
            "ticks": ""
           }
          },
          "scene": {
           "xaxis": {
            "backgroundcolor": "#E5ECF6",
            "gridcolor": "white",
            "gridwidth": 2,
            "linecolor": "white",
            "showbackground": true,
            "ticks": "",
            "zerolinecolor": "white"
           },
           "yaxis": {
            "backgroundcolor": "#E5ECF6",
            "gridcolor": "white",
            "gridwidth": 2,
            "linecolor": "white",
            "showbackground": true,
            "ticks": "",
            "zerolinecolor": "white"
           },
           "zaxis": {
            "backgroundcolor": "#E5ECF6",
            "gridcolor": "white",
            "gridwidth": 2,
            "linecolor": "white",
            "showbackground": true,
            "ticks": "",
            "zerolinecolor": "white"
           }
          },
          "shapedefaults": {
           "line": {
            "color": "#2a3f5f"
           }
          },
          "ternary": {
           "aaxis": {
            "gridcolor": "white",
            "linecolor": "white",
            "ticks": ""
           },
           "baxis": {
            "gridcolor": "white",
            "linecolor": "white",
            "ticks": ""
           },
           "bgcolor": "#E5ECF6",
           "caxis": {
            "gridcolor": "white",
            "linecolor": "white",
            "ticks": ""
           }
          },
          "title": {
           "x": 0.05
          },
          "xaxis": {
           "automargin": true,
           "gridcolor": "white",
           "linecolor": "white",
           "ticks": "",
           "title": {
            "standoff": 15
           },
           "zerolinecolor": "white",
           "zerolinewidth": 2
          },
          "yaxis": {
           "automargin": true,
           "gridcolor": "white",
           "linecolor": "white",
           "ticks": "",
           "title": {
            "standoff": 15
           },
           "zerolinecolor": "white",
           "zerolinewidth": 2
          }
         }
        },
        "title": {
         "text": "Scatterplot Matrix"
        },
        "width": 700,
        "xaxis": {
         "anchor": "y",
         "domain": [
          0.0,
          0.2125
         ],
         "showticklabels": false
        },
        "xaxis10": {
         "anchor": "y10",
         "domain": [
          0.2625,
          0.475
         ]
        },
        "xaxis11": {
         "anchor": "y11",
         "domain": [
          0.525,
          0.7375
         ],
         "showticklabels": false
        },
        "xaxis12": {
         "anchor": "y12",
         "domain": [
          0.7875,
          1.0
         ]
        },
        "xaxis13": {
         "anchor": "y13",
         "domain": [
          0.0,
          0.2125
         ],
         "title": {
          "text": "GDP per capita (current US$)"
         }
        },
        "xaxis14": {
         "anchor": "y14",
         "domain": [
          0.2625,
          0.475
         ],
         "title": {
          "text": "Confirmed"
         }
        },
        "xaxis15": {
         "anchor": "y15",
         "domain": [
          0.525,
          0.7375
         ],
         "title": {
          "text": "Population age distribution (0-14, %)"
         }
        },
        "xaxis16": {
         "anchor": "y16",
         "domain": [
          0.7875,
          1.0
         ],
         "showticklabels": false,
         "title": {
          "text": "Population age distribution (60+ years, %)"
         }
        },
        "xaxis2": {
         "anchor": "y2",
         "domain": [
          0.2625,
          0.475
         ]
        },
        "xaxis3": {
         "anchor": "y3",
         "domain": [
          0.525,
          0.7375
         ]
        },
        "xaxis4": {
         "anchor": "y4",
         "domain": [
          0.7875,
          1.0
         ]
        },
        "xaxis5": {
         "anchor": "y5",
         "domain": [
          0.0,
          0.2125
         ]
        },
        "xaxis6": {
         "anchor": "y6",
         "domain": [
          0.2625,
          0.475
         ],
         "showticklabels": false
        },
        "xaxis7": {
         "anchor": "y7",
         "domain": [
          0.525,
          0.7375
         ]
        },
        "xaxis8": {
         "anchor": "y8",
         "domain": [
          0.7875,
          1.0
         ]
        },
        "xaxis9": {
         "anchor": "y9",
         "domain": [
          0.0,
          0.2125
         ]
        },
        "yaxis": {
         "anchor": "x",
         "domain": [
          0.80625,
          1.0
         ],
         "title": {
          "text": "GDP per capita (current US$)"
         }
        },
        "yaxis10": {
         "anchor": "x10",
         "domain": [
          0.26875,
          0.4625
         ]
        },
        "yaxis11": {
         "anchor": "x11",
         "domain": [
          0.26875,
          0.4625
         ]
        },
        "yaxis12": {
         "anchor": "x12",
         "domain": [
          0.26875,
          0.4625
         ]
        },
        "yaxis13": {
         "anchor": "x13",
         "domain": [
          0.0,
          0.19375
         ],
         "title": {
          "text": "Population age distribution (60+ years, %)"
         }
        },
        "yaxis14": {
         "anchor": "x14",
         "domain": [
          0.0,
          0.19375
         ]
        },
        "yaxis15": {
         "anchor": "x15",
         "domain": [
          0.0,
          0.19375
         ]
        },
        "yaxis16": {
         "anchor": "x16",
         "domain": [
          0.0,
          0.19375
         ]
        },
        "yaxis2": {
         "anchor": "x2",
         "domain": [
          0.80625,
          1.0
         ]
        },
        "yaxis3": {
         "anchor": "x3",
         "domain": [
          0.80625,
          1.0
         ]
        },
        "yaxis4": {
         "anchor": "x4",
         "domain": [
          0.80625,
          1.0
         ]
        },
        "yaxis5": {
         "anchor": "x5",
         "domain": [
          0.5375,
          0.73125
         ],
         "title": {
          "text": "Confirmed"
         }
        },
        "yaxis6": {
         "anchor": "x6",
         "domain": [
          0.5375,
          0.73125
         ]
        },
        "yaxis7": {
         "anchor": "x7",
         "domain": [
          0.5375,
          0.73125
         ]
        },
        "yaxis8": {
         "anchor": "x8",
         "domain": [
          0.5375,
          0.73125
         ]
        },
        "yaxis9": {
         "anchor": "x9",
         "domain": [
          0.26875,
          0.4625
         ],
         "title": {
          "text": "Population age distribution (0-14, %)"
         }
        }
       }
      },
      "text/html": [
       "<div>                            <div id=\"cad85ece-8da0-4b52-a6ef-f91122ae52b2\" class=\"plotly-graph-div\" style=\"height:700px; width:700px;\"></div>            <script type=\"text/javascript\">                require([\"plotly\"], function(Plotly) {                    window.PLOTLYENV=window.PLOTLYENV || {};                                    if (document.getElementById(\"cad85ece-8da0-4b52-a6ef-f91122ae52b2\")) {                    Plotly.newPlot(                        \"cad85ece-8da0-4b52-a6ef-f91122ae52b2\",                        [{\"marker\":{\"color\":\"rgb(5, 10, 172)\"},\"showlegend\":false,\"xaxis\":\"x\",\"y\":[3984.2,39896.4,4714.1,14764.5,22817.2,15429.4,4789.4,779.1,2677.1,6360.6,611.1,244.6,3080.2,1158.7,333.2,713.0,1368.9,11015.0,11479.4,7656.6,21941.9,1956.3,16344.1,914.9,17112.0,4921.9,7960.7,473.2,3491.4,17788.0,36976.7,8933.8,530.0,703.9,4278.8,-99.0,12350.6,50936.0,5105.8,4940.1,13704.1,8571.4,940.6,455.9,5488.2,169491.8,14383.7,401.8,372.9,9446.5,744.3,23280.7,1235.0,9040.9,3973.4,6424.1,529.2,4673.6,724.5,38294.3,2086.9,359.0,2797.6,4174.4,697.3,7839.4,6739.2,49240.2,1752.8,5238.6,14133.2,694.8,16082.5,20689.8,144.5,1067.0,3973.7,8985.3,925.9,5814.8,2425.4,559.4,19062.9,3660.9,647.7,15573.8,-99.0,1106.4,1311.1,890.4],\"yaxis\":\"y\",\"type\":\"box\"},{\"marker\":{\"color\":[1,2,3,4,5,6,7,8,9,10,11,12,13,14,15,16,17,18,19,20,21,22,23,24,25,26,27,28,29,30,31,32,33,34,35,36,37,38,39,40,41,42,43,44,45,46,47,48,49,50,51,52,53,54,55,56,57,58,59,60,61,62,63,64,65,66,67,68,69,70,71,72,73,74,75,76,77,78,79,80,81,82,83,84,85,86,87,88,89,90],\"colorscale\":[[0.0,\"rgb(5, 10, 172)\"],[1.0,\"rgb(220, 220, 220)\"]],\"showscale\":true,\"size\":6},\"mode\":\"markers\",\"showlegend\":false,\"x\":[4880,907,950,86,382,110,48,1770,99,739,1100,378,2328,226,4599,922,354,15841,4881,2532,1060,5059,3071,265,2034,27,7189,326,1137,4227,14,23,1954,7055,389,12,4448,1854,853,1176,1219,3882,505,1167,2827,86,2019,9690,3664,3369,2513,701,6208,344,289,2893,1701,1843,18752,1557,3439,1132,62,4548,1879,24,52,699,865,24141,114,1783,2181,2087,3196,2305,2805,1483,7235,3297,24,874,148,1455,1128,1202,10,1691,4552,2704],\"xaxis\":\"x2\",\"y\":[3984.2,39896.4,4714.1,14764.5,22817.2,15429.4,4789.4,779.1,2677.1,6360.6,611.1,244.6,3080.2,1158.7,333.2,713.0,1368.9,11015.0,11479.4,7656.6,21941.9,1956.3,16344.1,914.9,17112.0,4921.9,7960.7,473.2,3491.4,17788.0,36976.7,8933.8,530.0,703.9,4278.8,-99.0,12350.6,50936.0,5105.8,4940.1,13704.1,8571.4,940.6,455.9,5488.2,169491.8,14383.7,401.8,372.9,9446.5,744.3,23280.7,1235.0,9040.9,3973.4,6424.1,529.2,4673.6,724.5,38294.3,2086.9,359.0,2797.6,4174.4,697.3,7839.4,6739.2,49240.2,1752.8,5238.6,14133.2,694.8,16082.5,20689.8,144.5,1067.0,3973.7,8985.3,925.9,5814.8,2425.4,559.4,19062.9,3660.9,647.7,15573.8,-99.0,1106.4,1311.1,890.4],\"yaxis\":\"y2\",\"type\":\"scatter\"},{\"marker\":{\"color\":[1,2,3,4,5,6,7,8,9,10,11,12,13,14,15,16,17,18,19,20,21,22,23,24,25,26,27,28,29,30,31,32,33,34,35,36,37,38,39,40,41,42,43,44,45,46,47,48,49,50,51,52,53,54,55,56,57,58,59,60,61,62,63,64,65,66,67,68,69,70,71,72,73,74,75,76,77,78,79,80,81,82,83,84,85,86,87,88,89,90],\"colorscale\":[[0.0,\"rgb(5, 10, 172)\"],[1.0,\"rgb(220, 220, 220)\"]],\"showscale\":false,\"size\":6},\"mode\":\"markers\",\"showlegend\":false,\"x\":[17.4,14.4,46.8,23.9,20.5,19.1,31.4,42.7,26.5,31.4,45.2,45.0,30.2,31.3,43.2,47.1,39.8,21.6,14.7,16.0,16.8,31.1,37.2,41.8,16.4,28.5,35.9,45.3,19.2,14.2,21.0,26.3,41.5,42.3,29.0,-99.0,14.3,20.1,22.7,35.5,15.4,23.1,35.4,41.8,28.2,14.9,14.8,41.0,44.0,23.4,47.7,14.4,39.9,18.4,29.7,18.1,44.8,36.7,30.9,19.8,29.0,50.2,35.9,29.4,40.1,18.9,23.8,15.0,42.8,16.5,22.2,42.1,15.4,15.0,46.4,41.7,24.0,26.4,35.3,17.3,43.6,41.6,20.7,24.0,47.7,21.1,28.1,39.9,44.8,41.2],\"xaxis\":\"x3\",\"y\":[3984.2,39896.4,4714.1,14764.5,22817.2,15429.4,4789.4,779.1,2677.1,6360.6,611.1,244.6,3080.2,1158.7,333.2,713.0,1368.9,11015.0,11479.4,7656.6,21941.9,1956.3,16344.1,914.9,17112.0,4921.9,7960.7,473.2,3491.4,17788.0,36976.7,8933.8,530.0,703.9,4278.8,-99.0,12350.6,50936.0,5105.8,4940.1,13704.1,8571.4,940.6,455.9,5488.2,169491.8,14383.7,401.8,372.9,9446.5,744.3,23280.7,1235.0,9040.9,3973.4,6424.1,529.2,4673.6,724.5,38294.3,2086.9,359.0,2797.6,4174.4,697.3,7839.4,6739.2,49240.2,1752.8,5238.6,14133.2,694.8,16082.5,20689.8,144.5,1067.0,3973.7,8985.3,925.9,5814.8,2425.4,559.4,19062.9,3660.9,647.7,15573.8,-99.0,1106.4,1311.1,890.4],\"yaxis\":\"y3\",\"type\":\"scatter\"},{\"marker\":{\"color\":[1,2,3,4,5,6,7,8,9,10,11,12,13,14,15,16,17,18,19,20,21,22,23,24,25,26,27,28,29,30,31,32,33,34,35,36,37,38,39,40,41,42,43,44,45,46,47,48,49,50,51,52,53,54,55,56,57,58,59,60,61,62,63,64,65,66,67,68,69,70,71,72,73,74,75,76,77,78,79,80,81,82,83,84,85,86,87,88,89,90],\"colorscale\":[[0.0,\"rgb(5, 10, 172)\"],[1.0,\"rgb(220, 220, 220)\"]],\"showscale\":false,\"size\":6},\"mode\":\"markers\",\"showlegend\":false,\"x\":[19.0,19.0,4.0,10.9,13.5,21.0,6.2,5.0,7.3,6.4,3.9,4.4,6.9,7.1,5.5,4.0,4.9,13.6,26.8,20.1,18.5,6.4,4.4,5.3,25.9,9.9,6.4,3.8,20.8,26.5,13.2,10.5,4.9,5.2,8.6,null,26.0,20.1,13.6,5.7,26.2,12.0,6.7,4.9,6.6,22.7,25.3,4.8,4.3,6.3,4.0,26.1,5.0,16.6,6.6,21.3,4.8,5.5,8.8,20.8,8.4,4.2,6.1,9.4,4.9,13.7,11.7,24.1,4.3,24.5,13.3,4.2,21.8,26.3,4.4,5.1,14.9,10.4,5.8,16.9,5.4,4.6,15.0,12.3,3.3,19.5,5.4,4.6,3.7,4.2],\"xaxis\":\"x4\",\"y\":[3984.2,39896.4,4714.1,14764.5,22817.2,15429.4,4789.4,779.1,2677.1,6360.6,611.1,244.6,3080.2,1158.7,333.2,713.0,1368.9,11015.0,11479.4,7656.6,21941.9,1956.3,16344.1,914.9,17112.0,4921.9,7960.7,473.2,3491.4,17788.0,36976.7,8933.8,530.0,703.9,4278.8,-99.0,12350.6,50936.0,5105.8,4940.1,13704.1,8571.4,940.6,455.9,5488.2,169491.8,14383.7,401.8,372.9,9446.5,744.3,23280.7,1235.0,9040.9,3973.4,6424.1,529.2,4673.6,724.5,38294.3,2086.9,359.0,2797.6,4174.4,697.3,7839.4,6739.2,49240.2,1752.8,5238.6,14133.2,694.8,16082.5,20689.8,144.5,1067.0,3973.7,8985.3,925.9,5814.8,2425.4,559.4,19062.9,3660.9,647.7,15573.8,-99.0,1106.4,1311.1,890.4],\"yaxis\":\"y4\",\"type\":\"scatter\"},{\"marker\":{\"color\":[1,2,3,4,5,6,7,8,9,10,11,12,13,14,15,16,17,18,19,20,21,22,23,24,25,26,27,28,29,30,31,32,33,34,35,36,37,38,39,40,41,42,43,44,45,46,47,48,49,50,51,52,53,54,55,56,57,58,59,60,61,62,63,64,65,66,67,68,69,70,71,72,73,74,75,76,77,78,79,80,81,82,83,84,85,86,87,88,89,90],\"colorscale\":[[0.0,\"rgb(5, 10, 172)\"],[1.0,\"rgb(220, 220, 220)\"]],\"showscale\":false,\"size\":6},\"mode\":\"markers\",\"showlegend\":false,\"x\":[3984.2,39896.4,4714.1,14764.5,22817.2,15429.4,4789.4,779.1,2677.1,6360.6,611.1,244.6,3080.2,1158.7,333.2,713.0,1368.9,11015.0,11479.4,7656.6,21941.9,1956.3,16344.1,914.9,17112.0,4921.9,7960.7,473.2,3491.4,17788.0,36976.7,8933.8,530.0,703.9,4278.8,-99.0,12350.6,50936.0,5105.8,4940.1,13704.1,8571.4,940.6,455.9,5488.2,169491.8,14383.7,401.8,372.9,9446.5,744.3,23280.7,1235.0,9040.9,3973.4,6424.1,529.2,4673.6,724.5,38294.3,2086.9,359.0,2797.6,4174.4,697.3,7839.4,6739.2,49240.2,1752.8,5238.6,14133.2,694.8,16082.5,20689.8,144.5,1067.0,3973.7,8985.3,925.9,5814.8,2425.4,559.4,19062.9,3660.9,647.7,15573.8,-99.0,1106.4,1311.1,890.4],\"xaxis\":\"x5\",\"y\":[4880,907,950,86,382,110,48,1770,99,739,1100,378,2328,226,4599,922,354,15841,4881,2532,1060,5059,3071,265,2034,27,7189,326,1137,4227,14,23,1954,7055,389,12,4448,1854,853,1176,1219,3882,505,1167,2827,86,2019,9690,3664,3369,2513,701,6208,344,289,2893,1701,1843,18752,1557,3439,1132,62,4548,1879,24,52,699,865,24141,114,1783,2181,2087,3196,2305,2805,1483,7235,3297,24,874,148,1455,1128,1202,10,1691,4552,2704],\"yaxis\":\"y5\",\"type\":\"scatter\"},{\"marker\":{\"color\":\"rgb(5, 10, 172)\"},\"showlegend\":false,\"xaxis\":\"x6\",\"y\":[4880,907,950,86,382,110,48,1770,99,739,1100,378,2328,226,4599,922,354,15841,4881,2532,1060,5059,3071,265,2034,27,7189,326,1137,4227,14,23,1954,7055,389,12,4448,1854,853,1176,1219,3882,505,1167,2827,86,2019,9690,3664,3369,2513,701,6208,344,289,2893,1701,1843,18752,1557,3439,1132,62,4548,1879,24,52,699,865,24141,114,1783,2181,2087,3196,2305,2805,1483,7235,3297,24,874,148,1455,1128,1202,10,1691,4552,2704],\"yaxis\":\"y6\",\"type\":\"box\"},{\"marker\":{\"color\":[1,2,3,4,5,6,7,8,9,10,11,12,13,14,15,16,17,18,19,20,21,22,23,24,25,26,27,28,29,30,31,32,33,34,35,36,37,38,39,40,41,42,43,44,45,46,47,48,49,50,51,52,53,54,55,56,57,58,59,60,61,62,63,64,65,66,67,68,69,70,71,72,73,74,75,76,77,78,79,80,81,82,83,84,85,86,87,88,89,90],\"colorscale\":[[0.0,\"rgb(5, 10, 172)\"],[1.0,\"rgb(220, 220, 220)\"]],\"showscale\":false,\"size\":6},\"mode\":\"markers\",\"showlegend\":false,\"x\":[17.4,14.4,46.8,23.9,20.5,19.1,31.4,42.7,26.5,31.4,45.2,45.0,30.2,31.3,43.2,47.1,39.8,21.6,14.7,16.0,16.8,31.1,37.2,41.8,16.4,28.5,35.9,45.3,19.2,14.2,21.0,26.3,41.5,42.3,29.0,-99.0,14.3,20.1,22.7,35.5,15.4,23.1,35.4,41.8,28.2,14.9,14.8,41.0,44.0,23.4,47.7,14.4,39.9,18.4,29.7,18.1,44.8,36.7,30.9,19.8,29.0,50.2,35.9,29.4,40.1,18.9,23.8,15.0,42.8,16.5,22.2,42.1,15.4,15.0,46.4,41.7,24.0,26.4,35.3,17.3,43.6,41.6,20.7,24.0,47.7,21.1,28.1,39.9,44.8,41.2],\"xaxis\":\"x7\",\"y\":[4880,907,950,86,382,110,48,1770,99,739,1100,378,2328,226,4599,922,354,15841,4881,2532,1060,5059,3071,265,2034,27,7189,326,1137,4227,14,23,1954,7055,389,12,4448,1854,853,1176,1219,3882,505,1167,2827,86,2019,9690,3664,3369,2513,701,6208,344,289,2893,1701,1843,18752,1557,3439,1132,62,4548,1879,24,52,699,865,24141,114,1783,2181,2087,3196,2305,2805,1483,7235,3297,24,874,148,1455,1128,1202,10,1691,4552,2704],\"yaxis\":\"y7\",\"type\":\"scatter\"},{\"marker\":{\"color\":[1,2,3,4,5,6,7,8,9,10,11,12,13,14,15,16,17,18,19,20,21,22,23,24,25,26,27,28,29,30,31,32,33,34,35,36,37,38,39,40,41,42,43,44,45,46,47,48,49,50,51,52,53,54,55,56,57,58,59,60,61,62,63,64,65,66,67,68,69,70,71,72,73,74,75,76,77,78,79,80,81,82,83,84,85,86,87,88,89,90],\"colorscale\":[[0.0,\"rgb(5, 10, 172)\"],[1.0,\"rgb(220, 220, 220)\"]],\"showscale\":false,\"size\":6},\"mode\":\"markers\",\"showlegend\":false,\"x\":[19.0,19.0,4.0,10.9,13.5,21.0,6.2,5.0,7.3,6.4,3.9,4.4,6.9,7.1,5.5,4.0,4.9,13.6,26.8,20.1,18.5,6.4,4.4,5.3,25.9,9.9,6.4,3.8,20.8,26.5,13.2,10.5,4.9,5.2,8.6,null,26.0,20.1,13.6,5.7,26.2,12.0,6.7,4.9,6.6,22.7,25.3,4.8,4.3,6.3,4.0,26.1,5.0,16.6,6.6,21.3,4.8,5.5,8.8,20.8,8.4,4.2,6.1,9.4,4.9,13.7,11.7,24.1,4.3,24.5,13.3,4.2,21.8,26.3,4.4,5.1,14.9,10.4,5.8,16.9,5.4,4.6,15.0,12.3,3.3,19.5,5.4,4.6,3.7,4.2],\"xaxis\":\"x8\",\"y\":[4880,907,950,86,382,110,48,1770,99,739,1100,378,2328,226,4599,922,354,15841,4881,2532,1060,5059,3071,265,2034,27,7189,326,1137,4227,14,23,1954,7055,389,12,4448,1854,853,1176,1219,3882,505,1167,2827,86,2019,9690,3664,3369,2513,701,6208,344,289,2893,1701,1843,18752,1557,3439,1132,62,4548,1879,24,52,699,865,24141,114,1783,2181,2087,3196,2305,2805,1483,7235,3297,24,874,148,1455,1128,1202,10,1691,4552,2704],\"yaxis\":\"y8\",\"type\":\"scatter\"},{\"marker\":{\"color\":[1,2,3,4,5,6,7,8,9,10,11,12,13,14,15,16,17,18,19,20,21,22,23,24,25,26,27,28,29,30,31,32,33,34,35,36,37,38,39,40,41,42,43,44,45,46,47,48,49,50,51,52,53,54,55,56,57,58,59,60,61,62,63,64,65,66,67,68,69,70,71,72,73,74,75,76,77,78,79,80,81,82,83,84,85,86,87,88,89,90],\"colorscale\":[[0.0,\"rgb(5, 10, 172)\"],[1.0,\"rgb(220, 220, 220)\"]],\"showscale\":false,\"size\":6},\"mode\":\"markers\",\"showlegend\":false,\"x\":[3984.2,39896.4,4714.1,14764.5,22817.2,15429.4,4789.4,779.1,2677.1,6360.6,611.1,244.6,3080.2,1158.7,333.2,713.0,1368.9,11015.0,11479.4,7656.6,21941.9,1956.3,16344.1,914.9,17112.0,4921.9,7960.7,473.2,3491.4,17788.0,36976.7,8933.8,530.0,703.9,4278.8,-99.0,12350.6,50936.0,5105.8,4940.1,13704.1,8571.4,940.6,455.9,5488.2,169491.8,14383.7,401.8,372.9,9446.5,744.3,23280.7,1235.0,9040.9,3973.4,6424.1,529.2,4673.6,724.5,38294.3,2086.9,359.0,2797.6,4174.4,697.3,7839.4,6739.2,49240.2,1752.8,5238.6,14133.2,694.8,16082.5,20689.8,144.5,1067.0,3973.7,8985.3,925.9,5814.8,2425.4,559.4,19062.9,3660.9,647.7,15573.8,-99.0,1106.4,1311.1,890.4],\"xaxis\":\"x9\",\"y\":[17.4,14.4,46.8,23.9,20.5,19.1,31.4,42.7,26.5,31.4,45.2,45.0,30.2,31.3,43.2,47.1,39.8,21.6,14.7,16.0,16.8,31.1,37.2,41.8,16.4,28.5,35.9,45.3,19.2,14.2,21.0,26.3,41.5,42.3,29.0,-99.0,14.3,20.1,22.7,35.5,15.4,23.1,35.4,41.8,28.2,14.9,14.8,41.0,44.0,23.4,47.7,14.4,39.9,18.4,29.7,18.1,44.8,36.7,30.9,19.8,29.0,50.2,35.9,29.4,40.1,18.9,23.8,15.0,42.8,16.5,22.2,42.1,15.4,15.0,46.4,41.7,24.0,26.4,35.3,17.3,43.6,41.6,20.7,24.0,47.7,21.1,28.1,39.9,44.8,41.2],\"yaxis\":\"y9\",\"type\":\"scatter\"},{\"marker\":{\"color\":[1,2,3,4,5,6,7,8,9,10,11,12,13,14,15,16,17,18,19,20,21,22,23,24,25,26,27,28,29,30,31,32,33,34,35,36,37,38,39,40,41,42,43,44,45,46,47,48,49,50,51,52,53,54,55,56,57,58,59,60,61,62,63,64,65,66,67,68,69,70,71,72,73,74,75,76,77,78,79,80,81,82,83,84,85,86,87,88,89,90],\"colorscale\":[[0.0,\"rgb(5, 10, 172)\"],[1.0,\"rgb(220, 220, 220)\"]],\"showscale\":false,\"size\":6},\"mode\":\"markers\",\"showlegend\":false,\"x\":[4880,907,950,86,382,110,48,1770,99,739,1100,378,2328,226,4599,922,354,15841,4881,2532,1060,5059,3071,265,2034,27,7189,326,1137,4227,14,23,1954,7055,389,12,4448,1854,853,1176,1219,3882,505,1167,2827,86,2019,9690,3664,3369,2513,701,6208,344,289,2893,1701,1843,18752,1557,3439,1132,62,4548,1879,24,52,699,865,24141,114,1783,2181,2087,3196,2305,2805,1483,7235,3297,24,874,148,1455,1128,1202,10,1691,4552,2704],\"xaxis\":\"x10\",\"y\":[17.4,14.4,46.8,23.9,20.5,19.1,31.4,42.7,26.5,31.4,45.2,45.0,30.2,31.3,43.2,47.1,39.8,21.6,14.7,16.0,16.8,31.1,37.2,41.8,16.4,28.5,35.9,45.3,19.2,14.2,21.0,26.3,41.5,42.3,29.0,-99.0,14.3,20.1,22.7,35.5,15.4,23.1,35.4,41.8,28.2,14.9,14.8,41.0,44.0,23.4,47.7,14.4,39.9,18.4,29.7,18.1,44.8,36.7,30.9,19.8,29.0,50.2,35.9,29.4,40.1,18.9,23.8,15.0,42.8,16.5,22.2,42.1,15.4,15.0,46.4,41.7,24.0,26.4,35.3,17.3,43.6,41.6,20.7,24.0,47.7,21.1,28.1,39.9,44.8,41.2],\"yaxis\":\"y10\",\"type\":\"scatter\"},{\"marker\":{\"color\":\"rgb(5, 10, 172)\"},\"showlegend\":false,\"xaxis\":\"x11\",\"y\":[17.4,14.4,46.8,23.9,20.5,19.1,31.4,42.7,26.5,31.4,45.2,45.0,30.2,31.3,43.2,47.1,39.8,21.6,14.7,16.0,16.8,31.1,37.2,41.8,16.4,28.5,35.9,45.3,19.2,14.2,21.0,26.3,41.5,42.3,29.0,-99.0,14.3,20.1,22.7,35.5,15.4,23.1,35.4,41.8,28.2,14.9,14.8,41.0,44.0,23.4,47.7,14.4,39.9,18.4,29.7,18.1,44.8,36.7,30.9,19.8,29.0,50.2,35.9,29.4,40.1,18.9,23.8,15.0,42.8,16.5,22.2,42.1,15.4,15.0,46.4,41.7,24.0,26.4,35.3,17.3,43.6,41.6,20.7,24.0,47.7,21.1,28.1,39.9,44.8,41.2],\"yaxis\":\"y11\",\"type\":\"box\"},{\"marker\":{\"color\":[1,2,3,4,5,6,7,8,9,10,11,12,13,14,15,16,17,18,19,20,21,22,23,24,25,26,27,28,29,30,31,32,33,34,35,36,37,38,39,40,41,42,43,44,45,46,47,48,49,50,51,52,53,54,55,56,57,58,59,60,61,62,63,64,65,66,67,68,69,70,71,72,73,74,75,76,77,78,79,80,81,82,83,84,85,86,87,88,89,90],\"colorscale\":[[0.0,\"rgb(5, 10, 172)\"],[1.0,\"rgb(220, 220, 220)\"]],\"showscale\":false,\"size\":6},\"mode\":\"markers\",\"showlegend\":false,\"x\":[19.0,19.0,4.0,10.9,13.5,21.0,6.2,5.0,7.3,6.4,3.9,4.4,6.9,7.1,5.5,4.0,4.9,13.6,26.8,20.1,18.5,6.4,4.4,5.3,25.9,9.9,6.4,3.8,20.8,26.5,13.2,10.5,4.9,5.2,8.6,null,26.0,20.1,13.6,5.7,26.2,12.0,6.7,4.9,6.6,22.7,25.3,4.8,4.3,6.3,4.0,26.1,5.0,16.6,6.6,21.3,4.8,5.5,8.8,20.8,8.4,4.2,6.1,9.4,4.9,13.7,11.7,24.1,4.3,24.5,13.3,4.2,21.8,26.3,4.4,5.1,14.9,10.4,5.8,16.9,5.4,4.6,15.0,12.3,3.3,19.5,5.4,4.6,3.7,4.2],\"xaxis\":\"x12\",\"y\":[17.4,14.4,46.8,23.9,20.5,19.1,31.4,42.7,26.5,31.4,45.2,45.0,30.2,31.3,43.2,47.1,39.8,21.6,14.7,16.0,16.8,31.1,37.2,41.8,16.4,28.5,35.9,45.3,19.2,14.2,21.0,26.3,41.5,42.3,29.0,-99.0,14.3,20.1,22.7,35.5,15.4,23.1,35.4,41.8,28.2,14.9,14.8,41.0,44.0,23.4,47.7,14.4,39.9,18.4,29.7,18.1,44.8,36.7,30.9,19.8,29.0,50.2,35.9,29.4,40.1,18.9,23.8,15.0,42.8,16.5,22.2,42.1,15.4,15.0,46.4,41.7,24.0,26.4,35.3,17.3,43.6,41.6,20.7,24.0,47.7,21.1,28.1,39.9,44.8,41.2],\"yaxis\":\"y12\",\"type\":\"scatter\"},{\"marker\":{\"color\":[1,2,3,4,5,6,7,8,9,10,11,12,13,14,15,16,17,18,19,20,21,22,23,24,25,26,27,28,29,30,31,32,33,34,35,36,37,38,39,40,41,42,43,44,45,46,47,48,49,50,51,52,53,54,55,56,57,58,59,60,61,62,63,64,65,66,67,68,69,70,71,72,73,74,75,76,77,78,79,80,81,82,83,84,85,86,87,88,89,90],\"colorscale\":[[0.0,\"rgb(5, 10, 172)\"],[1.0,\"rgb(220, 220, 220)\"]],\"showscale\":false,\"size\":6},\"mode\":\"markers\",\"showlegend\":false,\"x\":[3984.2,39896.4,4714.1,14764.5,22817.2,15429.4,4789.4,779.1,2677.1,6360.6,611.1,244.6,3080.2,1158.7,333.2,713.0,1368.9,11015.0,11479.4,7656.6,21941.9,1956.3,16344.1,914.9,17112.0,4921.9,7960.7,473.2,3491.4,17788.0,36976.7,8933.8,530.0,703.9,4278.8,-99.0,12350.6,50936.0,5105.8,4940.1,13704.1,8571.4,940.6,455.9,5488.2,169491.8,14383.7,401.8,372.9,9446.5,744.3,23280.7,1235.0,9040.9,3973.4,6424.1,529.2,4673.6,724.5,38294.3,2086.9,359.0,2797.6,4174.4,697.3,7839.4,6739.2,49240.2,1752.8,5238.6,14133.2,694.8,16082.5,20689.8,144.5,1067.0,3973.7,8985.3,925.9,5814.8,2425.4,559.4,19062.9,3660.9,647.7,15573.8,-99.0,1106.4,1311.1,890.4],\"xaxis\":\"x13\",\"y\":[19.0,19.0,4.0,10.9,13.5,21.0,6.2,5.0,7.3,6.4,3.9,4.4,6.9,7.1,5.5,4.0,4.9,13.6,26.8,20.1,18.5,6.4,4.4,5.3,25.9,9.9,6.4,3.8,20.8,26.5,13.2,10.5,4.9,5.2,8.6,null,26.0,20.1,13.6,5.7,26.2,12.0,6.7,4.9,6.6,22.7,25.3,4.8,4.3,6.3,4.0,26.1,5.0,16.6,6.6,21.3,4.8,5.5,8.8,20.8,8.4,4.2,6.1,9.4,4.9,13.7,11.7,24.1,4.3,24.5,13.3,4.2,21.8,26.3,4.4,5.1,14.9,10.4,5.8,16.9,5.4,4.6,15.0,12.3,3.3,19.5,5.4,4.6,3.7,4.2],\"yaxis\":\"y13\",\"type\":\"scatter\"},{\"marker\":{\"color\":[1,2,3,4,5,6,7,8,9,10,11,12,13,14,15,16,17,18,19,20,21,22,23,24,25,26,27,28,29,30,31,32,33,34,35,36,37,38,39,40,41,42,43,44,45,46,47,48,49,50,51,52,53,54,55,56,57,58,59,60,61,62,63,64,65,66,67,68,69,70,71,72,73,74,75,76,77,78,79,80,81,82,83,84,85,86,87,88,89,90],\"colorscale\":[[0.0,\"rgb(5, 10, 172)\"],[1.0,\"rgb(220, 220, 220)\"]],\"showscale\":false,\"size\":6},\"mode\":\"markers\",\"showlegend\":false,\"x\":[4880,907,950,86,382,110,48,1770,99,739,1100,378,2328,226,4599,922,354,15841,4881,2532,1060,5059,3071,265,2034,27,7189,326,1137,4227,14,23,1954,7055,389,12,4448,1854,853,1176,1219,3882,505,1167,2827,86,2019,9690,3664,3369,2513,701,6208,344,289,2893,1701,1843,18752,1557,3439,1132,62,4548,1879,24,52,699,865,24141,114,1783,2181,2087,3196,2305,2805,1483,7235,3297,24,874,148,1455,1128,1202,10,1691,4552,2704],\"xaxis\":\"x14\",\"y\":[19.0,19.0,4.0,10.9,13.5,21.0,6.2,5.0,7.3,6.4,3.9,4.4,6.9,7.1,5.5,4.0,4.9,13.6,26.8,20.1,18.5,6.4,4.4,5.3,25.9,9.9,6.4,3.8,20.8,26.5,13.2,10.5,4.9,5.2,8.6,null,26.0,20.1,13.6,5.7,26.2,12.0,6.7,4.9,6.6,22.7,25.3,4.8,4.3,6.3,4.0,26.1,5.0,16.6,6.6,21.3,4.8,5.5,8.8,20.8,8.4,4.2,6.1,9.4,4.9,13.7,11.7,24.1,4.3,24.5,13.3,4.2,21.8,26.3,4.4,5.1,14.9,10.4,5.8,16.9,5.4,4.6,15.0,12.3,3.3,19.5,5.4,4.6,3.7,4.2],\"yaxis\":\"y14\",\"type\":\"scatter\"},{\"marker\":{\"color\":[1,2,3,4,5,6,7,8,9,10,11,12,13,14,15,16,17,18,19,20,21,22,23,24,25,26,27,28,29,30,31,32,33,34,35,36,37,38,39,40,41,42,43,44,45,46,47,48,49,50,51,52,53,54,55,56,57,58,59,60,61,62,63,64,65,66,67,68,69,70,71,72,73,74,75,76,77,78,79,80,81,82,83,84,85,86,87,88,89,90],\"colorscale\":[[0.0,\"rgb(5, 10, 172)\"],[1.0,\"rgb(220, 220, 220)\"]],\"showscale\":false,\"size\":6},\"mode\":\"markers\",\"showlegend\":false,\"x\":[17.4,14.4,46.8,23.9,20.5,19.1,31.4,42.7,26.5,31.4,45.2,45.0,30.2,31.3,43.2,47.1,39.8,21.6,14.7,16.0,16.8,31.1,37.2,41.8,16.4,28.5,35.9,45.3,19.2,14.2,21.0,26.3,41.5,42.3,29.0,-99.0,14.3,20.1,22.7,35.5,15.4,23.1,35.4,41.8,28.2,14.9,14.8,41.0,44.0,23.4,47.7,14.4,39.9,18.4,29.7,18.1,44.8,36.7,30.9,19.8,29.0,50.2,35.9,29.4,40.1,18.9,23.8,15.0,42.8,16.5,22.2,42.1,15.4,15.0,46.4,41.7,24.0,26.4,35.3,17.3,43.6,41.6,20.7,24.0,47.7,21.1,28.1,39.9,44.8,41.2],\"xaxis\":\"x15\",\"y\":[19.0,19.0,4.0,10.9,13.5,21.0,6.2,5.0,7.3,6.4,3.9,4.4,6.9,7.1,5.5,4.0,4.9,13.6,26.8,20.1,18.5,6.4,4.4,5.3,25.9,9.9,6.4,3.8,20.8,26.5,13.2,10.5,4.9,5.2,8.6,null,26.0,20.1,13.6,5.7,26.2,12.0,6.7,4.9,6.6,22.7,25.3,4.8,4.3,6.3,4.0,26.1,5.0,16.6,6.6,21.3,4.8,5.5,8.8,20.8,8.4,4.2,6.1,9.4,4.9,13.7,11.7,24.1,4.3,24.5,13.3,4.2,21.8,26.3,4.4,5.1,14.9,10.4,5.8,16.9,5.4,4.6,15.0,12.3,3.3,19.5,5.4,4.6,3.7,4.2],\"yaxis\":\"y15\",\"type\":\"scatter\"},{\"marker\":{\"color\":\"rgb(5, 10, 172)\"},\"showlegend\":false,\"xaxis\":\"x16\",\"y\":[19.0,19.0,4.0,10.9,13.5,21.0,6.2,5.0,7.3,6.4,3.9,4.4,6.9,7.1,5.5,4.0,4.9,13.6,26.8,20.1,18.5,6.4,4.4,5.3,25.9,9.9,6.4,3.8,20.8,26.5,13.2,10.5,4.9,5.2,8.6,null,26.0,20.1,13.6,5.7,26.2,12.0,6.7,4.9,6.6,22.7,25.3,4.8,4.3,6.3,4.0,26.1,5.0,16.6,6.6,21.3,4.8,5.5,8.8,20.8,8.4,4.2,6.1,9.4,4.9,13.7,11.7,24.1,4.3,24.5,13.3,4.2,21.8,26.3,4.4,5.1,14.9,10.4,5.8,16.9,5.4,4.6,15.0,12.3,3.3,19.5,5.4,4.6,3.7,4.2],\"yaxis\":\"y16\",\"type\":\"box\"}],                        {\"height\":700,\"showlegend\":true,\"template\":{\"data\":{\"barpolar\":[{\"marker\":{\"line\":{\"color\":\"#E5ECF6\",\"width\":0.5},\"pattern\":{\"fillmode\":\"overlay\",\"size\":10,\"solidity\":0.2}},\"type\":\"barpolar\"}],\"bar\":[{\"error_x\":{\"color\":\"#2a3f5f\"},\"error_y\":{\"color\":\"#2a3f5f\"},\"marker\":{\"line\":{\"color\":\"#E5ECF6\",\"width\":0.5},\"pattern\":{\"fillmode\":\"overlay\",\"size\":10,\"solidity\":0.2}},\"type\":\"bar\"}],\"carpet\":[{\"aaxis\":{\"endlinecolor\":\"#2a3f5f\",\"gridcolor\":\"white\",\"linecolor\":\"white\",\"minorgridcolor\":\"white\",\"startlinecolor\":\"#2a3f5f\"},\"baxis\":{\"endlinecolor\":\"#2a3f5f\",\"gridcolor\":\"white\",\"linecolor\":\"white\",\"minorgridcolor\":\"white\",\"startlinecolor\":\"#2a3f5f\"},\"type\":\"carpet\"}],\"choropleth\":[{\"colorbar\":{\"outlinewidth\":0,\"ticks\":\"\"},\"type\":\"choropleth\"}],\"contourcarpet\":[{\"colorbar\":{\"outlinewidth\":0,\"ticks\":\"\"},\"type\":\"contourcarpet\"}],\"contour\":[{\"colorbar\":{\"outlinewidth\":0,\"ticks\":\"\"},\"colorscale\":[[0.0,\"#0d0887\"],[0.1111111111111111,\"#46039f\"],[0.2222222222222222,\"#7201a8\"],[0.3333333333333333,\"#9c179e\"],[0.4444444444444444,\"#bd3786\"],[0.5555555555555556,\"#d8576b\"],[0.6666666666666666,\"#ed7953\"],[0.7777777777777778,\"#fb9f3a\"],[0.8888888888888888,\"#fdca26\"],[1.0,\"#f0f921\"]],\"type\":\"contour\"}],\"heatmapgl\":[{\"colorbar\":{\"outlinewidth\":0,\"ticks\":\"\"},\"colorscale\":[[0.0,\"#0d0887\"],[0.1111111111111111,\"#46039f\"],[0.2222222222222222,\"#7201a8\"],[0.3333333333333333,\"#9c179e\"],[0.4444444444444444,\"#bd3786\"],[0.5555555555555556,\"#d8576b\"],[0.6666666666666666,\"#ed7953\"],[0.7777777777777778,\"#fb9f3a\"],[0.8888888888888888,\"#fdca26\"],[1.0,\"#f0f921\"]],\"type\":\"heatmapgl\"}],\"heatmap\":[{\"colorbar\":{\"outlinewidth\":0,\"ticks\":\"\"},\"colorscale\":[[0.0,\"#0d0887\"],[0.1111111111111111,\"#46039f\"],[0.2222222222222222,\"#7201a8\"],[0.3333333333333333,\"#9c179e\"],[0.4444444444444444,\"#bd3786\"],[0.5555555555555556,\"#d8576b\"],[0.6666666666666666,\"#ed7953\"],[0.7777777777777778,\"#fb9f3a\"],[0.8888888888888888,\"#fdca26\"],[1.0,\"#f0f921\"]],\"type\":\"heatmap\"}],\"histogram2dcontour\":[{\"colorbar\":{\"outlinewidth\":0,\"ticks\":\"\"},\"colorscale\":[[0.0,\"#0d0887\"],[0.1111111111111111,\"#46039f\"],[0.2222222222222222,\"#7201a8\"],[0.3333333333333333,\"#9c179e\"],[0.4444444444444444,\"#bd3786\"],[0.5555555555555556,\"#d8576b\"],[0.6666666666666666,\"#ed7953\"],[0.7777777777777778,\"#fb9f3a\"],[0.8888888888888888,\"#fdca26\"],[1.0,\"#f0f921\"]],\"type\":\"histogram2dcontour\"}],\"histogram2d\":[{\"colorbar\":{\"outlinewidth\":0,\"ticks\":\"\"},\"colorscale\":[[0.0,\"#0d0887\"],[0.1111111111111111,\"#46039f\"],[0.2222222222222222,\"#7201a8\"],[0.3333333333333333,\"#9c179e\"],[0.4444444444444444,\"#bd3786\"],[0.5555555555555556,\"#d8576b\"],[0.6666666666666666,\"#ed7953\"],[0.7777777777777778,\"#fb9f3a\"],[0.8888888888888888,\"#fdca26\"],[1.0,\"#f0f921\"]],\"type\":\"histogram2d\"}],\"histogram\":[{\"marker\":{\"pattern\":{\"fillmode\":\"overlay\",\"size\":10,\"solidity\":0.2}},\"type\":\"histogram\"}],\"mesh3d\":[{\"colorbar\":{\"outlinewidth\":0,\"ticks\":\"\"},\"type\":\"mesh3d\"}],\"parcoords\":[{\"line\":{\"colorbar\":{\"outlinewidth\":0,\"ticks\":\"\"}},\"type\":\"parcoords\"}],\"pie\":[{\"automargin\":true,\"type\":\"pie\"}],\"scatter3d\":[{\"line\":{\"colorbar\":{\"outlinewidth\":0,\"ticks\":\"\"}},\"marker\":{\"colorbar\":{\"outlinewidth\":0,\"ticks\":\"\"}},\"type\":\"scatter3d\"}],\"scattercarpet\":[{\"marker\":{\"colorbar\":{\"outlinewidth\":0,\"ticks\":\"\"}},\"type\":\"scattercarpet\"}],\"scattergeo\":[{\"marker\":{\"colorbar\":{\"outlinewidth\":0,\"ticks\":\"\"}},\"type\":\"scattergeo\"}],\"scattergl\":[{\"marker\":{\"colorbar\":{\"outlinewidth\":0,\"ticks\":\"\"}},\"type\":\"scattergl\"}],\"scattermapbox\":[{\"marker\":{\"colorbar\":{\"outlinewidth\":0,\"ticks\":\"\"}},\"type\":\"scattermapbox\"}],\"scatterpolargl\":[{\"marker\":{\"colorbar\":{\"outlinewidth\":0,\"ticks\":\"\"}},\"type\":\"scatterpolargl\"}],\"scatterpolar\":[{\"marker\":{\"colorbar\":{\"outlinewidth\":0,\"ticks\":\"\"}},\"type\":\"scatterpolar\"}],\"scatter\":[{\"fillpattern\":{\"fillmode\":\"overlay\",\"size\":10,\"solidity\":0.2},\"type\":\"scatter\"}],\"scatterternary\":[{\"marker\":{\"colorbar\":{\"outlinewidth\":0,\"ticks\":\"\"}},\"type\":\"scatterternary\"}],\"surface\":[{\"colorbar\":{\"outlinewidth\":0,\"ticks\":\"\"},\"colorscale\":[[0.0,\"#0d0887\"],[0.1111111111111111,\"#46039f\"],[0.2222222222222222,\"#7201a8\"],[0.3333333333333333,\"#9c179e\"],[0.4444444444444444,\"#bd3786\"],[0.5555555555555556,\"#d8576b\"],[0.6666666666666666,\"#ed7953\"],[0.7777777777777778,\"#fb9f3a\"],[0.8888888888888888,\"#fdca26\"],[1.0,\"#f0f921\"]],\"type\":\"surface\"}],\"table\":[{\"cells\":{\"fill\":{\"color\":\"#EBF0F8\"},\"line\":{\"color\":\"white\"}},\"header\":{\"fill\":{\"color\":\"#C8D4E3\"},\"line\":{\"color\":\"white\"}},\"type\":\"table\"}]},\"layout\":{\"annotationdefaults\":{\"arrowcolor\":\"#2a3f5f\",\"arrowhead\":0,\"arrowwidth\":1},\"autotypenumbers\":\"strict\",\"coloraxis\":{\"colorbar\":{\"outlinewidth\":0,\"ticks\":\"\"}},\"colorscale\":{\"diverging\":[[0,\"#8e0152\"],[0.1,\"#c51b7d\"],[0.2,\"#de77ae\"],[0.3,\"#f1b6da\"],[0.4,\"#fde0ef\"],[0.5,\"#f7f7f7\"],[0.6,\"#e6f5d0\"],[0.7,\"#b8e186\"],[0.8,\"#7fbc41\"],[0.9,\"#4d9221\"],[1,\"#276419\"]],\"sequential\":[[0.0,\"#0d0887\"],[0.1111111111111111,\"#46039f\"],[0.2222222222222222,\"#7201a8\"],[0.3333333333333333,\"#9c179e\"],[0.4444444444444444,\"#bd3786\"],[0.5555555555555556,\"#d8576b\"],[0.6666666666666666,\"#ed7953\"],[0.7777777777777778,\"#fb9f3a\"],[0.8888888888888888,\"#fdca26\"],[1.0,\"#f0f921\"]],\"sequentialminus\":[[0.0,\"#0d0887\"],[0.1111111111111111,\"#46039f\"],[0.2222222222222222,\"#7201a8\"],[0.3333333333333333,\"#9c179e\"],[0.4444444444444444,\"#bd3786\"],[0.5555555555555556,\"#d8576b\"],[0.6666666666666666,\"#ed7953\"],[0.7777777777777778,\"#fb9f3a\"],[0.8888888888888888,\"#fdca26\"],[1.0,\"#f0f921\"]]},\"colorway\":[\"#636efa\",\"#EF553B\",\"#00cc96\",\"#ab63fa\",\"#FFA15A\",\"#19d3f3\",\"#FF6692\",\"#B6E880\",\"#FF97FF\",\"#FECB52\"],\"font\":{\"color\":\"#2a3f5f\"},\"geo\":{\"bgcolor\":\"white\",\"lakecolor\":\"white\",\"landcolor\":\"#E5ECF6\",\"showlakes\":true,\"showland\":true,\"subunitcolor\":\"white\"},\"hoverlabel\":{\"align\":\"left\"},\"hovermode\":\"closest\",\"mapbox\":{\"style\":\"light\"},\"paper_bgcolor\":\"white\",\"plot_bgcolor\":\"#E5ECF6\",\"polar\":{\"angularaxis\":{\"gridcolor\":\"white\",\"linecolor\":\"white\",\"ticks\":\"\"},\"bgcolor\":\"#E5ECF6\",\"radialaxis\":{\"gridcolor\":\"white\",\"linecolor\":\"white\",\"ticks\":\"\"}},\"scene\":{\"xaxis\":{\"backgroundcolor\":\"#E5ECF6\",\"gridcolor\":\"white\",\"gridwidth\":2,\"linecolor\":\"white\",\"showbackground\":true,\"ticks\":\"\",\"zerolinecolor\":\"white\"},\"yaxis\":{\"backgroundcolor\":\"#E5ECF6\",\"gridcolor\":\"white\",\"gridwidth\":2,\"linecolor\":\"white\",\"showbackground\":true,\"ticks\":\"\",\"zerolinecolor\":\"white\"},\"zaxis\":{\"backgroundcolor\":\"#E5ECF6\",\"gridcolor\":\"white\",\"gridwidth\":2,\"linecolor\":\"white\",\"showbackground\":true,\"ticks\":\"\",\"zerolinecolor\":\"white\"}},\"shapedefaults\":{\"line\":{\"color\":\"#2a3f5f\"}},\"ternary\":{\"aaxis\":{\"gridcolor\":\"white\",\"linecolor\":\"white\",\"ticks\":\"\"},\"baxis\":{\"gridcolor\":\"white\",\"linecolor\":\"white\",\"ticks\":\"\"},\"bgcolor\":\"#E5ECF6\",\"caxis\":{\"gridcolor\":\"white\",\"linecolor\":\"white\",\"ticks\":\"\"}},\"title\":{\"x\":0.05},\"xaxis\":{\"automargin\":true,\"gridcolor\":\"white\",\"linecolor\":\"white\",\"ticks\":\"\",\"title\":{\"standoff\":15},\"zerolinecolor\":\"white\",\"zerolinewidth\":2},\"yaxis\":{\"automargin\":true,\"gridcolor\":\"white\",\"linecolor\":\"white\",\"ticks\":\"\",\"title\":{\"standoff\":15},\"zerolinecolor\":\"white\",\"zerolinewidth\":2}}},\"title\":{\"text\":\"Scatterplot Matrix\"},\"width\":700,\"xaxis\":{\"anchor\":\"y\",\"domain\":[0.0,0.2125],\"showticklabels\":false},\"yaxis\":{\"anchor\":\"x\",\"domain\":[0.80625,1.0],\"title\":{\"text\":\"GDP per capita (current US$)\"}},\"xaxis2\":{\"anchor\":\"y2\",\"domain\":[0.2625,0.475]},\"yaxis2\":{\"anchor\":\"x2\",\"domain\":[0.80625,1.0]},\"xaxis3\":{\"anchor\":\"y3\",\"domain\":[0.525,0.7375]},\"yaxis3\":{\"anchor\":\"x3\",\"domain\":[0.80625,1.0]},\"xaxis4\":{\"anchor\":\"y4\",\"domain\":[0.7875,1.0]},\"yaxis4\":{\"anchor\":\"x4\",\"domain\":[0.80625,1.0]},\"xaxis5\":{\"anchor\":\"y5\",\"domain\":[0.0,0.2125]},\"yaxis5\":{\"anchor\":\"x5\",\"domain\":[0.5375,0.73125],\"title\":{\"text\":\"Confirmed\"}},\"xaxis6\":{\"anchor\":\"y6\",\"domain\":[0.2625,0.475],\"showticklabels\":false},\"yaxis6\":{\"anchor\":\"x6\",\"domain\":[0.5375,0.73125]},\"xaxis7\":{\"anchor\":\"y7\",\"domain\":[0.525,0.7375]},\"yaxis7\":{\"anchor\":\"x7\",\"domain\":[0.5375,0.73125]},\"xaxis8\":{\"anchor\":\"y8\",\"domain\":[0.7875,1.0]},\"yaxis8\":{\"anchor\":\"x8\",\"domain\":[0.5375,0.73125]},\"xaxis9\":{\"anchor\":\"y9\",\"domain\":[0.0,0.2125]},\"yaxis9\":{\"anchor\":\"x9\",\"domain\":[0.26875,0.4625],\"title\":{\"text\":\"Population age distribution (0-14, %)\"}},\"xaxis10\":{\"anchor\":\"y10\",\"domain\":[0.2625,0.475]},\"yaxis10\":{\"anchor\":\"x10\",\"domain\":[0.26875,0.4625]},\"xaxis11\":{\"anchor\":\"y11\",\"domain\":[0.525,0.7375],\"showticklabels\":false},\"yaxis11\":{\"anchor\":\"x11\",\"domain\":[0.26875,0.4625]},\"xaxis12\":{\"anchor\":\"y12\",\"domain\":[0.7875,1.0]},\"yaxis12\":{\"anchor\":\"x12\",\"domain\":[0.26875,0.4625]},\"xaxis13\":{\"anchor\":\"y13\",\"domain\":[0.0,0.2125],\"title\":{\"text\":\"GDP per capita (current US$)\"}},\"yaxis13\":{\"anchor\":\"x13\",\"domain\":[0.0,0.19375],\"title\":{\"text\":\"Population age distribution (60+ years, %)\"}},\"xaxis14\":{\"anchor\":\"y14\",\"domain\":[0.2625,0.475],\"title\":{\"text\":\"Confirmed\"}},\"yaxis14\":{\"anchor\":\"x14\",\"domain\":[0.0,0.19375]},\"xaxis15\":{\"anchor\":\"y15\",\"domain\":[0.525,0.7375],\"title\":{\"text\":\"Population age distribution (0-14, %)\"}},\"yaxis15\":{\"anchor\":\"x15\",\"domain\":[0.0,0.19375]},\"xaxis16\":{\"anchor\":\"y16\",\"domain\":[0.7875,1.0],\"showticklabels\":false,\"title\":{\"text\":\"Population age distribution (60+ years, %)\"}},\"yaxis16\":{\"anchor\":\"x16\",\"domain\":[0.0,0.19375]}},                        {\"responsive\": true}                    ).then(function(){\n",
       "                            \n",
       "var gd = document.getElementById('cad85ece-8da0-4b52-a6ef-f91122ae52b2');\n",
       "var x = new MutationObserver(function (mutations, observer) {{\n",
       "        var display = window.getComputedStyle(gd).display;\n",
       "        if (!display || display === 'none') {{\n",
       "            console.log([gd, 'removed!']);\n",
       "            Plotly.purge(gd);\n",
       "            observer.disconnect();\n",
       "        }}\n",
       "}});\n",
       "\n",
       "// Listen for the removal of the full notebook cells\n",
       "var notebookContainer = gd.closest('#notebook-container');\n",
       "if (notebookContainer) {{\n",
       "    x.observe(notebookContainer, {childList: true});\n",
       "}}\n",
       "\n",
       "// Listen for the clearing of the current output cell\n",
       "var outputEl = gd.closest('.output');\n",
       "if (outputEl) {{\n",
       "    x.observe(outputEl, {childList: true});\n",
       "}}\n",
       "\n",
       "                        })                };                });            </script>        </div>"
      ]
     },
     "metadata": {},
     "output_type": "display_data"
    }
   ],
   "source": [
    "df_comp = df.loc[:,[\"GDP per capita (current US$)\", \"Confirmed\", \"Population age distribution (0-14, %)\", \"Population age distribution (60+ years, %)\"]]\n",
    "df_comp.drop(index = df_comp[df_comp[\"Population age distribution (60+ years, %)\"] == \"...\"].index, inplace = True)\n",
    "df_comp.drop(index = df_comp[df_comp[\"Population age distribution (0-14, %)\"] == \"...\"].index, inplace = True)\n",
    "\n",
    "df_comp = df_comp.astype({\"Population age distribution (0-14, %)\": \"float\",\"Population age distribution (60+ years, %)\" : \"float\" })\n",
    "df_comp[\"index\"] = np.arange(1,len(df_comp)+1)\n",
    "\n",
    "fig = ff.create_scatterplotmatrix(df_comp, diag = \"box\",  colormap = \"Blues\", index = \"index\", colormap_type = \"cat\", height = 700, width = 700)\n",
    "\n",
    "iplot(fig)"
   ]
  },
  {
   "cell_type": "markdown",
   "id": "53dcb6b3",
   "metadata": {
    "papermill": {
     "duration": 0.03025,
     "end_time": "2022-07-10T12:17:38.759727",
     "exception": false,
     "start_time": "2022-07-10T12:17:38.729477",
     "status": "completed"
    },
    "tags": []
   },
   "source": [
    "## Relation Between Death/Recovered Percent and Region\n",
    "<a id = \"6\">  </a>"
   ]
  },
  {
   "cell_type": "code",
   "execution_count": 23,
   "id": "280fa934",
   "metadata": {
    "execution": {
     "iopub.execute_input": "2022-07-10T12:17:38.823806Z",
     "iopub.status.busy": "2022-07-10T12:17:38.822752Z",
     "iopub.status.idle": "2022-07-10T12:17:38.870584Z",
     "shell.execute_reply": "2022-07-10T12:17:38.869511Z"
    },
    "papermill": {
     "duration": 0.082058,
     "end_time": "2022-07-10T12:17:38.873015",
     "exception": false,
     "start_time": "2022-07-10T12:17:38.790957",
     "status": "completed"
    },
    "tags": []
   },
   "outputs": [
    {
     "data": {
      "application/vnd.plotly.v1+json": {
       "config": {
        "linkText": "Export to plot.ly",
        "plotlyServerURL": "https://plot.ly",
        "showLink": false
       },
       "data": [
        {
         "domain": {
          "x": [
           0,
           0.5
          ]
         },
         "hole": 0.2,
         "hoverinfo": "label+percent+name",
         "labels": [
          "EasternAfrica",
          "WesternAfrica",
          "Caribbean",
          "SouthernEurope",
          "MiddleAfrica",
          "WesternAsia",
          "SouthAmerica",
          "NorthernEurope",
          "SouthernAsia",
          "South-easternAsia",
          "SouthernAfrica",
          "CentralAmerica",
          "NorthernAfrica",
          "Melanesia",
          "EasternEurope",
          "WesternEurope",
          "NorthernAmerica",
          "EasternAsia",
          "Oceania",
          "CentralAsia"
         ],
         "name": "Death/Recovered Percent",
         "type": "pie",
         "values": [
          39.93333333333333,
          57.833333333333336,
          11.454545454545455,
          129.2,
          48.166666666666664,
          116.0,
          30.5,
          47.5,
          18.5,
          19.333333333333332,
          7.333333333333333,
          75.0,
          38.333333333333336,
          0.0,
          312.0,
          2.5,
          0.0,
          0.0,
          22.0,
          60.0
         ]
        }
       ],
       "layout": {
        "annotations": [
         {
          "font": {
           "size": 17
          },
          "showarrow": false,
          "text": "Relation Between Death/Recovered Percent and Region",
          "x": 0.05,
          "y": 1.2
         }
        ],
        "template": {
         "data": {
          "bar": [
           {
            "error_x": {
             "color": "#2a3f5f"
            },
            "error_y": {
             "color": "#2a3f5f"
            },
            "marker": {
             "line": {
              "color": "#E5ECF6",
              "width": 0.5
             },
             "pattern": {
              "fillmode": "overlay",
              "size": 10,
              "solidity": 0.2
             }
            },
            "type": "bar"
           }
          ],
          "barpolar": [
           {
            "marker": {
             "line": {
              "color": "#E5ECF6",
              "width": 0.5
             },
             "pattern": {
              "fillmode": "overlay",
              "size": 10,
              "solidity": 0.2
             }
            },
            "type": "barpolar"
           }
          ],
          "carpet": [
           {
            "aaxis": {
             "endlinecolor": "#2a3f5f",
             "gridcolor": "white",
             "linecolor": "white",
             "minorgridcolor": "white",
             "startlinecolor": "#2a3f5f"
            },
            "baxis": {
             "endlinecolor": "#2a3f5f",
             "gridcolor": "white",
             "linecolor": "white",
             "minorgridcolor": "white",
             "startlinecolor": "#2a3f5f"
            },
            "type": "carpet"
           }
          ],
          "choropleth": [
           {
            "colorbar": {
             "outlinewidth": 0,
             "ticks": ""
            },
            "type": "choropleth"
           }
          ],
          "contour": [
           {
            "colorbar": {
             "outlinewidth": 0,
             "ticks": ""
            },
            "colorscale": [
             [
              0.0,
              "#0d0887"
             ],
             [
              0.1111111111111111,
              "#46039f"
             ],
             [
              0.2222222222222222,
              "#7201a8"
             ],
             [
              0.3333333333333333,
              "#9c179e"
             ],
             [
              0.4444444444444444,
              "#bd3786"
             ],
             [
              0.5555555555555556,
              "#d8576b"
             ],
             [
              0.6666666666666666,
              "#ed7953"
             ],
             [
              0.7777777777777778,
              "#fb9f3a"
             ],
             [
              0.8888888888888888,
              "#fdca26"
             ],
             [
              1.0,
              "#f0f921"
             ]
            ],
            "type": "contour"
           }
          ],
          "contourcarpet": [
           {
            "colorbar": {
             "outlinewidth": 0,
             "ticks": ""
            },
            "type": "contourcarpet"
           }
          ],
          "heatmap": [
           {
            "colorbar": {
             "outlinewidth": 0,
             "ticks": ""
            },
            "colorscale": [
             [
              0.0,
              "#0d0887"
             ],
             [
              0.1111111111111111,
              "#46039f"
             ],
             [
              0.2222222222222222,
              "#7201a8"
             ],
             [
              0.3333333333333333,
              "#9c179e"
             ],
             [
              0.4444444444444444,
              "#bd3786"
             ],
             [
              0.5555555555555556,
              "#d8576b"
             ],
             [
              0.6666666666666666,
              "#ed7953"
             ],
             [
              0.7777777777777778,
              "#fb9f3a"
             ],
             [
              0.8888888888888888,
              "#fdca26"
             ],
             [
              1.0,
              "#f0f921"
             ]
            ],
            "type": "heatmap"
           }
          ],
          "heatmapgl": [
           {
            "colorbar": {
             "outlinewidth": 0,
             "ticks": ""
            },
            "colorscale": [
             [
              0.0,
              "#0d0887"
             ],
             [
              0.1111111111111111,
              "#46039f"
             ],
             [
              0.2222222222222222,
              "#7201a8"
             ],
             [
              0.3333333333333333,
              "#9c179e"
             ],
             [
              0.4444444444444444,
              "#bd3786"
             ],
             [
              0.5555555555555556,
              "#d8576b"
             ],
             [
              0.6666666666666666,
              "#ed7953"
             ],
             [
              0.7777777777777778,
              "#fb9f3a"
             ],
             [
              0.8888888888888888,
              "#fdca26"
             ],
             [
              1.0,
              "#f0f921"
             ]
            ],
            "type": "heatmapgl"
           }
          ],
          "histogram": [
           {
            "marker": {
             "pattern": {
              "fillmode": "overlay",
              "size": 10,
              "solidity": 0.2
             }
            },
            "type": "histogram"
           }
          ],
          "histogram2d": [
           {
            "colorbar": {
             "outlinewidth": 0,
             "ticks": ""
            },
            "colorscale": [
             [
              0.0,
              "#0d0887"
             ],
             [
              0.1111111111111111,
              "#46039f"
             ],
             [
              0.2222222222222222,
              "#7201a8"
             ],
             [
              0.3333333333333333,
              "#9c179e"
             ],
             [
              0.4444444444444444,
              "#bd3786"
             ],
             [
              0.5555555555555556,
              "#d8576b"
             ],
             [
              0.6666666666666666,
              "#ed7953"
             ],
             [
              0.7777777777777778,
              "#fb9f3a"
             ],
             [
              0.8888888888888888,
              "#fdca26"
             ],
             [
              1.0,
              "#f0f921"
             ]
            ],
            "type": "histogram2d"
           }
          ],
          "histogram2dcontour": [
           {
            "colorbar": {
             "outlinewidth": 0,
             "ticks": ""
            },
            "colorscale": [
             [
              0.0,
              "#0d0887"
             ],
             [
              0.1111111111111111,
              "#46039f"
             ],
             [
              0.2222222222222222,
              "#7201a8"
             ],
             [
              0.3333333333333333,
              "#9c179e"
             ],
             [
              0.4444444444444444,
              "#bd3786"
             ],
             [
              0.5555555555555556,
              "#d8576b"
             ],
             [
              0.6666666666666666,
              "#ed7953"
             ],
             [
              0.7777777777777778,
              "#fb9f3a"
             ],
             [
              0.8888888888888888,
              "#fdca26"
             ],
             [
              1.0,
              "#f0f921"
             ]
            ],
            "type": "histogram2dcontour"
           }
          ],
          "mesh3d": [
           {
            "colorbar": {
             "outlinewidth": 0,
             "ticks": ""
            },
            "type": "mesh3d"
           }
          ],
          "parcoords": [
           {
            "line": {
             "colorbar": {
              "outlinewidth": 0,
              "ticks": ""
             }
            },
            "type": "parcoords"
           }
          ],
          "pie": [
           {
            "automargin": true,
            "type": "pie"
           }
          ],
          "scatter": [
           {
            "fillpattern": {
             "fillmode": "overlay",
             "size": 10,
             "solidity": 0.2
            },
            "type": "scatter"
           }
          ],
          "scatter3d": [
           {
            "line": {
             "colorbar": {
              "outlinewidth": 0,
              "ticks": ""
             }
            },
            "marker": {
             "colorbar": {
              "outlinewidth": 0,
              "ticks": ""
             }
            },
            "type": "scatter3d"
           }
          ],
          "scattercarpet": [
           {
            "marker": {
             "colorbar": {
              "outlinewidth": 0,
              "ticks": ""
             }
            },
            "type": "scattercarpet"
           }
          ],
          "scattergeo": [
           {
            "marker": {
             "colorbar": {
              "outlinewidth": 0,
              "ticks": ""
             }
            },
            "type": "scattergeo"
           }
          ],
          "scattergl": [
           {
            "marker": {
             "colorbar": {
              "outlinewidth": 0,
              "ticks": ""
             }
            },
            "type": "scattergl"
           }
          ],
          "scattermapbox": [
           {
            "marker": {
             "colorbar": {
              "outlinewidth": 0,
              "ticks": ""
             }
            },
            "type": "scattermapbox"
           }
          ],
          "scatterpolar": [
           {
            "marker": {
             "colorbar": {
              "outlinewidth": 0,
              "ticks": ""
             }
            },
            "type": "scatterpolar"
           }
          ],
          "scatterpolargl": [
           {
            "marker": {
             "colorbar": {
              "outlinewidth": 0,
              "ticks": ""
             }
            },
            "type": "scatterpolargl"
           }
          ],
          "scatterternary": [
           {
            "marker": {
             "colorbar": {
              "outlinewidth": 0,
              "ticks": ""
             }
            },
            "type": "scatterternary"
           }
          ],
          "surface": [
           {
            "colorbar": {
             "outlinewidth": 0,
             "ticks": ""
            },
            "colorscale": [
             [
              0.0,
              "#0d0887"
             ],
             [
              0.1111111111111111,
              "#46039f"
             ],
             [
              0.2222222222222222,
              "#7201a8"
             ],
             [
              0.3333333333333333,
              "#9c179e"
             ],
             [
              0.4444444444444444,
              "#bd3786"
             ],
             [
              0.5555555555555556,
              "#d8576b"
             ],
             [
              0.6666666666666666,
              "#ed7953"
             ],
             [
              0.7777777777777778,
              "#fb9f3a"
             ],
             [
              0.8888888888888888,
              "#fdca26"
             ],
             [
              1.0,
              "#f0f921"
             ]
            ],
            "type": "surface"
           }
          ],
          "table": [
           {
            "cells": {
             "fill": {
              "color": "#EBF0F8"
             },
             "line": {
              "color": "white"
             }
            },
            "header": {
             "fill": {
              "color": "#C8D4E3"
             },
             "line": {
              "color": "white"
             }
            },
            "type": "table"
           }
          ]
         },
         "layout": {
          "annotationdefaults": {
           "arrowcolor": "#2a3f5f",
           "arrowhead": 0,
           "arrowwidth": 1
          },
          "autotypenumbers": "strict",
          "coloraxis": {
           "colorbar": {
            "outlinewidth": 0,
            "ticks": ""
           }
          },
          "colorscale": {
           "diverging": [
            [
             0,
             "#8e0152"
            ],
            [
             0.1,
             "#c51b7d"
            ],
            [
             0.2,
             "#de77ae"
            ],
            [
             0.3,
             "#f1b6da"
            ],
            [
             0.4,
             "#fde0ef"
            ],
            [
             0.5,
             "#f7f7f7"
            ],
            [
             0.6,
             "#e6f5d0"
            ],
            [
             0.7,
             "#b8e186"
            ],
            [
             0.8,
             "#7fbc41"
            ],
            [
             0.9,
             "#4d9221"
            ],
            [
             1,
             "#276419"
            ]
           ],
           "sequential": [
            [
             0.0,
             "#0d0887"
            ],
            [
             0.1111111111111111,
             "#46039f"
            ],
            [
             0.2222222222222222,
             "#7201a8"
            ],
            [
             0.3333333333333333,
             "#9c179e"
            ],
            [
             0.4444444444444444,
             "#bd3786"
            ],
            [
             0.5555555555555556,
             "#d8576b"
            ],
            [
             0.6666666666666666,
             "#ed7953"
            ],
            [
             0.7777777777777778,
             "#fb9f3a"
            ],
            [
             0.8888888888888888,
             "#fdca26"
            ],
            [
             1.0,
             "#f0f921"
            ]
           ],
           "sequentialminus": [
            [
             0.0,
             "#0d0887"
            ],
            [
             0.1111111111111111,
             "#46039f"
            ],
            [
             0.2222222222222222,
             "#7201a8"
            ],
            [
             0.3333333333333333,
             "#9c179e"
            ],
            [
             0.4444444444444444,
             "#bd3786"
            ],
            [
             0.5555555555555556,
             "#d8576b"
            ],
            [
             0.6666666666666666,
             "#ed7953"
            ],
            [
             0.7777777777777778,
             "#fb9f3a"
            ],
            [
             0.8888888888888888,
             "#fdca26"
            ],
            [
             1.0,
             "#f0f921"
            ]
           ]
          },
          "colorway": [
           "#636efa",
           "#EF553B",
           "#00cc96",
           "#ab63fa",
           "#FFA15A",
           "#19d3f3",
           "#FF6692",
           "#B6E880",
           "#FF97FF",
           "#FECB52"
          ],
          "font": {
           "color": "#2a3f5f"
          },
          "geo": {
           "bgcolor": "white",
           "lakecolor": "white",
           "landcolor": "#E5ECF6",
           "showlakes": true,
           "showland": true,
           "subunitcolor": "white"
          },
          "hoverlabel": {
           "align": "left"
          },
          "hovermode": "closest",
          "mapbox": {
           "style": "light"
          },
          "paper_bgcolor": "white",
          "plot_bgcolor": "#E5ECF6",
          "polar": {
           "angularaxis": {
            "gridcolor": "white",
            "linecolor": "white",
            "ticks": ""
           },
           "bgcolor": "#E5ECF6",
           "radialaxis": {
            "gridcolor": "white",
            "linecolor": "white",
            "ticks": ""
           }
          },
          "scene": {
           "xaxis": {
            "backgroundcolor": "#E5ECF6",
            "gridcolor": "white",
            "gridwidth": 2,
            "linecolor": "white",
            "showbackground": true,
            "ticks": "",
            "zerolinecolor": "white"
           },
           "yaxis": {
            "backgroundcolor": "#E5ECF6",
            "gridcolor": "white",
            "gridwidth": 2,
            "linecolor": "white",
            "showbackground": true,
            "ticks": "",
            "zerolinecolor": "white"
           },
           "zaxis": {
            "backgroundcolor": "#E5ECF6",
            "gridcolor": "white",
            "gridwidth": 2,
            "linecolor": "white",
            "showbackground": true,
            "ticks": "",
            "zerolinecolor": "white"
           }
          },
          "shapedefaults": {
           "line": {
            "color": "#2a3f5f"
           }
          },
          "ternary": {
           "aaxis": {
            "gridcolor": "white",
            "linecolor": "white",
            "ticks": ""
           },
           "baxis": {
            "gridcolor": "white",
            "linecolor": "white",
            "ticks": ""
           },
           "bgcolor": "#E5ECF6",
           "caxis": {
            "gridcolor": "white",
            "linecolor": "white",
            "ticks": ""
           }
          },
          "title": {
           "x": 0.05
          },
          "xaxis": {
           "automargin": true,
           "gridcolor": "white",
           "linecolor": "white",
           "ticks": "",
           "title": {
            "standoff": 15
           },
           "zerolinecolor": "white",
           "zerolinewidth": 2
          },
          "yaxis": {
           "automargin": true,
           "gridcolor": "white",
           "linecolor": "white",
           "ticks": "",
           "title": {
            "standoff": 15
           },
           "zerolinecolor": "white",
           "zerolinewidth": 2
          }
         }
        },
        "title": {
         "text": ""
        }
       }
      },
      "text/html": [
       "<div>                            <div id=\"59614c8f-53a4-4243-b39e-fd1a8fc5bec9\" class=\"plotly-graph-div\" style=\"height:525px; width:100%;\"></div>            <script type=\"text/javascript\">                require([\"plotly\"], function(Plotly) {                    window.PLOTLYENV=window.PLOTLYENV || {};                                    if (document.getElementById(\"59614c8f-53a4-4243-b39e-fd1a8fc5bec9\")) {                    Plotly.newPlot(                        \"59614c8f-53a4-4243-b39e-fd1a8fc5bec9\",                        [{\"domain\":{\"x\":[0,0.5]},\"hole\":0.2,\"hoverinfo\":\"label+percent+name\",\"labels\":[\"EasternAfrica\",\"WesternAfrica\",\"Caribbean\",\"SouthernEurope\",\"MiddleAfrica\",\"WesternAsia\",\"SouthAmerica\",\"NorthernEurope\",\"SouthernAsia\",\"South-easternAsia\",\"SouthernAfrica\",\"CentralAmerica\",\"NorthernAfrica\",\"Melanesia\",\"EasternEurope\",\"WesternEurope\",\"NorthernAmerica\",\"EasternAsia\",\"Oceania\",\"CentralAsia\"],\"name\":\"Death/Recovered Percent\",\"values\":[39.93333333333333,57.833333333333336,11.454545454545455,129.2,48.166666666666664,116.0,30.5,47.5,18.5,19.333333333333332,7.333333333333333,75.0,38.333333333333336,0.0,312.0,2.5,0.0,0.0,22.0,60.0],\"type\":\"pie\"}],                        {\"annotations\":[{\"font\":{\"size\":17},\"showarrow\":false,\"text\":\"Relation Between Death/Recovered Percent and Region\",\"x\":0.05,\"y\":1.2}],\"template\":{\"data\":{\"barpolar\":[{\"marker\":{\"line\":{\"color\":\"#E5ECF6\",\"width\":0.5},\"pattern\":{\"fillmode\":\"overlay\",\"size\":10,\"solidity\":0.2}},\"type\":\"barpolar\"}],\"bar\":[{\"error_x\":{\"color\":\"#2a3f5f\"},\"error_y\":{\"color\":\"#2a3f5f\"},\"marker\":{\"line\":{\"color\":\"#E5ECF6\",\"width\":0.5},\"pattern\":{\"fillmode\":\"overlay\",\"size\":10,\"solidity\":0.2}},\"type\":\"bar\"}],\"carpet\":[{\"aaxis\":{\"endlinecolor\":\"#2a3f5f\",\"gridcolor\":\"white\",\"linecolor\":\"white\",\"minorgridcolor\":\"white\",\"startlinecolor\":\"#2a3f5f\"},\"baxis\":{\"endlinecolor\":\"#2a3f5f\",\"gridcolor\":\"white\",\"linecolor\":\"white\",\"minorgridcolor\":\"white\",\"startlinecolor\":\"#2a3f5f\"},\"type\":\"carpet\"}],\"choropleth\":[{\"colorbar\":{\"outlinewidth\":0,\"ticks\":\"\"},\"type\":\"choropleth\"}],\"contourcarpet\":[{\"colorbar\":{\"outlinewidth\":0,\"ticks\":\"\"},\"type\":\"contourcarpet\"}],\"contour\":[{\"colorbar\":{\"outlinewidth\":0,\"ticks\":\"\"},\"colorscale\":[[0.0,\"#0d0887\"],[0.1111111111111111,\"#46039f\"],[0.2222222222222222,\"#7201a8\"],[0.3333333333333333,\"#9c179e\"],[0.4444444444444444,\"#bd3786\"],[0.5555555555555556,\"#d8576b\"],[0.6666666666666666,\"#ed7953\"],[0.7777777777777778,\"#fb9f3a\"],[0.8888888888888888,\"#fdca26\"],[1.0,\"#f0f921\"]],\"type\":\"contour\"}],\"heatmapgl\":[{\"colorbar\":{\"outlinewidth\":0,\"ticks\":\"\"},\"colorscale\":[[0.0,\"#0d0887\"],[0.1111111111111111,\"#46039f\"],[0.2222222222222222,\"#7201a8\"],[0.3333333333333333,\"#9c179e\"],[0.4444444444444444,\"#bd3786\"],[0.5555555555555556,\"#d8576b\"],[0.6666666666666666,\"#ed7953\"],[0.7777777777777778,\"#fb9f3a\"],[0.8888888888888888,\"#fdca26\"],[1.0,\"#f0f921\"]],\"type\":\"heatmapgl\"}],\"heatmap\":[{\"colorbar\":{\"outlinewidth\":0,\"ticks\":\"\"},\"colorscale\":[[0.0,\"#0d0887\"],[0.1111111111111111,\"#46039f\"],[0.2222222222222222,\"#7201a8\"],[0.3333333333333333,\"#9c179e\"],[0.4444444444444444,\"#bd3786\"],[0.5555555555555556,\"#d8576b\"],[0.6666666666666666,\"#ed7953\"],[0.7777777777777778,\"#fb9f3a\"],[0.8888888888888888,\"#fdca26\"],[1.0,\"#f0f921\"]],\"type\":\"heatmap\"}],\"histogram2dcontour\":[{\"colorbar\":{\"outlinewidth\":0,\"ticks\":\"\"},\"colorscale\":[[0.0,\"#0d0887\"],[0.1111111111111111,\"#46039f\"],[0.2222222222222222,\"#7201a8\"],[0.3333333333333333,\"#9c179e\"],[0.4444444444444444,\"#bd3786\"],[0.5555555555555556,\"#d8576b\"],[0.6666666666666666,\"#ed7953\"],[0.7777777777777778,\"#fb9f3a\"],[0.8888888888888888,\"#fdca26\"],[1.0,\"#f0f921\"]],\"type\":\"histogram2dcontour\"}],\"histogram2d\":[{\"colorbar\":{\"outlinewidth\":0,\"ticks\":\"\"},\"colorscale\":[[0.0,\"#0d0887\"],[0.1111111111111111,\"#46039f\"],[0.2222222222222222,\"#7201a8\"],[0.3333333333333333,\"#9c179e\"],[0.4444444444444444,\"#bd3786\"],[0.5555555555555556,\"#d8576b\"],[0.6666666666666666,\"#ed7953\"],[0.7777777777777778,\"#fb9f3a\"],[0.8888888888888888,\"#fdca26\"],[1.0,\"#f0f921\"]],\"type\":\"histogram2d\"}],\"histogram\":[{\"marker\":{\"pattern\":{\"fillmode\":\"overlay\",\"size\":10,\"solidity\":0.2}},\"type\":\"histogram\"}],\"mesh3d\":[{\"colorbar\":{\"outlinewidth\":0,\"ticks\":\"\"},\"type\":\"mesh3d\"}],\"parcoords\":[{\"line\":{\"colorbar\":{\"outlinewidth\":0,\"ticks\":\"\"}},\"type\":\"parcoords\"}],\"pie\":[{\"automargin\":true,\"type\":\"pie\"}],\"scatter3d\":[{\"line\":{\"colorbar\":{\"outlinewidth\":0,\"ticks\":\"\"}},\"marker\":{\"colorbar\":{\"outlinewidth\":0,\"ticks\":\"\"}},\"type\":\"scatter3d\"}],\"scattercarpet\":[{\"marker\":{\"colorbar\":{\"outlinewidth\":0,\"ticks\":\"\"}},\"type\":\"scattercarpet\"}],\"scattergeo\":[{\"marker\":{\"colorbar\":{\"outlinewidth\":0,\"ticks\":\"\"}},\"type\":\"scattergeo\"}],\"scattergl\":[{\"marker\":{\"colorbar\":{\"outlinewidth\":0,\"ticks\":\"\"}},\"type\":\"scattergl\"}],\"scattermapbox\":[{\"marker\":{\"colorbar\":{\"outlinewidth\":0,\"ticks\":\"\"}},\"type\":\"scattermapbox\"}],\"scatterpolargl\":[{\"marker\":{\"colorbar\":{\"outlinewidth\":0,\"ticks\":\"\"}},\"type\":\"scatterpolargl\"}],\"scatterpolar\":[{\"marker\":{\"colorbar\":{\"outlinewidth\":0,\"ticks\":\"\"}},\"type\":\"scatterpolar\"}],\"scatter\":[{\"fillpattern\":{\"fillmode\":\"overlay\",\"size\":10,\"solidity\":0.2},\"type\":\"scatter\"}],\"scatterternary\":[{\"marker\":{\"colorbar\":{\"outlinewidth\":0,\"ticks\":\"\"}},\"type\":\"scatterternary\"}],\"surface\":[{\"colorbar\":{\"outlinewidth\":0,\"ticks\":\"\"},\"colorscale\":[[0.0,\"#0d0887\"],[0.1111111111111111,\"#46039f\"],[0.2222222222222222,\"#7201a8\"],[0.3333333333333333,\"#9c179e\"],[0.4444444444444444,\"#bd3786\"],[0.5555555555555556,\"#d8576b\"],[0.6666666666666666,\"#ed7953\"],[0.7777777777777778,\"#fb9f3a\"],[0.8888888888888888,\"#fdca26\"],[1.0,\"#f0f921\"]],\"type\":\"surface\"}],\"table\":[{\"cells\":{\"fill\":{\"color\":\"#EBF0F8\"},\"line\":{\"color\":\"white\"}},\"header\":{\"fill\":{\"color\":\"#C8D4E3\"},\"line\":{\"color\":\"white\"}},\"type\":\"table\"}]},\"layout\":{\"annotationdefaults\":{\"arrowcolor\":\"#2a3f5f\",\"arrowhead\":0,\"arrowwidth\":1},\"autotypenumbers\":\"strict\",\"coloraxis\":{\"colorbar\":{\"outlinewidth\":0,\"ticks\":\"\"}},\"colorscale\":{\"diverging\":[[0,\"#8e0152\"],[0.1,\"#c51b7d\"],[0.2,\"#de77ae\"],[0.3,\"#f1b6da\"],[0.4,\"#fde0ef\"],[0.5,\"#f7f7f7\"],[0.6,\"#e6f5d0\"],[0.7,\"#b8e186\"],[0.8,\"#7fbc41\"],[0.9,\"#4d9221\"],[1,\"#276419\"]],\"sequential\":[[0.0,\"#0d0887\"],[0.1111111111111111,\"#46039f\"],[0.2222222222222222,\"#7201a8\"],[0.3333333333333333,\"#9c179e\"],[0.4444444444444444,\"#bd3786\"],[0.5555555555555556,\"#d8576b\"],[0.6666666666666666,\"#ed7953\"],[0.7777777777777778,\"#fb9f3a\"],[0.8888888888888888,\"#fdca26\"],[1.0,\"#f0f921\"]],\"sequentialminus\":[[0.0,\"#0d0887\"],[0.1111111111111111,\"#46039f\"],[0.2222222222222222,\"#7201a8\"],[0.3333333333333333,\"#9c179e\"],[0.4444444444444444,\"#bd3786\"],[0.5555555555555556,\"#d8576b\"],[0.6666666666666666,\"#ed7953\"],[0.7777777777777778,\"#fb9f3a\"],[0.8888888888888888,\"#fdca26\"],[1.0,\"#f0f921\"]]},\"colorway\":[\"#636efa\",\"#EF553B\",\"#00cc96\",\"#ab63fa\",\"#FFA15A\",\"#19d3f3\",\"#FF6692\",\"#B6E880\",\"#FF97FF\",\"#FECB52\"],\"font\":{\"color\":\"#2a3f5f\"},\"geo\":{\"bgcolor\":\"white\",\"lakecolor\":\"white\",\"landcolor\":\"#E5ECF6\",\"showlakes\":true,\"showland\":true,\"subunitcolor\":\"white\"},\"hoverlabel\":{\"align\":\"left\"},\"hovermode\":\"closest\",\"mapbox\":{\"style\":\"light\"},\"paper_bgcolor\":\"white\",\"plot_bgcolor\":\"#E5ECF6\",\"polar\":{\"angularaxis\":{\"gridcolor\":\"white\",\"linecolor\":\"white\",\"ticks\":\"\"},\"bgcolor\":\"#E5ECF6\",\"radialaxis\":{\"gridcolor\":\"white\",\"linecolor\":\"white\",\"ticks\":\"\"}},\"scene\":{\"xaxis\":{\"backgroundcolor\":\"#E5ECF6\",\"gridcolor\":\"white\",\"gridwidth\":2,\"linecolor\":\"white\",\"showbackground\":true,\"ticks\":\"\",\"zerolinecolor\":\"white\"},\"yaxis\":{\"backgroundcolor\":\"#E5ECF6\",\"gridcolor\":\"white\",\"gridwidth\":2,\"linecolor\":\"white\",\"showbackground\":true,\"ticks\":\"\",\"zerolinecolor\":\"white\"},\"zaxis\":{\"backgroundcolor\":\"#E5ECF6\",\"gridcolor\":\"white\",\"gridwidth\":2,\"linecolor\":\"white\",\"showbackground\":true,\"ticks\":\"\",\"zerolinecolor\":\"white\"}},\"shapedefaults\":{\"line\":{\"color\":\"#2a3f5f\"}},\"ternary\":{\"aaxis\":{\"gridcolor\":\"white\",\"linecolor\":\"white\",\"ticks\":\"\"},\"baxis\":{\"gridcolor\":\"white\",\"linecolor\":\"white\",\"ticks\":\"\"},\"bgcolor\":\"#E5ECF6\",\"caxis\":{\"gridcolor\":\"white\",\"linecolor\":\"white\",\"ticks\":\"\"}},\"title\":{\"x\":0.05},\"xaxis\":{\"automargin\":true,\"gridcolor\":\"white\",\"linecolor\":\"white\",\"ticks\":\"\",\"title\":{\"standoff\":15},\"zerolinecolor\":\"white\",\"zerolinewidth\":2},\"yaxis\":{\"automargin\":true,\"gridcolor\":\"white\",\"linecolor\":\"white\",\"ticks\":\"\",\"title\":{\"standoff\":15},\"zerolinecolor\":\"white\",\"zerolinewidth\":2}}},\"title\":{\"text\":\"\"}},                        {\"responsive\": true}                    ).then(function(){\n",
       "                            \n",
       "var gd = document.getElementById('59614c8f-53a4-4243-b39e-fd1a8fc5bec9');\n",
       "var x = new MutationObserver(function (mutations, observer) {{\n",
       "        var display = window.getComputedStyle(gd).display;\n",
       "        if (!display || display === 'none') {{\n",
       "            console.log([gd, 'removed!']);\n",
       "            Plotly.purge(gd);\n",
       "            observer.disconnect();\n",
       "        }}\n",
       "}});\n",
       "\n",
       "// Listen for the removal of the full notebook cells\n",
       "var notebookContainer = gd.closest('#notebook-container');\n",
       "if (notebookContainer) {{\n",
       "    x.observe(notebookContainer, {childList: true});\n",
       "}}\n",
       "\n",
       "// Listen for the clearing of the current output cell\n",
       "var outputEl = gd.closest('.output');\n",
       "if (outputEl) {{\n",
       "    x.observe(outputEl, {childList: true});\n",
       "}}\n",
       "\n",
       "                        })                };                });            </script>        </div>"
      ]
     },
     "metadata": {},
     "output_type": "display_data"
    }
   ],
   "source": [
    "labelsReg_Rec = df.Region.value_counts().index\n",
    "sizesReg_Rec = []\n",
    "\n",
    "for i in labelsReg_Rec:\n",
    "    avg_Reg_Rec = (df[df[\"Region\"] == i][\"Deaths\"].values.sum())/(df[df[\"Region\"] == i][\"Recovered\"].count())\n",
    "    sizesReg_Rec.append(avg_Reg_Rec)\n",
    "\n",
    "fig = {\n",
    "    \"data\" : [\n",
    "        {\n",
    "            \"values\" : sizesReg_Rec,\n",
    "            \"labels\" : labelsReg_Rec,\n",
    "            \"domain\": {\"x\" : [0, .5]},\n",
    "            \"name\"   : \"Death/Recovered Percent\",\n",
    "            \"hoverinfo\" : \"label+percent+name\",\n",
    "            \"hole\"   : .2,\n",
    "            \"type\"   : \"pie\"\n",
    "        }\n",
    "    ],\n",
    "    \"layout\" : {\n",
    "        \"title\" : \"\",\n",
    "        \"annotations\": [\n",
    "            {\n",
    "                \"font\" : {\"size\" : 17},\n",
    "                \"showarrow\" : False,\n",
    "                \"text\" : \"Relation Between Death/Recovered Percent and Region\",\n",
    "                \"x\" : .05,\n",
    "                \"y\" : 1.2\n",
    "            },\n",
    "        ]\n",
    "    }\n",
    "}\n",
    "\n",
    "\n",
    "iplot(fig)"
   ]
  },
  {
   "cell_type": "markdown",
   "id": "9991e6e6",
   "metadata": {
    "papermill": {
     "duration": 0.035543,
     "end_time": "2022-07-10T12:17:38.943523",
     "exception": false,
     "start_time": "2022-07-10T12:17:38.907980",
     "status": "completed"
    },
    "tags": []
   },
   "source": [
    "## Relation Between Recovered/Death Percent and Region\n",
    "<a id = \"13\">  </a>"
   ]
  },
  {
   "cell_type": "code",
   "execution_count": 24,
   "id": "f683fc3b",
   "metadata": {
    "execution": {
     "iopub.execute_input": "2022-07-10T12:17:39.016066Z",
     "iopub.status.busy": "2022-07-10T12:17:39.015321Z",
     "iopub.status.idle": "2022-07-10T12:17:39.062956Z",
     "shell.execute_reply": "2022-07-10T12:17:39.061886Z"
    },
    "papermill": {
     "duration": 0.08636,
     "end_time": "2022-07-10T12:17:39.065423",
     "exception": false,
     "start_time": "2022-07-10T12:17:38.979063",
     "status": "completed"
    },
    "tags": []
   },
   "outputs": [
    {
     "data": {
      "application/vnd.plotly.v1+json": {
       "config": {
        "linkText": "Export to plot.ly",
        "plotlyServerURL": "https://plot.ly",
        "showLink": false
       },
       "data": [
        {
         "domain": {
          "x": [
           0,
           0.5
          ]
         },
         "hole": 0.2,
         "hoverinfo": "label+percent+name",
         "labels": [
          "EasternAfrica",
          "WesternAfrica",
          "Caribbean",
          "SouthernEurope",
          "MiddleAfrica",
          "WesternAsia",
          "SouthAmerica",
          "NorthernEurope",
          "SouthernAsia",
          "South-easternAsia",
          "SouthernAfrica",
          "CentralAmerica",
          "NorthernAfrica",
          "Melanesia",
          "EasternEurope",
          "WesternEurope",
          "NorthernAmerica",
          "EasternAsia",
          "Oceania",
          "CentralAsia"
         ],
         "name": "Recovered/Death Percent",
         "type": "pie",
         "values": [
          1473.9333333333334,
          1733.4166666666667,
          323.6363636363636,
          1273.4,
          1476.0,
          1071.4,
          1240.5,
          1602.75,
          4627.0,
          1086.0,
          97.33333333333333,
          2114.0,
          580.6666666666666,
          14.5,
          2472.5,
          92.5,
          13.0,
          222.0,
          1514.0,
          6028.0
         ]
        }
       ],
       "layout": {
        "annotations": [
         {
          "font": {
           "size": 17
          },
          "showarrow": false,
          "text": "Relation Between Recovered/Death Percent and Region",
          "x": 0.05,
          "y": 1.2
         }
        ],
        "template": {
         "data": {
          "bar": [
           {
            "error_x": {
             "color": "#2a3f5f"
            },
            "error_y": {
             "color": "#2a3f5f"
            },
            "marker": {
             "line": {
              "color": "#E5ECF6",
              "width": 0.5
             },
             "pattern": {
              "fillmode": "overlay",
              "size": 10,
              "solidity": 0.2
             }
            },
            "type": "bar"
           }
          ],
          "barpolar": [
           {
            "marker": {
             "line": {
              "color": "#E5ECF6",
              "width": 0.5
             },
             "pattern": {
              "fillmode": "overlay",
              "size": 10,
              "solidity": 0.2
             }
            },
            "type": "barpolar"
           }
          ],
          "carpet": [
           {
            "aaxis": {
             "endlinecolor": "#2a3f5f",
             "gridcolor": "white",
             "linecolor": "white",
             "minorgridcolor": "white",
             "startlinecolor": "#2a3f5f"
            },
            "baxis": {
             "endlinecolor": "#2a3f5f",
             "gridcolor": "white",
             "linecolor": "white",
             "minorgridcolor": "white",
             "startlinecolor": "#2a3f5f"
            },
            "type": "carpet"
           }
          ],
          "choropleth": [
           {
            "colorbar": {
             "outlinewidth": 0,
             "ticks": ""
            },
            "type": "choropleth"
           }
          ],
          "contour": [
           {
            "colorbar": {
             "outlinewidth": 0,
             "ticks": ""
            },
            "colorscale": [
             [
              0.0,
              "#0d0887"
             ],
             [
              0.1111111111111111,
              "#46039f"
             ],
             [
              0.2222222222222222,
              "#7201a8"
             ],
             [
              0.3333333333333333,
              "#9c179e"
             ],
             [
              0.4444444444444444,
              "#bd3786"
             ],
             [
              0.5555555555555556,
              "#d8576b"
             ],
             [
              0.6666666666666666,
              "#ed7953"
             ],
             [
              0.7777777777777778,
              "#fb9f3a"
             ],
             [
              0.8888888888888888,
              "#fdca26"
             ],
             [
              1.0,
              "#f0f921"
             ]
            ],
            "type": "contour"
           }
          ],
          "contourcarpet": [
           {
            "colorbar": {
             "outlinewidth": 0,
             "ticks": ""
            },
            "type": "contourcarpet"
           }
          ],
          "heatmap": [
           {
            "colorbar": {
             "outlinewidth": 0,
             "ticks": ""
            },
            "colorscale": [
             [
              0.0,
              "#0d0887"
             ],
             [
              0.1111111111111111,
              "#46039f"
             ],
             [
              0.2222222222222222,
              "#7201a8"
             ],
             [
              0.3333333333333333,
              "#9c179e"
             ],
             [
              0.4444444444444444,
              "#bd3786"
             ],
             [
              0.5555555555555556,
              "#d8576b"
             ],
             [
              0.6666666666666666,
              "#ed7953"
             ],
             [
              0.7777777777777778,
              "#fb9f3a"
             ],
             [
              0.8888888888888888,
              "#fdca26"
             ],
             [
              1.0,
              "#f0f921"
             ]
            ],
            "type": "heatmap"
           }
          ],
          "heatmapgl": [
           {
            "colorbar": {
             "outlinewidth": 0,
             "ticks": ""
            },
            "colorscale": [
             [
              0.0,
              "#0d0887"
             ],
             [
              0.1111111111111111,
              "#46039f"
             ],
             [
              0.2222222222222222,
              "#7201a8"
             ],
             [
              0.3333333333333333,
              "#9c179e"
             ],
             [
              0.4444444444444444,
              "#bd3786"
             ],
             [
              0.5555555555555556,
              "#d8576b"
             ],
             [
              0.6666666666666666,
              "#ed7953"
             ],
             [
              0.7777777777777778,
              "#fb9f3a"
             ],
             [
              0.8888888888888888,
              "#fdca26"
             ],
             [
              1.0,
              "#f0f921"
             ]
            ],
            "type": "heatmapgl"
           }
          ],
          "histogram": [
           {
            "marker": {
             "pattern": {
              "fillmode": "overlay",
              "size": 10,
              "solidity": 0.2
             }
            },
            "type": "histogram"
           }
          ],
          "histogram2d": [
           {
            "colorbar": {
             "outlinewidth": 0,
             "ticks": ""
            },
            "colorscale": [
             [
              0.0,
              "#0d0887"
             ],
             [
              0.1111111111111111,
              "#46039f"
             ],
             [
              0.2222222222222222,
              "#7201a8"
             ],
             [
              0.3333333333333333,
              "#9c179e"
             ],
             [
              0.4444444444444444,
              "#bd3786"
             ],
             [
              0.5555555555555556,
              "#d8576b"
             ],
             [
              0.6666666666666666,
              "#ed7953"
             ],
             [
              0.7777777777777778,
              "#fb9f3a"
             ],
             [
              0.8888888888888888,
              "#fdca26"
             ],
             [
              1.0,
              "#f0f921"
             ]
            ],
            "type": "histogram2d"
           }
          ],
          "histogram2dcontour": [
           {
            "colorbar": {
             "outlinewidth": 0,
             "ticks": ""
            },
            "colorscale": [
             [
              0.0,
              "#0d0887"
             ],
             [
              0.1111111111111111,
              "#46039f"
             ],
             [
              0.2222222222222222,
              "#7201a8"
             ],
             [
              0.3333333333333333,
              "#9c179e"
             ],
             [
              0.4444444444444444,
              "#bd3786"
             ],
             [
              0.5555555555555556,
              "#d8576b"
             ],
             [
              0.6666666666666666,
              "#ed7953"
             ],
             [
              0.7777777777777778,
              "#fb9f3a"
             ],
             [
              0.8888888888888888,
              "#fdca26"
             ],
             [
              1.0,
              "#f0f921"
             ]
            ],
            "type": "histogram2dcontour"
           }
          ],
          "mesh3d": [
           {
            "colorbar": {
             "outlinewidth": 0,
             "ticks": ""
            },
            "type": "mesh3d"
           }
          ],
          "parcoords": [
           {
            "line": {
             "colorbar": {
              "outlinewidth": 0,
              "ticks": ""
             }
            },
            "type": "parcoords"
           }
          ],
          "pie": [
           {
            "automargin": true,
            "type": "pie"
           }
          ],
          "scatter": [
           {
            "fillpattern": {
             "fillmode": "overlay",
             "size": 10,
             "solidity": 0.2
            },
            "type": "scatter"
           }
          ],
          "scatter3d": [
           {
            "line": {
             "colorbar": {
              "outlinewidth": 0,
              "ticks": ""
             }
            },
            "marker": {
             "colorbar": {
              "outlinewidth": 0,
              "ticks": ""
             }
            },
            "type": "scatter3d"
           }
          ],
          "scattercarpet": [
           {
            "marker": {
             "colorbar": {
              "outlinewidth": 0,
              "ticks": ""
             }
            },
            "type": "scattercarpet"
           }
          ],
          "scattergeo": [
           {
            "marker": {
             "colorbar": {
              "outlinewidth": 0,
              "ticks": ""
             }
            },
            "type": "scattergeo"
           }
          ],
          "scattergl": [
           {
            "marker": {
             "colorbar": {
              "outlinewidth": 0,
              "ticks": ""
             }
            },
            "type": "scattergl"
           }
          ],
          "scattermapbox": [
           {
            "marker": {
             "colorbar": {
              "outlinewidth": 0,
              "ticks": ""
             }
            },
            "type": "scattermapbox"
           }
          ],
          "scatterpolar": [
           {
            "marker": {
             "colorbar": {
              "outlinewidth": 0,
              "ticks": ""
             }
            },
            "type": "scatterpolar"
           }
          ],
          "scatterpolargl": [
           {
            "marker": {
             "colorbar": {
              "outlinewidth": 0,
              "ticks": ""
             }
            },
            "type": "scatterpolargl"
           }
          ],
          "scatterternary": [
           {
            "marker": {
             "colorbar": {
              "outlinewidth": 0,
              "ticks": ""
             }
            },
            "type": "scatterternary"
           }
          ],
          "surface": [
           {
            "colorbar": {
             "outlinewidth": 0,
             "ticks": ""
            },
            "colorscale": [
             [
              0.0,
              "#0d0887"
             ],
             [
              0.1111111111111111,
              "#46039f"
             ],
             [
              0.2222222222222222,
              "#7201a8"
             ],
             [
              0.3333333333333333,
              "#9c179e"
             ],
             [
              0.4444444444444444,
              "#bd3786"
             ],
             [
              0.5555555555555556,
              "#d8576b"
             ],
             [
              0.6666666666666666,
              "#ed7953"
             ],
             [
              0.7777777777777778,
              "#fb9f3a"
             ],
             [
              0.8888888888888888,
              "#fdca26"
             ],
             [
              1.0,
              "#f0f921"
             ]
            ],
            "type": "surface"
           }
          ],
          "table": [
           {
            "cells": {
             "fill": {
              "color": "#EBF0F8"
             },
             "line": {
              "color": "white"
             }
            },
            "header": {
             "fill": {
              "color": "#C8D4E3"
             },
             "line": {
              "color": "white"
             }
            },
            "type": "table"
           }
          ]
         },
         "layout": {
          "annotationdefaults": {
           "arrowcolor": "#2a3f5f",
           "arrowhead": 0,
           "arrowwidth": 1
          },
          "autotypenumbers": "strict",
          "coloraxis": {
           "colorbar": {
            "outlinewidth": 0,
            "ticks": ""
           }
          },
          "colorscale": {
           "diverging": [
            [
             0,
             "#8e0152"
            ],
            [
             0.1,
             "#c51b7d"
            ],
            [
             0.2,
             "#de77ae"
            ],
            [
             0.3,
             "#f1b6da"
            ],
            [
             0.4,
             "#fde0ef"
            ],
            [
             0.5,
             "#f7f7f7"
            ],
            [
             0.6,
             "#e6f5d0"
            ],
            [
             0.7,
             "#b8e186"
            ],
            [
             0.8,
             "#7fbc41"
            ],
            [
             0.9,
             "#4d9221"
            ],
            [
             1,
             "#276419"
            ]
           ],
           "sequential": [
            [
             0.0,
             "#0d0887"
            ],
            [
             0.1111111111111111,
             "#46039f"
            ],
            [
             0.2222222222222222,
             "#7201a8"
            ],
            [
             0.3333333333333333,
             "#9c179e"
            ],
            [
             0.4444444444444444,
             "#bd3786"
            ],
            [
             0.5555555555555556,
             "#d8576b"
            ],
            [
             0.6666666666666666,
             "#ed7953"
            ],
            [
             0.7777777777777778,
             "#fb9f3a"
            ],
            [
             0.8888888888888888,
             "#fdca26"
            ],
            [
             1.0,
             "#f0f921"
            ]
           ],
           "sequentialminus": [
            [
             0.0,
             "#0d0887"
            ],
            [
             0.1111111111111111,
             "#46039f"
            ],
            [
             0.2222222222222222,
             "#7201a8"
            ],
            [
             0.3333333333333333,
             "#9c179e"
            ],
            [
             0.4444444444444444,
             "#bd3786"
            ],
            [
             0.5555555555555556,
             "#d8576b"
            ],
            [
             0.6666666666666666,
             "#ed7953"
            ],
            [
             0.7777777777777778,
             "#fb9f3a"
            ],
            [
             0.8888888888888888,
             "#fdca26"
            ],
            [
             1.0,
             "#f0f921"
            ]
           ]
          },
          "colorway": [
           "#636efa",
           "#EF553B",
           "#00cc96",
           "#ab63fa",
           "#FFA15A",
           "#19d3f3",
           "#FF6692",
           "#B6E880",
           "#FF97FF",
           "#FECB52"
          ],
          "font": {
           "color": "#2a3f5f"
          },
          "geo": {
           "bgcolor": "white",
           "lakecolor": "white",
           "landcolor": "#E5ECF6",
           "showlakes": true,
           "showland": true,
           "subunitcolor": "white"
          },
          "hoverlabel": {
           "align": "left"
          },
          "hovermode": "closest",
          "mapbox": {
           "style": "light"
          },
          "paper_bgcolor": "white",
          "plot_bgcolor": "#E5ECF6",
          "polar": {
           "angularaxis": {
            "gridcolor": "white",
            "linecolor": "white",
            "ticks": ""
           },
           "bgcolor": "#E5ECF6",
           "radialaxis": {
            "gridcolor": "white",
            "linecolor": "white",
            "ticks": ""
           }
          },
          "scene": {
           "xaxis": {
            "backgroundcolor": "#E5ECF6",
            "gridcolor": "white",
            "gridwidth": 2,
            "linecolor": "white",
            "showbackground": true,
            "ticks": "",
            "zerolinecolor": "white"
           },
           "yaxis": {
            "backgroundcolor": "#E5ECF6",
            "gridcolor": "white",
            "gridwidth": 2,
            "linecolor": "white",
            "showbackground": true,
            "ticks": "",
            "zerolinecolor": "white"
           },
           "zaxis": {
            "backgroundcolor": "#E5ECF6",
            "gridcolor": "white",
            "gridwidth": 2,
            "linecolor": "white",
            "showbackground": true,
            "ticks": "",
            "zerolinecolor": "white"
           }
          },
          "shapedefaults": {
           "line": {
            "color": "#2a3f5f"
           }
          },
          "ternary": {
           "aaxis": {
            "gridcolor": "white",
            "linecolor": "white",
            "ticks": ""
           },
           "baxis": {
            "gridcolor": "white",
            "linecolor": "white",
            "ticks": ""
           },
           "bgcolor": "#E5ECF6",
           "caxis": {
            "gridcolor": "white",
            "linecolor": "white",
            "ticks": ""
           }
          },
          "title": {
           "x": 0.05
          },
          "xaxis": {
           "automargin": true,
           "gridcolor": "white",
           "linecolor": "white",
           "ticks": "",
           "title": {
            "standoff": 15
           },
           "zerolinecolor": "white",
           "zerolinewidth": 2
          },
          "yaxis": {
           "automargin": true,
           "gridcolor": "white",
           "linecolor": "white",
           "ticks": "",
           "title": {
            "standoff": 15
           },
           "zerolinecolor": "white",
           "zerolinewidth": 2
          }
         }
        },
        "title": {
         "text": ""
        }
       }
      },
      "text/html": [
       "<div>                            <div id=\"30f2e2e9-7dff-4780-9e44-6fcd19f70bb9\" class=\"plotly-graph-div\" style=\"height:525px; width:100%;\"></div>            <script type=\"text/javascript\">                require([\"plotly\"], function(Plotly) {                    window.PLOTLYENV=window.PLOTLYENV || {};                                    if (document.getElementById(\"30f2e2e9-7dff-4780-9e44-6fcd19f70bb9\")) {                    Plotly.newPlot(                        \"30f2e2e9-7dff-4780-9e44-6fcd19f70bb9\",                        [{\"domain\":{\"x\":[0,0.5]},\"hole\":0.2,\"hoverinfo\":\"label+percent+name\",\"labels\":[\"EasternAfrica\",\"WesternAfrica\",\"Caribbean\",\"SouthernEurope\",\"MiddleAfrica\",\"WesternAsia\",\"SouthAmerica\",\"NorthernEurope\",\"SouthernAsia\",\"South-easternAsia\",\"SouthernAfrica\",\"CentralAmerica\",\"NorthernAfrica\",\"Melanesia\",\"EasternEurope\",\"WesternEurope\",\"NorthernAmerica\",\"EasternAsia\",\"Oceania\",\"CentralAsia\"],\"name\":\"Recovered/Death Percent\",\"values\":[1473.9333333333334,1733.4166666666667,323.6363636363636,1273.4,1476.0,1071.4,1240.5,1602.75,4627.0,1086.0,97.33333333333333,2114.0,580.6666666666666,14.5,2472.5,92.5,13.0,222.0,1514.0,6028.0],\"type\":\"pie\"}],                        {\"annotations\":[{\"font\":{\"size\":17},\"showarrow\":false,\"text\":\"Relation Between Recovered/Death Percent and Region\",\"x\":0.05,\"y\":1.2}],\"template\":{\"data\":{\"barpolar\":[{\"marker\":{\"line\":{\"color\":\"#E5ECF6\",\"width\":0.5},\"pattern\":{\"fillmode\":\"overlay\",\"size\":10,\"solidity\":0.2}},\"type\":\"barpolar\"}],\"bar\":[{\"error_x\":{\"color\":\"#2a3f5f\"},\"error_y\":{\"color\":\"#2a3f5f\"},\"marker\":{\"line\":{\"color\":\"#E5ECF6\",\"width\":0.5},\"pattern\":{\"fillmode\":\"overlay\",\"size\":10,\"solidity\":0.2}},\"type\":\"bar\"}],\"carpet\":[{\"aaxis\":{\"endlinecolor\":\"#2a3f5f\",\"gridcolor\":\"white\",\"linecolor\":\"white\",\"minorgridcolor\":\"white\",\"startlinecolor\":\"#2a3f5f\"},\"baxis\":{\"endlinecolor\":\"#2a3f5f\",\"gridcolor\":\"white\",\"linecolor\":\"white\",\"minorgridcolor\":\"white\",\"startlinecolor\":\"#2a3f5f\"},\"type\":\"carpet\"}],\"choropleth\":[{\"colorbar\":{\"outlinewidth\":0,\"ticks\":\"\"},\"type\":\"choropleth\"}],\"contourcarpet\":[{\"colorbar\":{\"outlinewidth\":0,\"ticks\":\"\"},\"type\":\"contourcarpet\"}],\"contour\":[{\"colorbar\":{\"outlinewidth\":0,\"ticks\":\"\"},\"colorscale\":[[0.0,\"#0d0887\"],[0.1111111111111111,\"#46039f\"],[0.2222222222222222,\"#7201a8\"],[0.3333333333333333,\"#9c179e\"],[0.4444444444444444,\"#bd3786\"],[0.5555555555555556,\"#d8576b\"],[0.6666666666666666,\"#ed7953\"],[0.7777777777777778,\"#fb9f3a\"],[0.8888888888888888,\"#fdca26\"],[1.0,\"#f0f921\"]],\"type\":\"contour\"}],\"heatmapgl\":[{\"colorbar\":{\"outlinewidth\":0,\"ticks\":\"\"},\"colorscale\":[[0.0,\"#0d0887\"],[0.1111111111111111,\"#46039f\"],[0.2222222222222222,\"#7201a8\"],[0.3333333333333333,\"#9c179e\"],[0.4444444444444444,\"#bd3786\"],[0.5555555555555556,\"#d8576b\"],[0.6666666666666666,\"#ed7953\"],[0.7777777777777778,\"#fb9f3a\"],[0.8888888888888888,\"#fdca26\"],[1.0,\"#f0f921\"]],\"type\":\"heatmapgl\"}],\"heatmap\":[{\"colorbar\":{\"outlinewidth\":0,\"ticks\":\"\"},\"colorscale\":[[0.0,\"#0d0887\"],[0.1111111111111111,\"#46039f\"],[0.2222222222222222,\"#7201a8\"],[0.3333333333333333,\"#9c179e\"],[0.4444444444444444,\"#bd3786\"],[0.5555555555555556,\"#d8576b\"],[0.6666666666666666,\"#ed7953\"],[0.7777777777777778,\"#fb9f3a\"],[0.8888888888888888,\"#fdca26\"],[1.0,\"#f0f921\"]],\"type\":\"heatmap\"}],\"histogram2dcontour\":[{\"colorbar\":{\"outlinewidth\":0,\"ticks\":\"\"},\"colorscale\":[[0.0,\"#0d0887\"],[0.1111111111111111,\"#46039f\"],[0.2222222222222222,\"#7201a8\"],[0.3333333333333333,\"#9c179e\"],[0.4444444444444444,\"#bd3786\"],[0.5555555555555556,\"#d8576b\"],[0.6666666666666666,\"#ed7953\"],[0.7777777777777778,\"#fb9f3a\"],[0.8888888888888888,\"#fdca26\"],[1.0,\"#f0f921\"]],\"type\":\"histogram2dcontour\"}],\"histogram2d\":[{\"colorbar\":{\"outlinewidth\":0,\"ticks\":\"\"},\"colorscale\":[[0.0,\"#0d0887\"],[0.1111111111111111,\"#46039f\"],[0.2222222222222222,\"#7201a8\"],[0.3333333333333333,\"#9c179e\"],[0.4444444444444444,\"#bd3786\"],[0.5555555555555556,\"#d8576b\"],[0.6666666666666666,\"#ed7953\"],[0.7777777777777778,\"#fb9f3a\"],[0.8888888888888888,\"#fdca26\"],[1.0,\"#f0f921\"]],\"type\":\"histogram2d\"}],\"histogram\":[{\"marker\":{\"pattern\":{\"fillmode\":\"overlay\",\"size\":10,\"solidity\":0.2}},\"type\":\"histogram\"}],\"mesh3d\":[{\"colorbar\":{\"outlinewidth\":0,\"ticks\":\"\"},\"type\":\"mesh3d\"}],\"parcoords\":[{\"line\":{\"colorbar\":{\"outlinewidth\":0,\"ticks\":\"\"}},\"type\":\"parcoords\"}],\"pie\":[{\"automargin\":true,\"type\":\"pie\"}],\"scatter3d\":[{\"line\":{\"colorbar\":{\"outlinewidth\":0,\"ticks\":\"\"}},\"marker\":{\"colorbar\":{\"outlinewidth\":0,\"ticks\":\"\"}},\"type\":\"scatter3d\"}],\"scattercarpet\":[{\"marker\":{\"colorbar\":{\"outlinewidth\":0,\"ticks\":\"\"}},\"type\":\"scattercarpet\"}],\"scattergeo\":[{\"marker\":{\"colorbar\":{\"outlinewidth\":0,\"ticks\":\"\"}},\"type\":\"scattergeo\"}],\"scattergl\":[{\"marker\":{\"colorbar\":{\"outlinewidth\":0,\"ticks\":\"\"}},\"type\":\"scattergl\"}],\"scattermapbox\":[{\"marker\":{\"colorbar\":{\"outlinewidth\":0,\"ticks\":\"\"}},\"type\":\"scattermapbox\"}],\"scatterpolargl\":[{\"marker\":{\"colorbar\":{\"outlinewidth\":0,\"ticks\":\"\"}},\"type\":\"scatterpolargl\"}],\"scatterpolar\":[{\"marker\":{\"colorbar\":{\"outlinewidth\":0,\"ticks\":\"\"}},\"type\":\"scatterpolar\"}],\"scatter\":[{\"fillpattern\":{\"fillmode\":\"overlay\",\"size\":10,\"solidity\":0.2},\"type\":\"scatter\"}],\"scatterternary\":[{\"marker\":{\"colorbar\":{\"outlinewidth\":0,\"ticks\":\"\"}},\"type\":\"scatterternary\"}],\"surface\":[{\"colorbar\":{\"outlinewidth\":0,\"ticks\":\"\"},\"colorscale\":[[0.0,\"#0d0887\"],[0.1111111111111111,\"#46039f\"],[0.2222222222222222,\"#7201a8\"],[0.3333333333333333,\"#9c179e\"],[0.4444444444444444,\"#bd3786\"],[0.5555555555555556,\"#d8576b\"],[0.6666666666666666,\"#ed7953\"],[0.7777777777777778,\"#fb9f3a\"],[0.8888888888888888,\"#fdca26\"],[1.0,\"#f0f921\"]],\"type\":\"surface\"}],\"table\":[{\"cells\":{\"fill\":{\"color\":\"#EBF0F8\"},\"line\":{\"color\":\"white\"}},\"header\":{\"fill\":{\"color\":\"#C8D4E3\"},\"line\":{\"color\":\"white\"}},\"type\":\"table\"}]},\"layout\":{\"annotationdefaults\":{\"arrowcolor\":\"#2a3f5f\",\"arrowhead\":0,\"arrowwidth\":1},\"autotypenumbers\":\"strict\",\"coloraxis\":{\"colorbar\":{\"outlinewidth\":0,\"ticks\":\"\"}},\"colorscale\":{\"diverging\":[[0,\"#8e0152\"],[0.1,\"#c51b7d\"],[0.2,\"#de77ae\"],[0.3,\"#f1b6da\"],[0.4,\"#fde0ef\"],[0.5,\"#f7f7f7\"],[0.6,\"#e6f5d0\"],[0.7,\"#b8e186\"],[0.8,\"#7fbc41\"],[0.9,\"#4d9221\"],[1,\"#276419\"]],\"sequential\":[[0.0,\"#0d0887\"],[0.1111111111111111,\"#46039f\"],[0.2222222222222222,\"#7201a8\"],[0.3333333333333333,\"#9c179e\"],[0.4444444444444444,\"#bd3786\"],[0.5555555555555556,\"#d8576b\"],[0.6666666666666666,\"#ed7953\"],[0.7777777777777778,\"#fb9f3a\"],[0.8888888888888888,\"#fdca26\"],[1.0,\"#f0f921\"]],\"sequentialminus\":[[0.0,\"#0d0887\"],[0.1111111111111111,\"#46039f\"],[0.2222222222222222,\"#7201a8\"],[0.3333333333333333,\"#9c179e\"],[0.4444444444444444,\"#bd3786\"],[0.5555555555555556,\"#d8576b\"],[0.6666666666666666,\"#ed7953\"],[0.7777777777777778,\"#fb9f3a\"],[0.8888888888888888,\"#fdca26\"],[1.0,\"#f0f921\"]]},\"colorway\":[\"#636efa\",\"#EF553B\",\"#00cc96\",\"#ab63fa\",\"#FFA15A\",\"#19d3f3\",\"#FF6692\",\"#B6E880\",\"#FF97FF\",\"#FECB52\"],\"font\":{\"color\":\"#2a3f5f\"},\"geo\":{\"bgcolor\":\"white\",\"lakecolor\":\"white\",\"landcolor\":\"#E5ECF6\",\"showlakes\":true,\"showland\":true,\"subunitcolor\":\"white\"},\"hoverlabel\":{\"align\":\"left\"},\"hovermode\":\"closest\",\"mapbox\":{\"style\":\"light\"},\"paper_bgcolor\":\"white\",\"plot_bgcolor\":\"#E5ECF6\",\"polar\":{\"angularaxis\":{\"gridcolor\":\"white\",\"linecolor\":\"white\",\"ticks\":\"\"},\"bgcolor\":\"#E5ECF6\",\"radialaxis\":{\"gridcolor\":\"white\",\"linecolor\":\"white\",\"ticks\":\"\"}},\"scene\":{\"xaxis\":{\"backgroundcolor\":\"#E5ECF6\",\"gridcolor\":\"white\",\"gridwidth\":2,\"linecolor\":\"white\",\"showbackground\":true,\"ticks\":\"\",\"zerolinecolor\":\"white\"},\"yaxis\":{\"backgroundcolor\":\"#E5ECF6\",\"gridcolor\":\"white\",\"gridwidth\":2,\"linecolor\":\"white\",\"showbackground\":true,\"ticks\":\"\",\"zerolinecolor\":\"white\"},\"zaxis\":{\"backgroundcolor\":\"#E5ECF6\",\"gridcolor\":\"white\",\"gridwidth\":2,\"linecolor\":\"white\",\"showbackground\":true,\"ticks\":\"\",\"zerolinecolor\":\"white\"}},\"shapedefaults\":{\"line\":{\"color\":\"#2a3f5f\"}},\"ternary\":{\"aaxis\":{\"gridcolor\":\"white\",\"linecolor\":\"white\",\"ticks\":\"\"},\"baxis\":{\"gridcolor\":\"white\",\"linecolor\":\"white\",\"ticks\":\"\"},\"bgcolor\":\"#E5ECF6\",\"caxis\":{\"gridcolor\":\"white\",\"linecolor\":\"white\",\"ticks\":\"\"}},\"title\":{\"x\":0.05},\"xaxis\":{\"automargin\":true,\"gridcolor\":\"white\",\"linecolor\":\"white\",\"ticks\":\"\",\"title\":{\"standoff\":15},\"zerolinecolor\":\"white\",\"zerolinewidth\":2},\"yaxis\":{\"automargin\":true,\"gridcolor\":\"white\",\"linecolor\":\"white\",\"ticks\":\"\",\"title\":{\"standoff\":15},\"zerolinecolor\":\"white\",\"zerolinewidth\":2}}},\"title\":{\"text\":\"\"}},                        {\"responsive\": true}                    ).then(function(){\n",
       "                            \n",
       "var gd = document.getElementById('30f2e2e9-7dff-4780-9e44-6fcd19f70bb9');\n",
       "var x = new MutationObserver(function (mutations, observer) {{\n",
       "        var display = window.getComputedStyle(gd).display;\n",
       "        if (!display || display === 'none') {{\n",
       "            console.log([gd, 'removed!']);\n",
       "            Plotly.purge(gd);\n",
       "            observer.disconnect();\n",
       "        }}\n",
       "}});\n",
       "\n",
       "// Listen for the removal of the full notebook cells\n",
       "var notebookContainer = gd.closest('#notebook-container');\n",
       "if (notebookContainer) {{\n",
       "    x.observe(notebookContainer, {childList: true});\n",
       "}}\n",
       "\n",
       "// Listen for the clearing of the current output cell\n",
       "var outputEl = gd.closest('.output');\n",
       "if (outputEl) {{\n",
       "    x.observe(outputEl, {childList: true});\n",
       "}}\n",
       "\n",
       "                        })                };                });            </script>        </div>"
      ]
     },
     "metadata": {},
     "output_type": "display_data"
    }
   ],
   "source": [
    "labelsRec_Reg = df.Region.value_counts().index\n",
    "sizesRec_Reg = []\n",
    "\n",
    "for i in labelsRec_Reg:\n",
    "    avg_Rec_Reg = (df[df[\"Region\"] == i][\"Recovered\"].values.sum())/(df[df[\"Region\"] == i][\"Deaths\"].count())\n",
    "    sizesRec_Reg.append(avg_Rec_Reg)\n",
    "\n",
    "fig = {\n",
    "    \"data\" : [\n",
    "        {\n",
    "            \"values\" : sizesRec_Reg,\n",
    "            \"labels\" : labelsRec_Reg,\n",
    "            \"domain\": {\"x\" : [0, .5]},\n",
    "            \"name\"   : \"Recovered/Death Percent\",\n",
    "            \"hoverinfo\" : \"label+percent+name\",\n",
    "            \"hole\"   : .2,\n",
    "            \"type\"   : \"pie\"\n",
    "        }\n",
    "    ],\n",
    "    \"layout\" : {\n",
    "        \"title\" : \"\",\n",
    "        \"annotations\": [\n",
    "            {\n",
    "                \"font\" : {\"size\" : 17},\n",
    "                \"showarrow\" : False,\n",
    "                \"text\" : \"Relation Between Recovered/Death Percent and Region\",\n",
    "                \"x\" : .05,\n",
    "                \"y\" : 1.2\n",
    "            },\n",
    "        ]\n",
    "    }\n",
    "}\n",
    "\n",
    "\n",
    "iplot(fig)"
   ]
  },
  {
   "cell_type": "markdown",
   "id": "02f8b1d5",
   "metadata": {
    "papermill": {
     "duration": 0.040499,
     "end_time": "2022-07-10T12:17:39.144941",
     "exception": false,
     "start_time": "2022-07-10T12:17:39.104442",
     "status": "completed"
    },
    "tags": []
   },
   "source": [
    "## Heatmap for Understanding Relation Between ;\n",
    "<a id = \"7\">  </a>\n",
    "Population Density (per km2, 2017)\n",
    "\n",
    "GDP per capita (current US$)\n",
    "\n",
    "Confirmed\n",
    "\n",
    "Deaths\n",
    "\n",
    "Recovered\n",
    "\n",
    "Population age distribution (0-14, %)\n",
    "\n",
    "Population age distribution (60+ years, %)"
   ]
  },
  {
   "cell_type": "code",
   "execution_count": 25,
   "id": "53940bfc",
   "metadata": {
    "execution": {
     "iopub.execute_input": "2022-07-10T12:17:39.228157Z",
     "iopub.status.busy": "2022-07-10T12:17:39.227411Z",
     "iopub.status.idle": "2022-07-10T12:17:39.238210Z",
     "shell.execute_reply": "2022-07-10T12:17:39.237112Z"
    },
    "papermill": {
     "duration": 0.055364,
     "end_time": "2022-07-10T12:17:39.240538",
     "exception": false,
     "start_time": "2022-07-10T12:17:39.185174",
     "status": "completed"
    },
    "tags": []
   },
   "outputs": [],
   "source": [
    "# Dropping data and converting to float type on selected columns as we did before\n",
    "\n",
    "df_comp = df.copy()\n",
    "df_comp.drop(index = df_comp[df_comp[\"Population age distribution (60+ years, %)\"] == \"...\"].index, inplace = True)\n",
    "df_comp.drop(index = df_comp[df_comp[\"Population age distribution (0-14, %)\"] == \"...\"].index, inplace = True)\n",
    "\n",
    "df_comp = df_comp.astype({\"Population age distribution (0-14, %)\": \"float\",\"Population age distribution (60+ years, %)\" : \"float\" })"
   ]
  },
  {
   "cell_type": "code",
   "execution_count": 26,
   "id": "90b00406",
   "metadata": {
    "execution": {
     "iopub.execute_input": "2022-07-10T12:17:39.325103Z",
     "iopub.status.busy": "2022-07-10T12:17:39.324057Z",
     "iopub.status.idle": "2022-07-10T12:17:39.796843Z",
     "shell.execute_reply": "2022-07-10T12:17:39.795594Z"
    },
    "papermill": {
     "duration": 0.517418,
     "end_time": "2022-07-10T12:17:39.799427",
     "exception": false,
     "start_time": "2022-07-10T12:17:39.282009",
     "status": "completed"
    },
    "tags": []
   },
   "outputs": [
    {
     "data": {
      "image/png": "[encoded data removed]",
      "text/plain": [
       "<Figure size 432x288 with 2 Axes>"
      ]
     },
     "metadata": {
      "needs_background": "light"
     },
     "output_type": "display_data"
    }
   ],
   "source": [
    "list1 = [\"Population density (per km2, 2017)\", \"GDP per capita (current US$)\",\"Confirmed\",\"Deaths\", \"Recovered\", \"Population age distribution (0-14, %)\", \"Population age distribution (60+ years, %)\"]\n",
    "sns.heatmap(df_comp[list1].corr(), annot = True, fmt = \".2f\")\n",
    "\n",
    "plt.show()"
   ]
  },
  {
   "cell_type": "code",
   "execution_count": 27,
   "id": "95d13aae",
   "metadata": {
    "execution": {
     "iopub.execute_input": "2022-07-10T12:17:39.882380Z",
     "iopub.status.busy": "2022-07-10T12:17:39.881917Z",
     "iopub.status.idle": "2022-07-10T12:17:40.289672Z",
     "shell.execute_reply": "2022-07-10T12:17:40.288242Z"
    },
    "papermill": {
     "duration": 0.452777,
     "end_time": "2022-07-10T12:17:40.292553",
     "exception": false,
     "start_time": "2022-07-10T12:17:39.839776",
     "status": "completed"
    },
    "tags": []
   },
   "outputs": [
    {
     "data": {
      "image/png": "[encoded data removed]",
      "text/plain": [
       "<Figure size 432x288 with 1 Axes>"
      ]
     },
     "metadata": {
      "needs_background": "light"
     },
     "output_type": "display_data"
    }
   ],
   "source": [
    "thr = 0.1\n",
    "corrb = df_comp[list1].corr()\n",
    "corrd = (corrb.values < -thr) | (corrb.values > thr)&  (corrb.values != 1)\n",
    "\n",
    "sns.heatmap(corrd, annot = df_comp[list1].corr(), fmt = \".2f\", xticklabels = list1, yticklabels = list1, cbar = False)\n",
    "plt.show()"
   ]
  },
  {
   "cell_type": "markdown",
   "id": "0e216661",
   "metadata": {
    "papermill": {
     "duration": 0.040722,
     "end_time": "2022-07-10T12:17:40.374643",
     "exception": false,
     "start_time": "2022-07-10T12:17:40.333921",
     "status": "completed"
    },
    "tags": []
   },
   "source": [
    "## Linear Regression\n",
    "<a id = \"8\">  </a>"
   ]
  },
  {
   "cell_type": "code",
   "execution_count": 28,
   "id": "c3faae44",
   "metadata": {
    "execution": {
     "iopub.execute_input": "2022-07-10T12:17:40.459592Z",
     "iopub.status.busy": "2022-07-10T12:17:40.458434Z",
     "iopub.status.idle": "2022-07-10T12:17:40.668254Z",
     "shell.execute_reply": "2022-07-10T12:17:40.666915Z"
    },
    "papermill": {
     "duration": 0.255556,
     "end_time": "2022-07-10T12:17:40.671703",
     "exception": false,
     "start_time": "2022-07-10T12:17:40.416147",
     "status": "completed"
    },
    "tags": []
   },
   "outputs": [
    {
     "data": {
      "image/png": "[encoded data removed]",
      "text/plain": [
       "<Figure size 432x288 with 1 Axes>"
      ]
     },
     "metadata": {
      "needs_background": "light"
     },
     "output_type": "display_data"
    },
    {
     "name": "stdout",
     "output_type": "stream",
     "text": [
      "r_score:  0.2647254136067657\n"
     ]
    }
   ],
   "source": [
    "from sklearn.metrics import r2_score\n",
    "\n",
    "plt.scatter(df_comp.Confirmed, df_comp.Deaths)\n",
    "plt.xlabel(\"Confirmed\")\n",
    "plt.ylabel(\"Deaths\")\n",
    "\n",
    "lr = LinearRegression()\n",
    "x = df_comp.Confirmed.values.reshape(-1, 1)\n",
    "y = df_comp.Deaths.values.reshape(-1, 1)\n",
    "\n",
    "lr.fit(x, y)\n",
    "\n",
    "y_head = lr.predict(x)\n",
    "plt.plot(x, y_head, color = \"red\")\n",
    "\n",
    "plt.show()\n",
    "\n",
    "print(\"r_score: \", r2_score(y,y_head))"
   ]
  },
  {
   "cell_type": "code",
   "execution_count": 29,
   "id": "b714f249",
   "metadata": {
    "execution": {
     "iopub.execute_input": "2022-07-10T12:17:40.760682Z",
     "iopub.status.busy": "2022-07-10T12:17:40.759916Z",
     "iopub.status.idle": "2022-07-10T12:17:40.780057Z",
     "shell.execute_reply": "2022-07-10T12:17:40.778938Z"
    },
    "papermill": {
     "duration": 0.066695,
     "end_time": "2022-07-10T12:17:40.782265",
     "exception": false,
     "start_time": "2022-07-10T12:17:40.715570",
     "status": "completed"
    },
    "tags": []
   },
   "outputs": [
    {
     "data": {
      "text/html": [
       "<div>\n",
       "<style scoped>\n",
       "    .dataframe tbody tr th:only-of-type {\n",
       "        vertical-align: middle;\n",
       "    }\n",
       "\n",
       "    .dataframe tbody tr th {\n",
       "        vertical-align: top;\n",
       "    }\n",
       "\n",
       "    .dataframe thead th {\n",
       "        text-align: right;\n",
       "    }\n",
       "</style>\n",
       "<table border=\"1\" class=\"dataframe\">\n",
       "  <thead>\n",
       "    <tr style=\"text-align: right;\">\n",
       "      <th></th>\n",
       "      <th>country</th>\n",
       "      <th>Region</th>\n",
       "      <th>Population density (per km2, 2017)</th>\n",
       "      <th>GDP: Gross domestic product (million current US$)</th>\n",
       "      <th>GDP per capita (current US$)</th>\n",
       "      <th>Confirmed</th>\n",
       "      <th>Deaths</th>\n",
       "      <th>Recovered</th>\n",
       "      <th>Population age distribution (0-14, %)</th>\n",
       "      <th>Population age distribution (60+ years, %)</th>\n",
       "    </tr>\n",
       "  </thead>\n",
       "  <tbody>\n",
       "    <tr>\n",
       "      <th>0</th>\n",
       "      <td>Albania</td>\n",
       "      <td>SouthernEurope</td>\n",
       "      <td>106.9</td>\n",
       "      <td>11541</td>\n",
       "      <td>3984.2</td>\n",
       "      <td>4880</td>\n",
       "      <td>144</td>\n",
       "      <td>2745</td>\n",
       "      <td>17.4</td>\n",
       "      <td>19.0</td>\n",
       "    </tr>\n",
       "    <tr>\n",
       "      <th>1</th>\n",
       "      <td>Andorra</td>\n",
       "      <td>SouthernEurope</td>\n",
       "      <td>163.8</td>\n",
       "      <td>2812</td>\n",
       "      <td>39896.4</td>\n",
       "      <td>907</td>\n",
       "      <td>52</td>\n",
       "      <td>803</td>\n",
       "      <td>14.4</td>\n",
       "      <td>19.0</td>\n",
       "    </tr>\n",
       "    <tr>\n",
       "      <th>2</th>\n",
       "      <td>Angola</td>\n",
       "      <td>MiddleAfrica</td>\n",
       "      <td>23.9</td>\n",
       "      <td>117955</td>\n",
       "      <td>4714.1</td>\n",
       "      <td>950</td>\n",
       "      <td>41</td>\n",
       "      <td>242</td>\n",
       "      <td>46.8</td>\n",
       "      <td>4.0</td>\n",
       "    </tr>\n",
       "    <tr>\n",
       "      <th>3</th>\n",
       "      <td>Antigua and Barbuda</td>\n",
       "      <td>Caribbean</td>\n",
       "      <td>231.8</td>\n",
       "      <td>1356</td>\n",
       "      <td>14764.5</td>\n",
       "      <td>86</td>\n",
       "      <td>3</td>\n",
       "      <td>65</td>\n",
       "      <td>23.9</td>\n",
       "      <td>10.9</td>\n",
       "    </tr>\n",
       "    <tr>\n",
       "      <th>4</th>\n",
       "      <td>Bahamas</td>\n",
       "      <td>Caribbean</td>\n",
       "      <td>39.5</td>\n",
       "      <td>8854</td>\n",
       "      <td>22817.2</td>\n",
       "      <td>382</td>\n",
       "      <td>11</td>\n",
       "      <td>91</td>\n",
       "      <td>20.5</td>\n",
       "      <td>13.5</td>\n",
       "    </tr>\n",
       "    <tr>\n",
       "      <th>...</th>\n",
       "      <td>...</td>\n",
       "      <td>...</td>\n",
       "      <td>...</td>\n",
       "      <td>...</td>\n",
       "      <td>...</td>\n",
       "      <td>...</td>\n",
       "      <td>...</td>\n",
       "      <td>...</td>\n",
       "      <td>...</td>\n",
       "      <td>...</td>\n",
       "    </tr>\n",
       "    <tr>\n",
       "      <th>88</th>\n",
       "      <td>Uruguay</td>\n",
       "      <td>SouthAmerica</td>\n",
       "      <td>19.8</td>\n",
       "      <td>53442</td>\n",
       "      <td>15573.8</td>\n",
       "      <td>1202</td>\n",
       "      <td>35</td>\n",
       "      <td>951</td>\n",
       "      <td>21.1</td>\n",
       "      <td>19.5</td>\n",
       "    </tr>\n",
       "    <tr>\n",
       "      <th>89</th>\n",
       "      <td>Western Sahara</td>\n",
       "      <td>NorthernAfrica</td>\n",
       "      <td>2.1</td>\n",
       "      <td>-99</td>\n",
       "      <td>-99.0</td>\n",
       "      <td>10</td>\n",
       "      <td>1</td>\n",
       "      <td>8</td>\n",
       "      <td>28.1</td>\n",
       "      <td>5.4</td>\n",
       "    </tr>\n",
       "    <tr>\n",
       "      <th>90</th>\n",
       "      <td>Yemen</td>\n",
       "      <td>WesternAsia</td>\n",
       "      <td>53.5</td>\n",
       "      <td>29688</td>\n",
       "      <td>1106.4</td>\n",
       "      <td>1691</td>\n",
       "      <td>483</td>\n",
       "      <td>833</td>\n",
       "      <td>39.9</td>\n",
       "      <td>4.6</td>\n",
       "    </tr>\n",
       "    <tr>\n",
       "      <th>91</th>\n",
       "      <td>Zambia</td>\n",
       "      <td>EasternAfrica</td>\n",
       "      <td>23.0</td>\n",
       "      <td>21255</td>\n",
       "      <td>1311.1</td>\n",
       "      <td>4552</td>\n",
       "      <td>140</td>\n",
       "      <td>2815</td>\n",
       "      <td>44.8</td>\n",
       "      <td>3.7</td>\n",
       "    </tr>\n",
       "    <tr>\n",
       "      <th>92</th>\n",
       "      <td>Zimbabwe</td>\n",
       "      <td>EasternAfrica</td>\n",
       "      <td>42.7</td>\n",
       "      <td>13893</td>\n",
       "      <td>890.4</td>\n",
       "      <td>2704</td>\n",
       "      <td>36</td>\n",
       "      <td>542</td>\n",
       "      <td>41.2</td>\n",
       "      <td>4.2</td>\n",
       "    </tr>\n",
       "  </tbody>\n",
       "</table>\n",
       "<p>93 rows × 10 columns</p>\n",
       "</div>"
      ],
      "text/plain": [
       "                country          Region  Population density (per km2, 2017)  \\\n",
       "0               Albania  SouthernEurope                               106.9   \n",
       "1               Andorra  SouthernEurope                               163.8   \n",
       "2                Angola    MiddleAfrica                                23.9   \n",
       "3   Antigua and Barbuda       Caribbean                               231.8   \n",
       "4               Bahamas       Caribbean                                39.5   \n",
       "..                  ...             ...                                 ...   \n",
       "88              Uruguay    SouthAmerica                                19.8   \n",
       "89       Western Sahara  NorthernAfrica                                 2.1   \n",
       "90                Yemen     WesternAsia                                53.5   \n",
       "91               Zambia   EasternAfrica                                23.0   \n",
       "92             Zimbabwe   EasternAfrica                                42.7   \n",
       "\n",
       "    GDP: Gross domestic product (million current US$)  \\\n",
       "0                                               11541   \n",
       "1                                                2812   \n",
       "2                                              117955   \n",
       "3                                                1356   \n",
       "4                                                8854   \n",
       "..                                                ...   \n",
       "88                                              53442   \n",
       "89                                                -99   \n",
       "90                                              29688   \n",
       "91                                              21255   \n",
       "92                                              13893   \n",
       "\n",
       "    GDP per capita (current US$)  Confirmed  Deaths  Recovered  \\\n",
       "0                         3984.2       4880     144       2745   \n",
       "1                        39896.4        907      52        803   \n",
       "2                         4714.1        950      41        242   \n",
       "3                        14764.5         86       3         65   \n",
       "4                        22817.2        382      11         91   \n",
       "..                           ...        ...     ...        ...   \n",
       "88                       15573.8       1202      35        951   \n",
       "89                         -99.0         10       1          8   \n",
       "90                        1106.4       1691     483        833   \n",
       "91                        1311.1       4552     140       2815   \n",
       "92                         890.4       2704      36        542   \n",
       "\n",
       "   Population age distribution (0-14, %)  \\\n",
       "0                                   17.4   \n",
       "1                                   14.4   \n",
       "2                                   46.8   \n",
       "3                                   23.9   \n",
       "4                                   20.5   \n",
       "..                                   ...   \n",
       "88                                  21.1   \n",
       "89                                  28.1   \n",
       "90                                  39.9   \n",
       "91                                  44.8   \n",
       "92                                  41.2   \n",
       "\n",
       "   Population age distribution (60+ years, %)  \n",
       "0                                        19.0  \n",
       "1                                        19.0  \n",
       "2                                         4.0  \n",
       "3                                        10.9  \n",
       "4                                        13.5  \n",
       "..                                        ...  \n",
       "88                                       19.5  \n",
       "89                                        5.4  \n",
       "90                                        4.6  \n",
       "91                                        3.7  \n",
       "92                                        4.2  \n",
       "\n",
       "[93 rows x 10 columns]"
      ]
     },
     "execution_count": 29,
     "metadata": {},
     "output_type": "execute_result"
    }
   ],
   "source": [
    "df"
   ]
  },
  {
   "cell_type": "markdown",
   "id": "a4580963",
   "metadata": {
    "papermill": {
     "duration": 0.040483,
     "end_time": "2022-07-10T12:17:40.863866",
     "exception": false,
     "start_time": "2022-07-10T12:17:40.823383",
     "status": "completed"
    },
    "tags": []
   },
   "source": [
    "## Multiple Linear Regression\n",
    "<a id = \"9\">  </a>"
   ]
  },
  {
   "cell_type": "code",
   "execution_count": 30,
   "id": "7e11d47a",
   "metadata": {
    "execution": {
     "iopub.execute_input": "2022-07-10T12:17:40.951991Z",
     "iopub.status.busy": "2022-07-10T12:17:40.950748Z",
     "iopub.status.idle": "2022-07-10T12:17:41.147304Z",
     "shell.execute_reply": "2022-07-10T12:17:41.146106Z"
    },
    "papermill": {
     "duration": 0.242995,
     "end_time": "2022-07-10T12:17:41.150536",
     "exception": false,
     "start_time": "2022-07-10T12:17:40.907541",
     "status": "completed"
    },
    "tags": []
   },
   "outputs": [
    {
     "data": {
      "image/png": "[encoded data removed]",
      "text/plain": [
       "<Figure size 432x288 with 1 Axes>"
      ]
     },
     "metadata": {
      "needs_background": "light"
     },
     "output_type": "display_data"
    },
    {
     "name": "stdout",
     "output_type": "stream",
     "text": [
      "r_score:  0.2739308950340872\n"
     ]
    }
   ],
   "source": [
    "from sklearn.metrics import r2_score\n",
    "\n",
    "x = df_comp.iloc[:,[2,4,5]].values\n",
    "y = df_comp.Deaths.values.reshape(-1, 1)\n",
    "\n",
    "\n",
    "mlr = LinearRegression()\n",
    "mlr.fit(x,y)\n",
    "\n",
    "y_head = mlr.predict(x)\n",
    "\n",
    "\n",
    "plt.plot(x, y_head, color = \"red\")\n",
    "\n",
    "plt.show()\n",
    "\n",
    "\n",
    "print(\"r_score: \", r2_score(y,y_head))\n"
   ]
  },
  {
   "cell_type": "markdown",
   "id": "beff686f",
   "metadata": {
    "papermill": {
     "duration": 0.042646,
     "end_time": "2022-07-10T12:17:41.235661",
     "exception": false,
     "start_time": "2022-07-10T12:17:41.193015",
     "status": "completed"
    },
    "tags": []
   },
   "source": [
    "## Polynomial Regression\n",
    "<a id = \"10\">  </a>"
   ]
  },
  {
   "cell_type": "code",
   "execution_count": 31,
   "id": "26a170a9",
   "metadata": {
    "execution": {
     "iopub.execute_input": "2022-07-10T12:17:41.324770Z",
     "iopub.status.busy": "2022-07-10T12:17:41.323563Z",
     "iopub.status.idle": "2022-07-10T12:17:41.494234Z",
     "shell.execute_reply": "2022-07-10T12:17:41.493090Z"
    },
    "papermill": {
     "duration": 0.218489,
     "end_time": "2022-07-10T12:17:41.497552",
     "exception": false,
     "start_time": "2022-07-10T12:17:41.279063",
     "status": "completed"
    },
    "tags": []
   },
   "outputs": [
    {
     "data": {
      "image/png": "[encoded data removed]",
      "text/plain": [
       "<Figure size 432x288 with 1 Axes>"
      ]
     },
     "metadata": {
      "needs_background": "light"
     },
     "output_type": "display_data"
    },
    {
     "name": "stdout",
     "output_type": "stream",
     "text": [
      "r_score:  -0.6494048595903754\n"
     ]
    }
   ],
   "source": [
    "from sklearn.preprocessing import PolynomialFeatures\n",
    "from sklearn.metrics import r2_score\n",
    "\n",
    "\n",
    "x = df_comp.Confirmed.values.reshape(-1, 1)\n",
    "y = df_comp.Recovered.values.reshape(-1, 1)\n",
    "\n",
    "plt.scatter(x, y)\n",
    "plt.xlabel(\"Confirmed\")\n",
    "plt.ylabel(\"Recovered\")\n",
    "\n",
    "pr = PolynomialFeatures(degree = 2)\n",
    "\n",
    "x_p = pr.fit_transform(x)\n",
    "linear_regression = LinearRegression()\n",
    "linear_regression.fit(x_p, y)\n",
    "\n",
    "\n",
    "y_head = linear_regression.predict(x_p)\n",
    "\n",
    "import operator\n",
    "sort_axis = operator.itemgetter(0)\n",
    "sorted_zip = sorted(zip(x, y_head), key=sort_axis)\n",
    "x, y_head = zip(*sorted_zip)\n",
    "\n",
    "plt.plot(x, y_head, color = \"red\", label = \"poly\")\n",
    "plt.legend()\n",
    "plt.show()\n",
    "\n",
    "print(\"r_score: \", r2_score(y,y_head))"
   ]
  },
  {
   "cell_type": "markdown",
   "id": "21f3ecaa",
   "metadata": {
    "papermill": {
     "duration": 0.041686,
     "end_time": "2022-07-10T12:17:41.582124",
     "exception": false,
     "start_time": "2022-07-10T12:17:41.540438",
     "status": "completed"
    },
    "tags": []
   },
   "source": [
    "## Random Forest Regression\n",
    "<a id = \"11\">  </a>"
   ]
  },
  {
   "cell_type": "code",
   "execution_count": 32,
   "id": "31a564d6",
   "metadata": {
    "execution": {
     "iopub.execute_input": "2022-07-10T12:17:41.668068Z",
     "iopub.status.busy": "2022-07-10T12:17:41.667717Z",
     "iopub.status.idle": "2022-07-10T12:17:49.882131Z",
     "shell.execute_reply": "2022-07-10T12:17:49.880840Z"
    },
    "papermill": {
     "duration": 8.260851,
     "end_time": "2022-07-10T12:17:49.885277",
     "exception": false,
     "start_time": "2022-07-10T12:17:41.624426",
     "status": "completed"
    },
    "tags": []
   },
   "outputs": [
    {
     "name": "stderr",
     "output_type": "stream",
     "text": [
      "/opt/conda/lib/python3.7/site-packages/ipykernel_launcher.py:7: DataConversionWarning:\n",
      "\n",
      "A column-vector y was passed when a 1d array was expected. Please change the shape of y to (n_samples,), for example using ravel().\n",
      "\n"
     ]
    },
    {
     "data": {
      "image/png": "[encoded data removed]",
      "text/plain": [
       "<Figure size 432x288 with 1 Axes>"
      ]
     },
     "metadata": {
      "needs_background": "light"
     },
     "output_type": "display_data"
    }
   ],
   "source": [
    "from sklearn.ensemble import RandomForestRegressor\n",
    "\n",
    "x = df_comp.Confirmed.values.reshape(-1, 1)\n",
    "y = df_comp.Deaths.values.reshape(-1, 1)\n",
    "\n",
    "rf = RandomForestRegressor(n_estimators = 100, random_state = 42)\n",
    "rf.fit(x, y)\n",
    "\n",
    "x_ = np.arange(min(x), max(x), 0.01).reshape(-1, 1)\n",
    "y_head = rf.predict(x_)\n",
    "\n",
    "plt.scatter(x, y)\n",
    "plt.plot(x_, y_head, color = \"red\")\n",
    "plt.legend()\n",
    "plt.show()"
   ]
  }
 ],
 "metadata": {
  "kernelspec": {
   "display_name": "Python 3",
   "language": "python",
   "name": "python3"
  },
  "language_info": {
   "codemirror_mode": {
    "name": "ipython",
    "version": 3
   },
   "file_extension": ".py",
   "mimetype": "text/x-python",
   "name": "python",
   "nbconvert_exporter": "python",
   "pygments_lexer": "ipython3",
   "version": "3.7.12"
  },
  "papermill": {
   "default_parameters": {},
   "duration": 29.071452,
   "end_time": "2022-07-10T12:17:51.153366",
   "environment_variables": {},
   "exception": null,
   "input_path": "__notebook__.ipynb",
   "output_path": "__notebook__.ipynb",
   "parameters": {},
   "start_time": "2022-07-10T12:17:22.081914",
   "version": "2.3.4"
  }
 },
 "nbformat": 4,
 "nbformat_minor": 5
}
